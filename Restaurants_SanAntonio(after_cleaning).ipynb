{
 "cells": [
  {
   "cell_type": "markdown",
   "metadata": {},
   "source": [
    "# Restaurants San Antonio"
   ]
  },
  {
   "cell_type": "code",
   "execution_count": 4,
   "metadata": {},
   "outputs": [
    {
     "data": {
      "text/html": [
       "<div>\n",
       "<style scoped>\n",
       "    .dataframe tbody tr th:only-of-type {\n",
       "        vertical-align: middle;\n",
       "    }\n",
       "\n",
       "    .dataframe tbody tr th {\n",
       "        vertical-align: top;\n",
       "    }\n",
       "\n",
       "    .dataframe thead th {\n",
       "        text-align: right;\n",
       "    }\n",
       "</style>\n",
       "<table border=\"1\" class=\"dataframe\">\n",
       "  <thead>\n",
       "    <tr style=\"text-align: right;\">\n",
       "      <th></th>\n",
       "      <th>id</th>\n",
       "      <th>position</th>\n",
       "      <th>name</th>\n",
       "      <th>score</th>\n",
       "      <th>ratings</th>\n",
       "      <th>category</th>\n",
       "      <th>price_range</th>\n",
       "      <th>lat</th>\n",
       "      <th>lng</th>\n",
       "      <th>address</th>\n",
       "      <th>city</th>\n",
       "      <th>state</th>\n",
       "      <th>zip_code</th>\n",
       "    </tr>\n",
       "  </thead>\n",
       "  <tbody>\n",
       "    <tr>\n",
       "      <th>0</th>\n",
       "      <td>34517</td>\n",
       "      <td>6</td>\n",
       "      <td>Fiesta Liquor #3</td>\n",
       "      <td>3.0</td>\n",
       "      <td>NaN</td>\n",
       "      <td>African, Ethiopian, Vegetarian, Alcohol, Liquo...</td>\n",
       "      <td>$</td>\n",
       "      <td>29.574320</td>\n",
       "      <td>-98.515210</td>\n",
       "      <td>14415 Blanco Road</td>\n",
       "      <td>San Antonio</td>\n",
       "      <td>TX</td>\n",
       "      <td>78248.0</td>\n",
       "    </tr>\n",
       "    <tr>\n",
       "      <th>1</th>\n",
       "      <td>34518</td>\n",
       "      <td>5</td>\n",
       "      <td>Squeezers Juice Bar</td>\n",
       "      <td>5.0</td>\n",
       "      <td>11.0</td>\n",
       "      <td>Black-owned, Juice and Smoothies, African, Hea...</td>\n",
       "      <td>NaN</td>\n",
       "      <td>29.441000</td>\n",
       "      <td>-98.485470</td>\n",
       "      <td>914 East Elmira Street</td>\n",
       "      <td>San Antonio</td>\n",
       "      <td>TX</td>\n",
       "      <td>78212.0</td>\n",
       "    </tr>\n",
       "    <tr>\n",
       "      <th>2</th>\n",
       "      <td>34520</td>\n",
       "      <td>76</td>\n",
       "      <td>Spinster Sisters Co. (427 Lombrano St)</td>\n",
       "      <td>NaN</td>\n",
       "      <td>NaN</td>\n",
       "      <td>Home &amp;amp; Personal Care, Everyday Essentials,...</td>\n",
       "      <td>$</td>\n",
       "      <td>29.441910</td>\n",
       "      <td>-98.510550</td>\n",
       "      <td>427 Lombrano St</td>\n",
       "      <td>San Antonio</td>\n",
       "      <td>TX</td>\n",
       "      <td>78207.0</td>\n",
       "    </tr>\n",
       "    <tr>\n",
       "      <th>3</th>\n",
       "      <td>34521</td>\n",
       "      <td>194</td>\n",
       "      <td>Yaya's Thai Fusion</td>\n",
       "      <td>NaN</td>\n",
       "      <td>NaN</td>\n",
       "      <td>Thai, Asian, Noodles</td>\n",
       "      <td>$</td>\n",
       "      <td>29.480652</td>\n",
       "      <td>-98.607908</td>\n",
       "      <td>5819 Northwest Loop 410</td>\n",
       "      <td>San Antonio</td>\n",
       "      <td>TX</td>\n",
       "      <td>78238.0</td>\n",
       "    </tr>\n",
       "    <tr>\n",
       "      <th>4</th>\n",
       "      <td>34522</td>\n",
       "      <td>192</td>\n",
       "      <td>Willie's Grill &amp;amp; Icehouse (7911 Interstate)</td>\n",
       "      <td>4.5</td>\n",
       "      <td>92.0</td>\n",
       "      <td>American, Burgers, Family Friendly, Wings, Alc...</td>\n",
       "      <td>$</td>\n",
       "      <td>29.350066</td>\n",
       "      <td>-98.537672</td>\n",
       "      <td>7911 Interstate 35 Access Rd</td>\n",
       "      <td>San Antonio</td>\n",
       "      <td>TX</td>\n",
       "      <td>78224.0</td>\n",
       "    </tr>\n",
       "  </tbody>\n",
       "</table>\n",
       "</div>"
      ],
      "text/plain": [
       "      id  position                                             name  score  \\\n",
       "0  34517         6                                 Fiesta Liquor #3    3.0   \n",
       "1  34518         5                              Squeezers Juice Bar    5.0   \n",
       "2  34520        76           Spinster Sisters Co. (427 Lombrano St)    NaN   \n",
       "3  34521       194                               Yaya's Thai Fusion    NaN   \n",
       "4  34522       192  Willie's Grill &amp; Icehouse (7911 Interstate)    4.5   \n",
       "\n",
       "   ratings                                           category price_range  \\\n",
       "0      NaN  African, Ethiopian, Vegetarian, Alcohol, Liquo...           $   \n",
       "1     11.0  Black-owned, Juice and Smoothies, African, Hea...         NaN   \n",
       "2      NaN  Home &amp; Personal Care, Everyday Essentials,...           $   \n",
       "3      NaN                               Thai, Asian, Noodles           $   \n",
       "4     92.0  American, Burgers, Family Friendly, Wings, Alc...           $   \n",
       "\n",
       "         lat        lng                       address          city state  \\\n",
       "0  29.574320 -98.515210             14415 Blanco Road   San Antonio    TX   \n",
       "1  29.441000 -98.485470        914 East Elmira Street   San Antonio    TX   \n",
       "2  29.441910 -98.510550               427 Lombrano St   San Antonio    TX   \n",
       "3  29.480652 -98.607908       5819 Northwest Loop 410   San Antonio    TX   \n",
       "4  29.350066 -98.537672  7911 Interstate 35 Access Rd   San Antonio    TX   \n",
       "\n",
       "   zip_code  \n",
       "0   78248.0  \n",
       "1   78212.0  \n",
       "2   78207.0  \n",
       "3   78238.0  \n",
       "4   78224.0  "
      ]
     },
     "execution_count": 4,
     "metadata": {},
     "output_type": "execute_result"
    }
   ],
   "source": [
    "# Dependencies and Setup\n",
    "import pandas as pd\n",
    "import numpy as np\n",
    "from pathlib import Path\n",
    "from sklearn.linear_model import LinearRegression\n",
    "from sklearn.metrics import mean_squared_error, r2_score\n",
    "from sklearn.preprocessing import LabelEncoder\n",
    "import hvplot.pandas\n",
    "import matplotlib.pyplot as plt\n",
    "from sklearn import metrics\n",
    "\n",
    "# File to Load\n",
    "file_path = Path(\"Restaurants_SanAntonio.csv\")\n",
    "\n",
    "# Read Restaurant Data File and store into Pandas DataFrame\n",
    "restaurants_df = pd.read_csv(file_path)\n",
    "\n",
    "# Display the first few rows of the DataFrame\n",
    "restaurants_df.head()\n"
   ]
  },
  {
   "cell_type": "code",
   "execution_count": 5,
   "metadata": {},
   "outputs": [
    {
     "name": "stdout",
     "output_type": "stream",
     "text": [
      "<class 'pandas.core.frame.DataFrame'>\n",
      "RangeIndex: 1215 entries, 0 to 1214\n",
      "Data columns (total 13 columns):\n",
      " #   Column       Non-Null Count  Dtype  \n",
      "---  ------       --------------  -----  \n",
      " 0   id           1215 non-null   int64  \n",
      " 1   position     1215 non-null   int64  \n",
      " 2   name         1215 non-null   object \n",
      " 3   score        672 non-null    float64\n",
      " 4   ratings      671 non-null    float64\n",
      " 5   category     1214 non-null   object \n",
      " 6   price_range  955 non-null    object \n",
      " 7   lat          1215 non-null   float64\n",
      " 8   lng          1215 non-null   float64\n",
      " 9   address      1215 non-null   object \n",
      " 10  city         1215 non-null   object \n",
      " 11  state        1215 non-null   object \n",
      " 12  zip_code     1214 non-null   float64\n",
      "dtypes: float64(5), int64(2), object(6)\n",
      "memory usage: 123.5+ KB\n"
     ]
    }
   ],
   "source": [
    "restaurants_df.info()"
   ]
  },
  {
   "cell_type": "code",
   "execution_count": 6,
   "metadata": {},
   "outputs": [
    {
     "name": "stdout",
     "output_type": "stream",
     "text": [
      "id               0\n",
      "position         0\n",
      "name             0\n",
      "score          543\n",
      "ratings        544\n",
      "category         1\n",
      "price_range    260\n",
      "lat              0\n",
      "lng              0\n",
      "address          0\n",
      "city             0\n",
      "state            0\n",
      "zip_code         1\n",
      "dtype: int64\n"
     ]
    }
   ],
   "source": [
    "# Check which columns have NaN values and how many NaN values are present in each column\n",
    "nan_counts = restaurants_df.isnull().sum()\n",
    "\n",
    "# Display the count of NaN values in each column\n",
    "print(nan_counts)"
   ]
  },
  {
   "cell_type": "code",
   "execution_count": 7,
   "metadata": {},
   "outputs": [
    {
     "data": {
      "text/html": [
       "<div>\n",
       "<style scoped>\n",
       "    .dataframe tbody tr th:only-of-type {\n",
       "        vertical-align: middle;\n",
       "    }\n",
       "\n",
       "    .dataframe tbody tr th {\n",
       "        vertical-align: top;\n",
       "    }\n",
       "\n",
       "    .dataframe thead th {\n",
       "        text-align: right;\n",
       "    }\n",
       "</style>\n",
       "<table border=\"1\" class=\"dataframe\">\n",
       "  <thead>\n",
       "    <tr style=\"text-align: right;\">\n",
       "      <th></th>\n",
       "      <th>id</th>\n",
       "      <th>position</th>\n",
       "      <th>name</th>\n",
       "      <th>score</th>\n",
       "      <th>ratings</th>\n",
       "      <th>category</th>\n",
       "      <th>price_range</th>\n",
       "      <th>lat</th>\n",
       "      <th>lng</th>\n",
       "      <th>address</th>\n",
       "      <th>city</th>\n",
       "      <th>state</th>\n",
       "      <th>zip_code</th>\n",
       "    </tr>\n",
       "  </thead>\n",
       "  <tbody>\n",
       "    <tr>\n",
       "      <th>4</th>\n",
       "      <td>34522</td>\n",
       "      <td>192</td>\n",
       "      <td>Willie's Grill &amp;amp; Icehouse (7911 Interstate)</td>\n",
       "      <td>4.5</td>\n",
       "      <td>92.0</td>\n",
       "      <td>American, Burgers, Family Friendly, Wings, Alc...</td>\n",
       "      <td>$</td>\n",
       "      <td>29.350066</td>\n",
       "      <td>-98.537672</td>\n",
       "      <td>7911 Interstate 35 Access Rd</td>\n",
       "      <td>San Antonio</td>\n",
       "      <td>TX</td>\n",
       "      <td>78224.0</td>\n",
       "    </tr>\n",
       "    <tr>\n",
       "      <th>8</th>\n",
       "      <td>34527</td>\n",
       "      <td>190</td>\n",
       "      <td>McDonald's¬Æ (1643 Pleasanton Road)</td>\n",
       "      <td>4.2</td>\n",
       "      <td>167.0</td>\n",
       "      <td>American, Fast Food, Burgers</td>\n",
       "      <td>$</td>\n",
       "      <td>29.366126</td>\n",
       "      <td>-98.504588</td>\n",
       "      <td>1643 Pleasanton Rd</td>\n",
       "      <td>San Antonio</td>\n",
       "      <td>TX</td>\n",
       "      <td>78221.0</td>\n",
       "    </tr>\n",
       "    <tr>\n",
       "      <th>25</th>\n",
       "      <td>34547</td>\n",
       "      <td>215</td>\n",
       "      <td>The Philly Cheesesteak Company (1011 N Loop 16...</td>\n",
       "      <td>3.9</td>\n",
       "      <td>41.0</td>\n",
       "      <td>American, Sandwiches, Desserts</td>\n",
       "      <td>$</td>\n",
       "      <td>29.611140</td>\n",
       "      <td>-98.477810</td>\n",
       "      <td>1011 N Loop 1604 E</td>\n",
       "      <td>San Antonio</td>\n",
       "      <td>TX</td>\n",
       "      <td>78232.0</td>\n",
       "    </tr>\n",
       "    <tr>\n",
       "      <th>28</th>\n",
       "      <td>34551</td>\n",
       "      <td>171</td>\n",
       "      <td>Zito's Delicatessen &amp;amp; Sandwich Shop (8800 ...</td>\n",
       "      <td>4.8</td>\n",
       "      <td>11.0</td>\n",
       "      <td>Sandwiches, American, Healthy</td>\n",
       "      <td>$$</td>\n",
       "      <td>29.520260</td>\n",
       "      <td>-98.460730</td>\n",
       "      <td>8800 Broadway St</td>\n",
       "      <td>San Antonio</td>\n",
       "      <td>TX</td>\n",
       "      <td>78217.0</td>\n",
       "    </tr>\n",
       "    <tr>\n",
       "      <th>29</th>\n",
       "      <td>34552</td>\n",
       "      <td>160</td>\n",
       "      <td>Nachos Muchachos (427 Lombrano St,)</td>\n",
       "      <td>3.2</td>\n",
       "      <td>33.0</td>\n",
       "      <td>American, Mexican, Snacks</td>\n",
       "      <td>$$</td>\n",
       "      <td>29.441910</td>\n",
       "      <td>-98.510550</td>\n",
       "      <td>427 Lombrano St</td>\n",
       "      <td>San Antonio</td>\n",
       "      <td>TX</td>\n",
       "      <td>78207.0</td>\n",
       "    </tr>\n",
       "  </tbody>\n",
       "</table>\n",
       "</div>"
      ],
      "text/plain": [
       "       id  position                                               name  score  \\\n",
       "4   34522       192    Willie's Grill &amp; Icehouse (7911 Interstate)    4.5   \n",
       "8   34527       190                McDonald's¬Æ (1643 Pleasanton Road)    4.2   \n",
       "25  34547       215  The Philly Cheesesteak Company (1011 N Loop 16...    3.9   \n",
       "28  34551       171  Zito's Delicatessen &amp; Sandwich Shop (8800 ...    4.8   \n",
       "29  34552       160                Nachos Muchachos (427 Lombrano St,)    3.2   \n",
       "\n",
       "    ratings                                           category price_range  \\\n",
       "4      92.0  American, Burgers, Family Friendly, Wings, Alc...           $   \n",
       "8     167.0                       American, Fast Food, Burgers           $   \n",
       "25     41.0                     American, Sandwiches, Desserts           $   \n",
       "28     11.0                      Sandwiches, American, Healthy          $$   \n",
       "29     33.0                          American, Mexican, Snacks          $$   \n",
       "\n",
       "          lat        lng                       address          city state  \\\n",
       "4   29.350066 -98.537672  7911 Interstate 35 Access Rd   San Antonio    TX   \n",
       "8   29.366126 -98.504588            1643 Pleasanton Rd   San Antonio    TX   \n",
       "25  29.611140 -98.477810            1011 N Loop 1604 E   San Antonio    TX   \n",
       "28  29.520260 -98.460730              8800 Broadway St   San Antonio    TX   \n",
       "29  29.441910 -98.510550               427 Lombrano St   San Antonio    TX   \n",
       "\n",
       "    zip_code  \n",
       "4    78224.0  \n",
       "8    78221.0  \n",
       "25   78232.0  \n",
       "28   78217.0  \n",
       "29   78207.0  "
      ]
     },
     "execution_count": 7,
     "metadata": {},
     "output_type": "execute_result"
    }
   ],
   "source": [
    "# Removing rows with NaN values and storing the result in a new DataFrame\n",
    "restaurants_df_cleaned = restaurants_df.dropna()\n",
    "\n",
    "# Display the first few rows of the cleaned DataFrame\n",
    "restaurants_df_cleaned.head()"
   ]
  },
  {
   "cell_type": "code",
   "execution_count": 8,
   "metadata": {},
   "outputs": [
    {
     "name": "stdout",
     "output_type": "stream",
     "text": [
      "<class 'pandas.core.frame.DataFrame'>\n",
      "Int64Index: 558 entries, 4 to 1214\n",
      "Data columns (total 13 columns):\n",
      " #   Column       Non-Null Count  Dtype  \n",
      "---  ------       --------------  -----  \n",
      " 0   id           558 non-null    int64  \n",
      " 1   position     558 non-null    int64  \n",
      " 2   name         558 non-null    object \n",
      " 3   score        558 non-null    float64\n",
      " 4   ratings      558 non-null    float64\n",
      " 5   category     558 non-null    object \n",
      " 6   price_range  558 non-null    object \n",
      " 7   lat          558 non-null    float64\n",
      " 8   lng          558 non-null    float64\n",
      " 9   address      558 non-null    object \n",
      " 10  city         558 non-null    object \n",
      " 11  state        558 non-null    object \n",
      " 12  zip_code     558 non-null    float64\n",
      "dtypes: float64(5), int64(2), object(6)\n",
      "memory usage: 61.0+ KB\n"
     ]
    }
   ],
   "source": [
    "restaurants_df_cleaned.info()"
   ]
  },
  {
   "cell_type": "code",
   "execution_count": 9,
   "metadata": {},
   "outputs": [],
   "source": [
    "#Saving the file\n",
    "restaurants_df_cleaned.to_csv(\"Output/restaurants_df.csv\", index=False, header=True)"
   ]
  },
  {
   "cell_type": "markdown",
   "metadata": {},
   "source": [
    "## Data Preparation"
   ]
  },
  {
   "cell_type": "code",
   "execution_count": 10,
   "metadata": {},
   "outputs": [
    {
     "data": {
      "text/html": [
       "<div>\n",
       "<style scoped>\n",
       "    .dataframe tbody tr th:only-of-type {\n",
       "        vertical-align: middle;\n",
       "    }\n",
       "\n",
       "    .dataframe tbody tr th {\n",
       "        vertical-align: top;\n",
       "    }\n",
       "\n",
       "    .dataframe thead th {\n",
       "        text-align: right;\n",
       "    }\n",
       "</style>\n",
       "<table border=\"1\" class=\"dataframe\">\n",
       "  <thead>\n",
       "    <tr style=\"text-align: right;\">\n",
       "      <th></th>\n",
       "      <th>id</th>\n",
       "      <th>position</th>\n",
       "      <th>name</th>\n",
       "      <th>score</th>\n",
       "      <th>ratings</th>\n",
       "      <th>category</th>\n",
       "      <th>price_range</th>\n",
       "      <th>lat</th>\n",
       "      <th>lng</th>\n",
       "      <th>address</th>\n",
       "      <th>city</th>\n",
       "      <th>state</th>\n",
       "      <th>zip_code</th>\n",
       "    </tr>\n",
       "  </thead>\n",
       "  <tbody>\n",
       "    <tr>\n",
       "      <th>4</th>\n",
       "      <td>34522</td>\n",
       "      <td>192</td>\n",
       "      <td>Willie's Grill &amp;amp; Icehouse (7911 Interstate)</td>\n",
       "      <td>4.5</td>\n",
       "      <td>92.0</td>\n",
       "      <td>American, Burgers, Family Friendly, Wings, Alc...</td>\n",
       "      <td>$</td>\n",
       "      <td>29.350066</td>\n",
       "      <td>-98.537672</td>\n",
       "      <td>7911 Interstate 35 Access Rd</td>\n",
       "      <td>San Antonio</td>\n",
       "      <td>TX</td>\n",
       "      <td>78224.0</td>\n",
       "    </tr>\n",
       "    <tr>\n",
       "      <th>8</th>\n",
       "      <td>34527</td>\n",
       "      <td>190</td>\n",
       "      <td>McDonald's¬Æ (1643 Pleasanton Road)</td>\n",
       "      <td>4.2</td>\n",
       "      <td>167.0</td>\n",
       "      <td>American, Fast Food, Burgers</td>\n",
       "      <td>$</td>\n",
       "      <td>29.366126</td>\n",
       "      <td>-98.504588</td>\n",
       "      <td>1643 Pleasanton Rd</td>\n",
       "      <td>San Antonio</td>\n",
       "      <td>TX</td>\n",
       "      <td>78221.0</td>\n",
       "    </tr>\n",
       "    <tr>\n",
       "      <th>25</th>\n",
       "      <td>34547</td>\n",
       "      <td>215</td>\n",
       "      <td>The Philly Cheesesteak Company (1011 N Loop 16...</td>\n",
       "      <td>3.9</td>\n",
       "      <td>41.0</td>\n",
       "      <td>American, Sandwiches, Desserts</td>\n",
       "      <td>$</td>\n",
       "      <td>29.611140</td>\n",
       "      <td>-98.477810</td>\n",
       "      <td>1011 N Loop 1604 E</td>\n",
       "      <td>San Antonio</td>\n",
       "      <td>TX</td>\n",
       "      <td>78232.0</td>\n",
       "    </tr>\n",
       "    <tr>\n",
       "      <th>28</th>\n",
       "      <td>34551</td>\n",
       "      <td>171</td>\n",
       "      <td>Zito's Delicatessen &amp;amp; Sandwich Shop (8800 ...</td>\n",
       "      <td>4.8</td>\n",
       "      <td>11.0</td>\n",
       "      <td>Sandwiches, American, Healthy</td>\n",
       "      <td>$$</td>\n",
       "      <td>29.520260</td>\n",
       "      <td>-98.460730</td>\n",
       "      <td>8800 Broadway St</td>\n",
       "      <td>San Antonio</td>\n",
       "      <td>TX</td>\n",
       "      <td>78217.0</td>\n",
       "    </tr>\n",
       "    <tr>\n",
       "      <th>29</th>\n",
       "      <td>34552</td>\n",
       "      <td>160</td>\n",
       "      <td>Nachos Muchachos (427 Lombrano St,)</td>\n",
       "      <td>3.2</td>\n",
       "      <td>33.0</td>\n",
       "      <td>American, Mexican, Snacks</td>\n",
       "      <td>$$</td>\n",
       "      <td>29.441910</td>\n",
       "      <td>-98.510550</td>\n",
       "      <td>427 Lombrano St</td>\n",
       "      <td>San Antonio</td>\n",
       "      <td>TX</td>\n",
       "      <td>78207.0</td>\n",
       "    </tr>\n",
       "  </tbody>\n",
       "</table>\n",
       "</div>"
      ],
      "text/plain": [
       "       id  position                                               name  score  \\\n",
       "4   34522       192    Willie's Grill &amp; Icehouse (7911 Interstate)    4.5   \n",
       "8   34527       190                McDonald's¬Æ (1643 Pleasanton Road)    4.2   \n",
       "25  34547       215  The Philly Cheesesteak Company (1011 N Loop 16...    3.9   \n",
       "28  34551       171  Zito's Delicatessen &amp; Sandwich Shop (8800 ...    4.8   \n",
       "29  34552       160                Nachos Muchachos (427 Lombrano St,)    3.2   \n",
       "\n",
       "    ratings                                           category price_range  \\\n",
       "4      92.0  American, Burgers, Family Friendly, Wings, Alc...           $   \n",
       "8     167.0                       American, Fast Food, Burgers           $   \n",
       "25     41.0                     American, Sandwiches, Desserts           $   \n",
       "28     11.0                      Sandwiches, American, Healthy          $$   \n",
       "29     33.0                          American, Mexican, Snacks          $$   \n",
       "\n",
       "          lat        lng                       address          city state  \\\n",
       "4   29.350066 -98.537672  7911 Interstate 35 Access Rd   San Antonio    TX   \n",
       "8   29.366126 -98.504588            1643 Pleasanton Rd   San Antonio    TX   \n",
       "25  29.611140 -98.477810            1011 N Loop 1604 E   San Antonio    TX   \n",
       "28  29.520260 -98.460730              8800 Broadway St   San Antonio    TX   \n",
       "29  29.441910 -98.510550               427 Lombrano St   San Antonio    TX   \n",
       "\n",
       "    zip_code  \n",
       "4    78224.0  \n",
       "8    78221.0  \n",
       "25   78232.0  \n",
       "28   78217.0  \n",
       "29   78207.0  "
      ]
     },
     "execution_count": 10,
     "metadata": {},
     "output_type": "execute_result"
    }
   ],
   "source": [
    "#Make a copy of the DF to edit for Linear Regression\n",
    "clean_copy = restaurants_df_cleaned.copy()\n",
    "clean_copy.head()"
   ]
  },
  {
   "cell_type": "code",
   "execution_count": 11,
   "metadata": {},
   "outputs": [
    {
     "name": "stdout",
     "output_type": "stream",
     "text": [
      "      position  score                                           category  \\\n",
      "4          192    4.5  American, Burgers, Family Friendly, Wings, Alc...   \n",
      "8          190    4.2                       American, Fast Food, Burgers   \n",
      "25         215    3.9                     American, Sandwiches, Desserts   \n",
      "28         171    4.8                      Sandwiches, American, Healthy   \n",
      "29         160    3.2                          American, Mexican, Snacks   \n",
      "...        ...    ...                                                ...   \n",
      "1207       100    4.2                                          Fast Food   \n",
      "1208        92    4.8                       American, Burgers, Fast Food   \n",
      "1209        88    4.6  Mexican, Tex Mex, Breakfast and Brunch, Family...   \n",
      "1211        33    4.7                      Burgers, American, Sandwiches   \n",
      "1214       185    4.5  Fast Food, American, Family Meals, Family Frie...   \n",
      "\n",
      "     price_range  zip_code  \n",
      "4              $   78224.0  \n",
      "8              $   78221.0  \n",
      "25             $   78232.0  \n",
      "28            $$   78217.0  \n",
      "29            $$   78207.0  \n",
      "...          ...       ...  \n",
      "1207           $   78204.0  \n",
      "1208           $   78232.0  \n",
      "1209           $   78223.0  \n",
      "1211           $   78232.0  \n",
      "1214           $   78211.0  \n",
      "\n",
      "[558 rows x 5 columns]\n"
     ]
    }
   ],
   "source": [
    "# position (Restaurant position in the search result)--keep\n",
    "# score (Restaurant score)--going to drop this to predict it\n",
    "# category (Restaurant category)--Maybe keep?? may mean we sacrifice clustering later on\n",
    "# price_range (Restaurant price range - $ = Inexpensive, $$ = Moderately expensive, $$$ = Expensive, $$$$ = Very Expensive) - Source - stackoverflow\n",
    "# zip_code (Zip code)--keep!\n",
    "\n",
    "#drop uneccessary columns\n",
    "clean_copy.drop(columns=['id','name', 'ratings','lat', 'lng', 'address', 'city', 'state'], inplace=True)\n",
    "print(clean_copy)"
   ]
  },
  {
   "cell_type": "code",
   "execution_count": 12,
   "metadata": {},
   "outputs": [
    {
     "data": {
      "text/plain": [
       "Mexican, Latin American, New Mexican                             22\n",
       "Burgers, American, Sandwiches                                    17\n",
       "Mexican, Tex Mex, Breakfast and Brunch, Family Meals              7\n",
       "American, Burgers, Fast Food                                      6\n",
       "Breakfast and Brunch, American, Sandwiches                        5\n",
       "                                                                 ..\n",
       "American, Diner                                                   1\n",
       "Burgers, American, Sandwiches, Seafood, Bar Food, Cafe, Wings     1\n",
       "Mexican, American                                                 1\n",
       "American, Burgers, Comfort Food, Pasta, Sandwich                  1\n",
       "Sandwich, Deli                                                    1\n",
       "Name: category, Length: 390, dtype: int64"
      ]
     },
     "execution_count": 12,
     "metadata": {},
     "output_type": "execute_result"
    }
   ],
   "source": [
    "#look at the category column to see if there are consistent values\n",
    "clean_copy['category'].value_counts()"
   ]
  },
  {
   "cell_type": "code",
   "execution_count": 13,
   "metadata": {},
   "outputs": [],
   "source": [
    "#categories are overlapping, drop the category column\n",
    "clean_copy.drop(columns=['category'], inplace  =True)"
   ]
  },
  {
   "cell_type": "code",
   "execution_count": 14,
   "metadata": {},
   "outputs": [
    {
     "data": {
      "text/plain": [
       "position         int64\n",
       "score          float64\n",
       "price_range     object\n",
       "zip_code       float64\n",
       "dtype: object"
      ]
     },
     "execution_count": 14,
     "metadata": {},
     "output_type": "execute_result"
    }
   ],
   "source": [
    "#check dtypes\n",
    "clean_copy.dtypes"
   ]
  },
  {
   "cell_type": "code",
   "execution_count": 15,
   "metadata": {},
   "outputs": [
    {
     "data": {
      "text/html": [
       "<div>\n",
       "<style scoped>\n",
       "    .dataframe tbody tr th:only-of-type {\n",
       "        vertical-align: middle;\n",
       "    }\n",
       "\n",
       "    .dataframe tbody tr th {\n",
       "        vertical-align: top;\n",
       "    }\n",
       "\n",
       "    .dataframe thead th {\n",
       "        text-align: right;\n",
       "    }\n",
       "</style>\n",
       "<table border=\"1\" class=\"dataframe\">\n",
       "  <thead>\n",
       "    <tr style=\"text-align: right;\">\n",
       "      <th></th>\n",
       "      <th>position</th>\n",
       "      <th>score</th>\n",
       "      <th>price_range</th>\n",
       "      <th>zip_code</th>\n",
       "    </tr>\n",
       "  </thead>\n",
       "  <tbody>\n",
       "    <tr>\n",
       "      <th>4</th>\n",
       "      <td>192</td>\n",
       "      <td>4.5</td>\n",
       "      <td>2</td>\n",
       "      <td>78224.0</td>\n",
       "    </tr>\n",
       "    <tr>\n",
       "      <th>8</th>\n",
       "      <td>190</td>\n",
       "      <td>4.2</td>\n",
       "      <td>2</td>\n",
       "      <td>78221.0</td>\n",
       "    </tr>\n",
       "    <tr>\n",
       "      <th>25</th>\n",
       "      <td>215</td>\n",
       "      <td>3.9</td>\n",
       "      <td>2</td>\n",
       "      <td>78232.0</td>\n",
       "    </tr>\n",
       "    <tr>\n",
       "      <th>28</th>\n",
       "      <td>171</td>\n",
       "      <td>4.8</td>\n",
       "      <td>3</td>\n",
       "      <td>78217.0</td>\n",
       "    </tr>\n",
       "    <tr>\n",
       "      <th>29</th>\n",
       "      <td>160</td>\n",
       "      <td>3.2</td>\n",
       "      <td>3</td>\n",
       "      <td>78207.0</td>\n",
       "    </tr>\n",
       "    <tr>\n",
       "      <th>...</th>\n",
       "      <td>...</td>\n",
       "      <td>...</td>\n",
       "      <td>...</td>\n",
       "      <td>...</td>\n",
       "    </tr>\n",
       "    <tr>\n",
       "      <th>1207</th>\n",
       "      <td>100</td>\n",
       "      <td>4.2</td>\n",
       "      <td>2</td>\n",
       "      <td>78204.0</td>\n",
       "    </tr>\n",
       "    <tr>\n",
       "      <th>1208</th>\n",
       "      <td>92</td>\n",
       "      <td>4.8</td>\n",
       "      <td>2</td>\n",
       "      <td>78232.0</td>\n",
       "    </tr>\n",
       "    <tr>\n",
       "      <th>1209</th>\n",
       "      <td>88</td>\n",
       "      <td>4.6</td>\n",
       "      <td>2</td>\n",
       "      <td>78223.0</td>\n",
       "    </tr>\n",
       "    <tr>\n",
       "      <th>1211</th>\n",
       "      <td>33</td>\n",
       "      <td>4.7</td>\n",
       "      <td>2</td>\n",
       "      <td>78232.0</td>\n",
       "    </tr>\n",
       "    <tr>\n",
       "      <th>1214</th>\n",
       "      <td>185</td>\n",
       "      <td>4.5</td>\n",
       "      <td>2</td>\n",
       "      <td>78211.0</td>\n",
       "    </tr>\n",
       "  </tbody>\n",
       "</table>\n",
       "<p>558 rows × 4 columns</p>\n",
       "</div>"
      ],
      "text/plain": [
       "      position  score  price_range  zip_code\n",
       "4          192    4.5            2   78224.0\n",
       "8          190    4.2            2   78221.0\n",
       "25         215    3.9            2   78232.0\n",
       "28         171    4.8            3   78217.0\n",
       "29         160    3.2            3   78207.0\n",
       "...        ...    ...          ...       ...\n",
       "1207       100    4.2            2   78204.0\n",
       "1208        92    4.8            2   78232.0\n",
       "1209        88    4.6            2   78223.0\n",
       "1211        33    4.7            2   78232.0\n",
       "1214       185    4.5            2   78211.0\n",
       "\n",
       "[558 rows x 4 columns]"
      ]
     },
     "execution_count": 15,
     "metadata": {},
     "output_type": "execute_result"
    }
   ],
   "source": [
    "#Convert the 'price_range' column from $ to number values\n",
    "clean_copy['price_range'] = clean_copy['price_range'].replace('$', '2')\n",
    "clean_copy['price_range'] = clean_copy['price_range'].replace('$$', '3')\n",
    "clean_copy['price_range'] = clean_copy['price_range'].replace('$$$', '4')\n",
    "clean_copy['price_range'] = clean_copy['price_range'].replace('$$$$', '5')\n",
    "\n",
    "#convert price_range to int\n",
    "clean_copy['price_range']=clean_copy['price_range'].astype(int)\n",
    "clean_copy"
   ]
  },
  {
   "cell_type": "code",
   "execution_count": 16,
   "metadata": {},
   "outputs": [
    {
     "data": {
      "text/plain": [
       "position         int64\n",
       "score          float64\n",
       "price_range      int32\n",
       "zip_code       float64\n",
       "dtype: object"
      ]
     },
     "execution_count": 16,
     "metadata": {},
     "output_type": "execute_result"
    }
   ],
   "source": [
    "clean_copy.dtypes"
   ]
  },
  {
   "cell_type": "code",
   "execution_count": 17,
   "metadata": {},
   "outputs": [
    {
     "data": {
      "text/html": [
       "<div>\n",
       "<style scoped>\n",
       "    .dataframe tbody tr th:only-of-type {\n",
       "        vertical-align: middle;\n",
       "    }\n",
       "\n",
       "    .dataframe tbody tr th {\n",
       "        vertical-align: top;\n",
       "    }\n",
       "\n",
       "    .dataframe thead th {\n",
       "        text-align: right;\n",
       "    }\n",
       "</style>\n",
       "<table border=\"1\" class=\"dataframe\">\n",
       "  <thead>\n",
       "    <tr style=\"text-align: right;\">\n",
       "      <th></th>\n",
       "      <th>position</th>\n",
       "      <th>score</th>\n",
       "      <th>price_range</th>\n",
       "      <th>zip_code</th>\n",
       "    </tr>\n",
       "  </thead>\n",
       "  <tbody>\n",
       "    <tr>\n",
       "      <th>4</th>\n",
       "      <td>192</td>\n",
       "      <td>4.5</td>\n",
       "      <td>2</td>\n",
       "      <td>78224.0</td>\n",
       "    </tr>\n",
       "    <tr>\n",
       "      <th>8</th>\n",
       "      <td>190</td>\n",
       "      <td>4.2</td>\n",
       "      <td>2</td>\n",
       "      <td>78221.0</td>\n",
       "    </tr>\n",
       "    <tr>\n",
       "      <th>25</th>\n",
       "      <td>215</td>\n",
       "      <td>3.9</td>\n",
       "      <td>2</td>\n",
       "      <td>78232.0</td>\n",
       "    </tr>\n",
       "    <tr>\n",
       "      <th>28</th>\n",
       "      <td>171</td>\n",
       "      <td>4.8</td>\n",
       "      <td>3</td>\n",
       "      <td>78217.0</td>\n",
       "    </tr>\n",
       "    <tr>\n",
       "      <th>29</th>\n",
       "      <td>160</td>\n",
       "      <td>3.2</td>\n",
       "      <td>3</td>\n",
       "      <td>78207.0</td>\n",
       "    </tr>\n",
       "  </tbody>\n",
       "</table>\n",
       "</div>"
      ],
      "text/plain": [
       "    position  score  price_range  zip_code\n",
       "4        192    4.5            2   78224.0\n",
       "8        190    4.2            2   78221.0\n",
       "25       215    3.9            2   78232.0\n",
       "28       171    4.8            3   78217.0\n",
       "29       160    3.2            3   78207.0"
      ]
     },
     "execution_count": 17,
     "metadata": {},
     "output_type": "execute_result"
    }
   ],
   "source": [
    "# Convert categorical data to numeric with `pd.get_dummies`\n",
    "dummies = pd.get_dummies(clean_copy)\n",
    "dummies.head()"
   ]
  },
  {
   "cell_type": "code",
   "execution_count": 18,
   "metadata": {},
   "outputs": [],
   "source": [
    "# #use LabelEncoder to create categorical variables for training and testing\n",
    "# T = LabelEncoder()                 \n",
    "# clean_copy['position'] = T.fit_transform(clean_copy['position'])\n",
    "# clean_copy['price_range'] = T.fit_transform(clean_copy['price_range'])\n",
    "# clean_copy['zip_code'] = T.fit_transform(clean_copy['zip_code'])\n",
    "# clean_copy['score'] = T.fit_transform(clean_copy['score'])\n",
    "# clean_copy.head()"
   ]
  },
  {
   "cell_type": "code",
   "execution_count": 19,
   "metadata": {},
   "outputs": [
    {
     "data": {
      "text/plain": [
       "Index(['position', 'score', 'price_range', 'zip_code'], dtype='object')"
      ]
     },
     "execution_count": 19,
     "metadata": {},
     "output_type": "execute_result"
    }
   ],
   "source": [
    "dummies.columns"
   ]
  },
  {
   "cell_type": "code",
   "execution_count": 20,
   "metadata": {},
   "outputs": [],
   "source": [
    "# Split our preprocessed data into our features and target arrays\n",
    "X = dummies.drop('score', axis=1).values\n",
    "y = dummies['score'].values"
   ]
  },
  {
   "cell_type": "code",
   "execution_count": 21,
   "metadata": {},
   "outputs": [],
   "source": [
    "# #select the 'position','price_range', 'zip_code' and set y=score\n",
    "# X= clean_copy.drop(columns=['score'])\n",
    "# y = clean_copy['score']"
   ]
  },
  {
   "cell_type": "code",
   "execution_count": 22,
   "metadata": {},
   "outputs": [
    {
     "data": {
      "text/plain": [
       "(558, 3)"
      ]
     },
     "execution_count": 22,
     "metadata": {},
     "output_type": "execute_result"
    }
   ],
   "source": [
    "# Reformat data of the independent variable X as a single-column array\n",
    "X.shape"
   ]
  },
  {
   "cell_type": "code",
   "execution_count": 23,
   "metadata": {},
   "outputs": [
    {
     "data": {
      "text/plain": [
       "(558,)"
      ]
     },
     "execution_count": 23,
     "metadata": {},
     "output_type": "execute_result"
    }
   ],
   "source": [
    "# Reformat data of the independent variable y as a single-column array\n",
    "y.shape"
   ]
  },
  {
   "cell_type": "code",
   "execution_count": 24,
   "metadata": {},
   "outputs": [],
   "source": [
    "# Split data into training and testing\n",
    "from sklearn.model_selection import train_test_split\n",
    "X_train, X_test, y_train, y_test = train_test_split(X, y, random_state=42)"
   ]
  },
  {
   "cell_type": "code",
   "execution_count": 25,
   "metadata": {},
   "outputs": [
    {
     "name": "stdout",
     "output_type": "stream",
     "text": [
      "<class 'pandas.core.frame.DataFrame'>\n",
      "Int64Index: 558 entries, 4 to 1214\n",
      "Data columns (total 4 columns):\n",
      " #   Column       Non-Null Count  Dtype  \n",
      "---  ------       --------------  -----  \n",
      " 0   position     558 non-null    int64  \n",
      " 1   score        558 non-null    float64\n",
      " 2   price_range  558 non-null    int32  \n",
      " 3   zip_code     558 non-null    float64\n",
      "dtypes: float64(2), int32(1), int64(1)\n",
      "memory usage: 19.6 KB\n"
     ]
    }
   ],
   "source": [
    "#Check DF info to see what types to call in scaler\n",
    "dummies.info()"
   ]
  },
  {
   "cell_type": "code",
   "execution_count": 26,
   "metadata": {},
   "outputs": [],
   "source": [
    "# #taking numeric values\n",
    "# from sklearn.preprocessing import StandardScaler\n",
    "# num_values1=clean_copy.select_dtypes(['float64', 'int64']).columns\n",
    "# scaler = StandardScaler()\n",
    "# scaler.fit(clean_copy[num_values1])\n",
    "# clean_copy[num_values1]=scaler.transform(clean_copy[num_values1])"
   ]
  },
  {
   "cell_type": "code",
   "execution_count": 27,
   "metadata": {},
   "outputs": [],
   "source": [
    "#taking numeric values\n",
    "from sklearn.preprocessing import StandardScaler\n",
    "\n",
    "# Create a StandardScaler instances\n",
    "scaler = StandardScaler()\n",
    "\n",
    "# Fit the StandardScaler\n",
    "X_scaler = scaler.fit(X_train)\n",
    "\n",
    "# Scale the data\n",
    "X_train_scaled = X_scaler.transform(X_train)\n",
    "X_test_scaled = X_scaler.transform(X_test)"
   ]
  },
  {
   "cell_type": "code",
   "execution_count": 28,
   "metadata": {},
   "outputs": [
    {
     "data": {
      "text/html": [
       "<div>\n",
       "<style scoped>\n",
       "    .dataframe tbody tr th:only-of-type {\n",
       "        vertical-align: middle;\n",
       "    }\n",
       "\n",
       "    .dataframe tbody tr th {\n",
       "        vertical-align: top;\n",
       "    }\n",
       "\n",
       "    .dataframe thead th {\n",
       "        text-align: right;\n",
       "    }\n",
       "</style>\n",
       "<table border=\"1\" class=\"dataframe\">\n",
       "  <thead>\n",
       "    <tr style=\"text-align: right;\">\n",
       "      <th></th>\n",
       "      <th>position</th>\n",
       "      <th>score</th>\n",
       "      <th>price_range</th>\n",
       "      <th>zip_code</th>\n",
       "    </tr>\n",
       "  </thead>\n",
       "  <tbody>\n",
       "    <tr>\n",
       "      <th>4</th>\n",
       "      <td>192</td>\n",
       "      <td>4.5</td>\n",
       "      <td>2</td>\n",
       "      <td>78224.0</td>\n",
       "    </tr>\n",
       "    <tr>\n",
       "      <th>8</th>\n",
       "      <td>190</td>\n",
       "      <td>4.2</td>\n",
       "      <td>2</td>\n",
       "      <td>78221.0</td>\n",
       "    </tr>\n",
       "    <tr>\n",
       "      <th>25</th>\n",
       "      <td>215</td>\n",
       "      <td>3.9</td>\n",
       "      <td>2</td>\n",
       "      <td>78232.0</td>\n",
       "    </tr>\n",
       "    <tr>\n",
       "      <th>28</th>\n",
       "      <td>171</td>\n",
       "      <td>4.8</td>\n",
       "      <td>3</td>\n",
       "      <td>78217.0</td>\n",
       "    </tr>\n",
       "    <tr>\n",
       "      <th>29</th>\n",
       "      <td>160</td>\n",
       "      <td>3.2</td>\n",
       "      <td>3</td>\n",
       "      <td>78207.0</td>\n",
       "    </tr>\n",
       "  </tbody>\n",
       "</table>\n",
       "</div>"
      ],
      "text/plain": [
       "    position  score  price_range  zip_code\n",
       "4        192    4.5            2   78224.0\n",
       "8        190    4.2            2   78221.0\n",
       "25       215    3.9            2   78232.0\n",
       "28       171    4.8            3   78217.0\n",
       "29       160    3.2            3   78207.0"
      ]
     },
     "execution_count": 28,
     "metadata": {},
     "output_type": "execute_result"
    }
   ],
   "source": [
    "#scratch work\n",
    "dummies.head()"
   ]
  },
  {
   "cell_type": "markdown",
   "metadata": {},
   "source": [
    "## Building the Linear Regression Model"
   ]
  },
  {
   "cell_type": "code",
   "execution_count": 29,
   "metadata": {},
   "outputs": [],
   "source": [
    "# # Fit to the training data and validate with the test data\n",
    "# from sklearn.svm import SVC\n",
    "# model = SVC(kernel='linear')\n",
    "# model.fit(X_train, y_train)\n",
    "# predictions = model.predict(X_test)\n",
    "# predictions"
   ]
  },
  {
   "cell_type": "code",
   "execution_count": 30,
   "metadata": {},
   "outputs": [
    {
     "data": {
      "text/plain": [
       "LinearRegression()"
      ]
     },
     "execution_count": 30,
     "metadata": {},
     "output_type": "execute_result"
    }
   ],
   "source": [
    "# Create a model with scikit-learn\n",
    "model = LinearRegression()\n",
    "\n",
    "# Fit the data into the model\n",
    "model.fit(X, y)"
   ]
  },
  {
   "cell_type": "code",
   "execution_count": 31,
   "metadata": {},
   "outputs": [
    {
     "name": "stdout",
     "output_type": "stream",
     "text": [
      "Model's slope: [-3.10426143e-04 -4.55623938e-02 -1.61848422e-05]\n",
      "Model's y-intercept: 5.922171298367785\n",
      "Model's formula: y = 5.922171298367785 + -0.0003104261429346426X\n"
     ]
    }
   ],
   "source": [
    "# Display the slope\n",
    "print(f\"Model's slope: {model.coef_}\")\n",
    "\n",
    "# Display the y-intercept\n",
    "print(f\"Model's y-intercept: {model.intercept_}\")\n",
    "\n",
    "# Display the model's best fit line formula\n",
    "print(f\"Model's formula: y = {model.intercept_} + {model.coef_[0]}X\")"
   ]
  },
  {
   "cell_type": "code",
   "execution_count": 32,
   "metadata": {},
   "outputs": [],
   "source": [
    "# Make predictions using the X set\n",
    "predicted_y_values = model.predict(X)"
   ]
  },
  {
   "cell_type": "code",
   "execution_count": 33,
   "metadata": {},
   "outputs": [
    {
     "data": {
      "text/html": [
       "<div>\n",
       "<style scoped>\n",
       "    .dataframe tbody tr th:only-of-type {\n",
       "        vertical-align: middle;\n",
       "    }\n",
       "\n",
       "    .dataframe tbody tr th {\n",
       "        vertical-align: top;\n",
       "    }\n",
       "\n",
       "    .dataframe thead th {\n",
       "        text-align: right;\n",
       "    }\n",
       "</style>\n",
       "<table border=\"1\" class=\"dataframe\">\n",
       "  <thead>\n",
       "    <tr style=\"text-align: right;\">\n",
       "      <th></th>\n",
       "      <th>position</th>\n",
       "      <th>score</th>\n",
       "      <th>price_range</th>\n",
       "      <th>zip_code</th>\n",
       "      <th>score_predicted</th>\n",
       "    </tr>\n",
       "  </thead>\n",
       "  <tbody>\n",
       "    <tr>\n",
       "      <th>4</th>\n",
       "      <td>192</td>\n",
       "      <td>4.5</td>\n",
       "      <td>2</td>\n",
       "      <td>78224.0</td>\n",
       "      <td>4.505402</td>\n",
       "    </tr>\n",
       "    <tr>\n",
       "      <th>8</th>\n",
       "      <td>190</td>\n",
       "      <td>4.2</td>\n",
       "      <td>2</td>\n",
       "      <td>78221.0</td>\n",
       "      <td>4.506071</td>\n",
       "    </tr>\n",
       "    <tr>\n",
       "      <th>25</th>\n",
       "      <td>215</td>\n",
       "      <td>3.9</td>\n",
       "      <td>2</td>\n",
       "      <td>78232.0</td>\n",
       "      <td>4.498132</td>\n",
       "    </tr>\n",
       "    <tr>\n",
       "      <th>28</th>\n",
       "      <td>171</td>\n",
       "      <td>4.8</td>\n",
       "      <td>3</td>\n",
       "      <td>78217.0</td>\n",
       "      <td>4.466471</td>\n",
       "    </tr>\n",
       "    <tr>\n",
       "      <th>29</th>\n",
       "      <td>160</td>\n",
       "      <td>3.2</td>\n",
       "      <td>3</td>\n",
       "      <td>78207.0</td>\n",
       "      <td>4.470048</td>\n",
       "    </tr>\n",
       "  </tbody>\n",
       "</table>\n",
       "</div>"
      ],
      "text/plain": [
       "    position  score  price_range  zip_code  score_predicted\n",
       "4        192    4.5            2   78224.0         4.505402\n",
       "8        190    4.2            2   78221.0         4.506071\n",
       "25       215    3.9            2   78232.0         4.498132\n",
       "28       171    4.8            3   78217.0         4.466471\n",
       "29       160    3.2            3   78207.0         4.470048"
      ]
     },
     "execution_count": 33,
     "metadata": {},
     "output_type": "execute_result"
    }
   ],
   "source": [
    "# Add a column with the predicted scores\n",
    "clean_copy[\"score_predicted\"] = predicted_y_values\n",
    "\n",
    "# Display sample data\n",
    "clean_copy.head()"
   ]
  },
  {
   "cell_type": "code",
   "execution_count": 34,
   "metadata": {},
   "outputs": [
    {
     "data": {},
     "metadata": {},
     "output_type": "display_data"
    },
    {
     "data": {
      "application/vnd.holoviews_exec.v0+json": "",
      "text/html": [
       "<div id='1002'>\n",
       "  <div class=\"bk-root\" id=\"4d0721ff-5a61-4844-bf3b-a93a11774f64\" data-root-id=\"1002\"></div>\n",
       "</div>\n",
       "<script type=\"application/javascript\">(function(root) {\n",
       "  function embed_document(root) {\n",
       "    var docs_json = {\"9e06b097-d44f-4c2c-9101-754d5413b257\":{\"defs\":[{\"extends\":null,\"module\":null,\"name\":\"ReactiveHTML1\",\"overrides\":[],\"properties\":[]},{\"extends\":null,\"module\":null,\"name\":\"FlexBox1\",\"overrides\":[],\"properties\":[{\"default\":\"flex-start\",\"kind\":null,\"name\":\"align_content\"},{\"default\":\"flex-start\",\"kind\":null,\"name\":\"align_items\"},{\"default\":\"row\",\"kind\":null,\"name\":\"flex_direction\"},{\"default\":\"wrap\",\"kind\":null,\"name\":\"flex_wrap\"},{\"default\":\"flex-start\",\"kind\":null,\"name\":\"justify_content\"}]},{\"extends\":null,\"module\":null,\"name\":\"GridStack1\",\"overrides\":[],\"properties\":[{\"default\":\"warn\",\"kind\":null,\"name\":\"mode\"},{\"default\":null,\"kind\":null,\"name\":\"ncols\"},{\"default\":null,\"kind\":null,\"name\":\"nrows\"},{\"default\":true,\"kind\":null,\"name\":\"allow_resize\"},{\"default\":true,\"kind\":null,\"name\":\"allow_drag\"},{\"default\":[],\"kind\":null,\"name\":\"state\"}]},{\"extends\":null,\"module\":null,\"name\":\"click1\",\"overrides\":[],\"properties\":[{\"default\":\"\",\"kind\":null,\"name\":\"terminal_output\"},{\"default\":\"\",\"kind\":null,\"name\":\"debug_name\"},{\"default\":0,\"kind\":null,\"name\":\"clears\"}]},{\"extends\":null,\"module\":null,\"name\":\"NotificationAreaBase1\",\"overrides\":[],\"properties\":[{\"default\":\"bottom-right\",\"kind\":null,\"name\":\"position\"},{\"default\":0,\"kind\":null,\"name\":\"_clear\"}]},{\"extends\":null,\"module\":null,\"name\":\"NotificationArea1\",\"overrides\":[],\"properties\":[{\"default\":[],\"kind\":null,\"name\":\"notifications\"},{\"default\":\"bottom-right\",\"kind\":null,\"name\":\"position\"},{\"default\":0,\"kind\":null,\"name\":\"_clear\"},{\"default\":[{\"background\":\"#ffc107\",\"icon\":{\"className\":\"fas fa-exclamation-triangle\",\"color\":\"white\",\"tagName\":\"i\"},\"type\":\"warning\"},{\"background\":\"#007bff\",\"icon\":{\"className\":\"fas fa-info-circle\",\"color\":\"white\",\"tagName\":\"i\"},\"type\":\"info\"}],\"kind\":null,\"name\":\"types\"}]},{\"extends\":null,\"module\":null,\"name\":\"Notification\",\"overrides\":[],\"properties\":[{\"default\":null,\"kind\":null,\"name\":\"background\"},{\"default\":3000,\"kind\":null,\"name\":\"duration\"},{\"default\":null,\"kind\":null,\"name\":\"icon\"},{\"default\":\"\",\"kind\":null,\"name\":\"message\"},{\"default\":null,\"kind\":null,\"name\":\"notification_type\"},{\"default\":false,\"kind\":null,\"name\":\"_destroyed\"}]},{\"extends\":null,\"module\":null,\"name\":\"TemplateActions1\",\"overrides\":[],\"properties\":[{\"default\":0,\"kind\":null,\"name\":\"open_modal\"},{\"default\":0,\"kind\":null,\"name\":\"close_modal\"}]},{\"extends\":null,\"module\":null,\"name\":\"MaterialTemplateActions1\",\"overrides\":[],\"properties\":[{\"default\":0,\"kind\":null,\"name\":\"open_modal\"},{\"default\":0,\"kind\":null,\"name\":\"close_modal\"}]}],\"roots\":{\"references\":[{\"attributes\":{\"source\":{\"id\":\"1084\"}},\"id\":\"1091\",\"type\":\"CDSView\"},{\"attributes\":{},\"id\":\"1175\",\"type\":\"UnionRenderers\"},{\"attributes\":{},\"id\":\"1014\",\"type\":\"LinearScale\"},{\"attributes\":{\"coordinates\":null,\"group\":null,\"text\":\"Predicted Scores Line Plot\",\"text_color\":\"black\",\"text_font_size\":\"12pt\"},\"id\":\"1008\",\"type\":\"Title\"},{\"attributes\":{\"children\":[[{\"id\":\"1007\"},0,0],[{\"id\":\"1054\"},0,1],[{\"id\":\"1101\"},0,2]]},\"id\":\"1179\",\"type\":\"GridBox\"},{\"attributes\":{},\"id\":\"1025\",\"type\":\"PanTool\"},{\"attributes\":{\"angle\":{\"value\":0.0},\"fill_alpha\":{\"value\":1.0},\"fill_color\":{\"value\":\"blue\"},\"hatch_alpha\":{\"value\":1.0},\"hatch_color\":{\"value\":\"blue\"},\"hatch_scale\":{\"value\":12.0},\"hatch_weight\":{\"value\":1.0},\"line_alpha\":{\"value\":1.0},\"line_cap\":{\"value\":\"butt\"},\"line_color\":{\"value\":\"blue\"},\"line_dash\":{\"value\":[]},\"line_dash_offset\":{\"value\":0},\"line_join\":{\"value\":\"bevel\"},\"line_width\":{\"value\":1},\"marker\":{\"value\":\"circle\"},\"size\":{\"value\":5.477225575051661},\"x\":{\"field\":\"price_range\"},\"y\":{\"field\":\"score_predicted\"}},\"id\":\"1092\",\"type\":\"Scatter\"},{\"attributes\":{\"axis_label\":\"Position\",\"coordinates\":null,\"formatter\":{\"id\":\"1047\"},\"group\":null,\"major_label_policy\":{\"id\":\"1048\"},\"ticker\":{\"id\":\"1017\"}},\"id\":\"1016\",\"type\":\"LinearAxis\"},{\"attributes\":{},\"id\":\"1051\",\"type\":\"AllLabels\"},{\"attributes\":{},\"id\":\"1164\",\"type\":\"UnionRenderers\"},{\"attributes\":{\"axis\":{\"id\":\"1016\"},\"coordinates\":null,\"grid_line_color\":null,\"group\":null,\"ticker\":null},\"id\":\"1019\",\"type\":\"Grid\"},{\"attributes\":{},\"id\":\"1095\",\"type\":\"AllLabels\"},{\"attributes\":{},\"id\":\"1017\",\"type\":\"BasicTicker\"},{\"attributes\":{\"children\":[{\"id\":\"1003\"},{\"id\":\"1182\"},{\"id\":\"1213\"}],\"margin\":[0,0,0,0],\"name\":\"Row01034\",\"tags\":[\"embedded\"]},\"id\":\"1002\",\"type\":\"Row\"},{\"attributes\":{\"axis_label\":\"Predicted Score\",\"coordinates\":null,\"formatter\":{\"id\":\"1050\"},\"group\":null,\"major_label_policy\":{\"id\":\"1051\"},\"ticker\":{\"id\":\"1021\"}},\"id\":\"1020\",\"type\":\"LinearAxis\"},{\"attributes\":{\"axis\":{\"id\":\"1020\"},\"coordinates\":null,\"dimension\":1,\"grid_line_color\":null,\"group\":null,\"ticker\":null},\"id\":\"1023\",\"type\":\"Grid\"},{\"attributes\":{},\"id\":\"1021\",\"type\":\"BasicTicker\"},{\"attributes\":{\"end\":4.085714285714285,\"reset_end\":4.085714285714285,\"reset_start\":1.9142857142857144,\"start\":1.9142857142857144,\"tags\":[[[\"price_range\",\"price_range\",null]]]},\"id\":\"1052\",\"type\":\"Range1d\"},{\"attributes\":{},\"id\":\"1026\",\"type\":\"WheelZoomTool\"},{\"attributes\":{},\"id\":\"1059\",\"type\":\"LinearScale\"},{\"attributes\":{},\"id\":\"1094\",\"type\":\"BasicTickFormatter\"},{\"attributes\":{\"data\":{\"score_predicted\":{\"__ndarray__\":\"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\",\"dtype\":\"float64\",\"order\":\"little\",\"shape\":[558]},\"zip_code\":{\"__ndarray__\":\"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\",\"dtype\":\"float64\",\"order\":\"little\",\"shape\":[558]}},\"selected\":{\"id\":\"1132\"},\"selection_policy\":{\"id\":\"1175\"}},\"id\":\"1131\",\"type\":\"ColumnDataSource\"},{\"attributes\":{},\"id\":\"1050\",\"type\":\"BasicTickFormatter\"},{\"attributes\":{\"fill_alpha\":{\"value\":0.1},\"fill_color\":{\"value\":\"green\"},\"hatch_alpha\":{\"value\":0.1},\"hatch_color\":{\"value\":\"green\"},\"line_alpha\":{\"value\":0.1},\"line_color\":{\"value\":\"green\"},\"size\":{\"value\":5.477225575051661},\"x\":{\"field\":\"zip_code\"},\"y\":{\"field\":\"score_predicted\"}},\"id\":\"1135\",\"type\":\"Scatter\"},{\"attributes\":{\"margin\":[5,5,5,5],\"name\":\"HSpacer01038\",\"sizing_mode\":\"stretch_width\"},\"id\":\"1003\",\"type\":\"Spacer\"},{\"attributes\":{},\"id\":\"1024\",\"type\":\"SaveTool\"},{\"attributes\":{},\"id\":\"1153\",\"type\":\"UnionRenderers\"},{\"attributes\":{\"overlay\":{\"id\":\"1029\"}},\"id\":\"1027\",\"type\":\"BoxZoomTool\"},{\"attributes\":{},\"id\":\"1061\",\"type\":\"LinearScale\"},{\"attributes\":{},\"id\":\"1028\",\"type\":\"ResetTool\"},{\"attributes\":{\"bottom_units\":\"screen\",\"coordinates\":null,\"fill_alpha\":0.5,\"fill_color\":\"lightgrey\",\"group\":null,\"left_units\":\"screen\",\"level\":\"overlay\",\"line_alpha\":1.0,\"line_color\":\"black\",\"line_dash\":[4,4],\"line_width\":2,\"right_units\":\"screen\",\"syncable\":false,\"top_units\":\"screen\"},\"id\":\"1123\",\"type\":\"BoxAnnotation\"},{\"attributes\":{\"callback\":null,\"renderers\":[{\"id\":\"1090\"}],\"tags\":[\"hv_created\"],\"tooltips\":[[\"price_range\",\"@{price_range}\"],[\"score_predicted\",\"@{score_predicted}\"]]},\"id\":\"1053\",\"type\":\"HoverTool\"},{\"attributes\":{},\"id\":\"1097\",\"type\":\"BasicTickFormatter\"},{\"attributes\":{\"bottom_units\":\"screen\",\"coordinates\":null,\"fill_alpha\":0.5,\"fill_color\":\"lightgrey\",\"group\":null,\"left_units\":\"screen\",\"level\":\"overlay\",\"line_alpha\":1.0,\"line_color\":\"black\",\"line_dash\":[4,4],\"line_width\":2,\"right_units\":\"screen\",\"syncable\":false,\"top_units\":\"screen\"},\"id\":\"1029\",\"type\":\"BoxAnnotation\"},{\"attributes\":{\"tools\":[{\"id\":\"1100\"},{\"id\":\"1118\"},{\"id\":\"1119\"},{\"id\":\"1120\"},{\"id\":\"1121\"},{\"id\":\"1122\"}]},\"id\":\"1124\",\"type\":\"Toolbar\"},{\"attributes\":{\"fill_alpha\":{\"value\":0.1},\"fill_color\":{\"value\":\"red\"},\"hatch_alpha\":{\"value\":0.1},\"hatch_color\":{\"value\":\"red\"},\"line_alpha\":{\"value\":0.1},\"line_color\":{\"value\":\"red\"},\"size\":{\"value\":5.477225575051661},\"x\":{\"field\":\"position\"},\"y\":{\"field\":\"score_predicted\"}},\"id\":\"1041\",\"type\":\"Scatter\"},{\"attributes\":{\"below\":[{\"id\":\"1063\"}],\"center\":[{\"id\":\"1066\"},{\"id\":\"1070\"}],\"height\":300,\"left\":[{\"id\":\"1067\"}],\"margin\":null,\"min_border_bottom\":10,\"min_border_left\":10,\"min_border_right\":10,\"min_border_top\":10,\"renderers\":[{\"id\":\"1090\"}],\"sizing_mode\":\"fixed\",\"title\":{\"id\":\"1055\"},\"toolbar\":{\"id\":\"1077\"},\"toolbar_location\":null,\"width\":700,\"x_range\":{\"id\":\"1052\"},\"x_scale\":{\"id\":\"1059\"},\"y_range\":{\"id\":\"1005\"},\"y_scale\":{\"id\":\"1061\"}},\"id\":\"1054\",\"subtype\":\"Figure\",\"type\":\"Plot\"},{\"attributes\":{\"coordinates\":null,\"group\":null,\"text_color\":\"black\",\"text_font_size\":\"12pt\"},\"id\":\"1055\",\"type\":\"Title\"},{\"attributes\":{\"fill_color\":{\"value\":\"red\"},\"hatch_color\":{\"value\":\"red\"},\"line_color\":{\"value\":\"red\"},\"size\":{\"value\":5.477225575051661},\"x\":{\"field\":\"position\"},\"y\":{\"field\":\"score_predicted\"}},\"id\":\"1040\",\"type\":\"Scatter\"},{\"attributes\":{},\"id\":\"1064\",\"type\":\"BasicTicker\"},{\"attributes\":{},\"id\":\"1142\",\"type\":\"AllLabels\"},{\"attributes\":{\"axis_label\":\"Price Range\",\"coordinates\":null,\"formatter\":{\"id\":\"1094\"},\"group\":null,\"major_label_policy\":{\"id\":\"1095\"},\"ticker\":{\"id\":\"1064\"}},\"id\":\"1063\",\"type\":\"LinearAxis\"},{\"attributes\":{},\"id\":\"1132\",\"type\":\"Selection\"},{\"attributes\":{\"fill_color\":{\"value\":\"green\"},\"hatch_color\":{\"value\":\"green\"},\"line_color\":{\"value\":\"green\"},\"size\":{\"value\":5.477225575051661},\"x\":{\"field\":\"zip_code\"},\"y\":{\"field\":\"score_predicted\"}},\"id\":\"1134\",\"type\":\"Scatter\"},{\"attributes\":{\"axis\":{\"id\":\"1063\"},\"coordinates\":null,\"grid_line_color\":null,\"group\":null,\"ticker\":null},\"id\":\"1066\",\"type\":\"Grid\"},{\"attributes\":{\"data\":{\"price_range\":{\"__ndarray__\":\"AgAAAAIAAAACAAAAAwAAAAMAAAADAAAAAgAAAAIAAAACAAAAAwAAAAIAAAACAAAAAwAAAAMAAAACAAAAAwAAAAIAAAADAAAAAgAAAAMAAAACAAAAAwAAAAMAAAACAAAAAgAAAAIAAAACAAAAAgAAAAIAAAADAAAAAgAAAAIAAAACAAAAAwAAAAIAAAADAAAAAwAAAAMAAAACAAAAAwAAAAIAAAACAAAAAgAAAAIAAAACAAAAAgAAAAIAAAACAAAAAgAAAAMAAAACAAAAAgAAAAIAAAACAAAAAgAAAAIAAAACAAAAAgAAAAIAAAACAAAAAgAAAAIAAAACAAAAAwAAAAIAAAACAAAAAgAAAAIAAAADAAAAAgAAAAIAAAACAAAAAgAAAAIAAAADAAAAAgAAAAIAAAACAAAAAgAAAAIAAAACAAAAAwAAAAIAAAADAAAAAgAAAAIAAAADAAAAAgAAAAIAAAACAAAAAgAAAAIAAAACAAAAAgAAAAIAAAACAAAAAgAAAAIAAAACAAAAAgAAAAIAAAACAAAAAgAAAAIAAAACAAAAAgAAAAIAAAACAAAAAwAAAAIAAAACAAAAAgAAAAIAAAADAAAAAwAAAAIAAAADAAAAAgAAAAIAAAACAAAAAgAAAAIAAAACAAAAAgAAAAMAAAACAAAAAgAAAAIAAAACAAAAAgAAAAIAAAADAAAAAgAAAAIAAAADAAAAAgAAAAIAAAADAAAAAwAAAAIAAAACAAAAAgAAAAIAAAADAAAAAgAAAAIAAAADAAAAAwAAAAMAAAADAAAAAwAAAAIAAAACAAAAAwAAAAIAAAADAAAAAwAAAAIAAAACAAAAAgAAAAMAAAACAAAAAgAAAAIAAAACAAAAAgAAAAIAAAACAAAAAwAAAAIAAAACAAAAAgAAAAMAAAACAAAAAgAAAAIAAAACAAAAAwAAAAIAAAACAAAAAgAAAAIAAAACAAAAAgAAAAIAAAACAAAAAwAAAAIAAAACAAAAAwAAAAIAAAACAAAAAgAAAAIAAAACAAAAAgAAAAIAAAACAAAAAgAAAAIAAAADAAAAAgAAAAIAAAADAAAAAgAAAAIAAAADAAAAAgAAAAIAAAACAAAAAgAAAAIAAAACAAAAAwAAAAIAAAACAAAAAgAAAAIAAAADAAAAAwAAAAIAAAACAAAAAgAAAAIAAAACAAAAAgAAAAMAAAACAAAAAgAAAAIAAAADAAAAAgAAAAIAAAACAAAAAgAAAAIAAAACAAAAAgAAAAMAAAACAAAAAgAAAAIAAAACAAAAAgAAAAIAAAACAAAAAgAAAAIAAAADAAAAAgAAAAMAAAACAAAAAgAAAAMAAAADAAAAAgAAAAMAAAACAAAAAgAAAAMAAAADAAAAAgAAAAIAAAACAAAAAgAAAAIAAAACAAAAAgAAAAIAAAACAAAAAgAAAAIAAAADAAAAAwAAAAIAAAACAAAAAgAAAAIAAAADAAAAAgAAAAMAAAACAAAAAgAAAAIAAAACAAAAAgAAAAIAAAADAAAAAgAAAAIAAAACAAAAAwAAAAMAAAACAAAAAgAAAAMAAAACAAAAAwAAAAIAAAACAAAAAgAAAAMAAAACAAAAAgAAAAIAAAACAAAAAgAAAAIAAAADAAAAAgAAAAIAAAADAAAAAgAAAAIAAAADAAAAAwAAAAIAAAACAAAAAgAAAAIAAAACAAAAAgAAAAIAAAAEAAAAAgAAAAIAAAADAAAAAgAAAAMAAAACAAAAAgAAAAIAAAADAAAAAgAAAAIAAAACAAAAAgAAAAMAAAACAAAAAgAAAAIAAAACAAAAAgAAAAIAAAACAAAAAwAAAAIAAAACAAAAAgAAAAMAAAADAAAAAwAAAAIAAAADAAAAAgAAAAIAAAACAAAAAgAAAAIAAAADAAAAAgAAAAIAAAACAAAAAgAAAAIAAAACAAAAAgAAAAIAAAACAAAAAgAAAAIAAAACAAAAAgAAAAIAAAACAAAAAgAAAAIAAAADAAAAAgAAAAIAAAACAAAAAgAAAAIAAAADAAAAAwAAAAMAAAADAAAAAwAAAAIAAAACAAAAAgAAAAIAAAACAAAAAgAAAAIAAAACAAAAAwAAAAIAAAACAAAAAgAAAAMAAAACAAAAAgAAAAIAAAACAAAAAgAAAAIAAAADAAAAAwAAAAIAAAACAAAAAgAAAAIAAAACAAAAAgAAAAIAAAACAAAAAgAAAAIAAAACAAAAAgAAAAIAAAACAAAAAwAAAAIAAAADAAAAAwAAAAIAAAACAAAAAgAAAAIAAAADAAAAAgAAAAMAAAADAAAAAwAAAAIAAAACAAAAAwAAAAIAAAACAAAAAgAAAAIAAAACAAAAAgAAAAIAAAADAAAAAgAAAAIAAAACAAAAAgAAAAIAAAADAAAAAwAAAAIAAAADAAAAAgAAAAIAAAACAAAAAgAAAAIAAAACAAAAAwAAAAIAAAACAAAAAgAAAAIAAAACAAAAAgAAAAIAAAACAAAAAgAAAAIAAAACAAAAAgAAAAIAAAACAAAAAgAAAAIAAAACAAAAAgAAAAIAAAAEAAAAAgAAAAIAAAADAAAAAwAAAAIAAAACAAAAAgAAAAIAAAACAAAAAgAAAAIAAAACAAAAAgAAAAMAAAACAAAAAgAAAAIAAAACAAAAAwAAAAIAAAACAAAAAgAAAAIAAAACAAAAAgAAAAIAAAADAAAAAgAAAAIAAAACAAAAAwAAAAIAAAACAAAAAgAAAAIAAAADAAAAAgAAAAIAAAACAAAAAgAAAAIAAAADAAAAAgAAAAIAAAACAAAAAgAAAAIAAAADAAAAAgAAAAIAAAADAAAAAgAAAAIAAAACAAAAAgAAAAIAAAACAAAAAgAAAAIAAAADAAAAAgAAAAMAAAACAAAAAwAAAAIAAAACAAAAAgAAAAMAAAACAAAAAgAAAAIAAAACAAAAAgAAAAIAAAACAAAA\",\"dtype\":\"int32\",\"order\":\"little\",\"shape\":[558]},\"score_predicted\":{\"__ndarray__\":\"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\",\"dtype\":\"float64\",\"order\":\"little\",\"shape\":[558]}},\"selected\":{\"id\":\"1085\"},\"selection_policy\":{\"id\":\"1164\"}},\"id\":\"1084\",\"type\":\"ColumnDataSource\"},{\"attributes\":{\"fill_alpha\":{\"value\":0.2},\"fill_color\":{\"value\":\"green\"},\"hatch_alpha\":{\"value\":0.2},\"hatch_color\":{\"value\":\"green\"},\"line_alpha\":{\"value\":0.2},\"line_color\":{\"value\":\"green\"},\"size\":{\"value\":5.477225575051661},\"x\":{\"field\":\"zip_code\"},\"y\":{\"field\":\"score_predicted\"}},\"id\":\"1136\",\"type\":\"Scatter\"},{\"attributes\":{\"coordinates\":null,\"data_source\":{\"id\":\"1131\"},\"glyph\":{\"id\":\"1134\"},\"group\":null,\"hover_glyph\":null,\"muted_glyph\":{\"id\":\"1136\"},\"nonselection_glyph\":{\"id\":\"1135\"},\"selection_glyph\":{\"id\":\"1139\"},\"view\":{\"id\":\"1138\"}},\"id\":\"1137\",\"type\":\"GlyphRenderer\"},{\"attributes\":{},\"id\":\"1072\",\"type\":\"PanTool\"},{\"attributes\":{\"source\":{\"id\":\"1131\"}},\"id\":\"1138\",\"type\":\"CDSView\"},{\"attributes\":{\"angle\":{\"value\":0.0},\"fill_alpha\":{\"value\":1.0},\"fill_color\":{\"value\":\"green\"},\"hatch_alpha\":{\"value\":1.0},\"hatch_color\":{\"value\":\"green\"},\"hatch_scale\":{\"value\":12.0},\"hatch_weight\":{\"value\":1.0},\"line_alpha\":{\"value\":1.0},\"line_cap\":{\"value\":\"butt\"},\"line_color\":{\"value\":\"green\"},\"line_dash\":{\"value\":[]},\"line_dash_offset\":{\"value\":0},\"line_join\":{\"value\":\"bevel\"},\"line_width\":{\"value\":1},\"marker\":{\"value\":\"circle\"},\"size\":{\"value\":5.477225575051661},\"x\":{\"field\":\"zip_code\"},\"y\":{\"field\":\"score_predicted\"}},\"id\":\"1139\",\"type\":\"Scatter\"},{\"attributes\":{\"axis_label\":\"score_predicted\",\"coordinates\":null,\"formatter\":{\"id\":\"1097\"},\"group\":null,\"major_label_policy\":{\"id\":\"1098\"},\"ticker\":{\"id\":\"1068\"}},\"id\":\"1067\",\"type\":\"LinearAxis\"},{\"attributes\":{\"axis\":{\"id\":\"1067\"},\"coordinates\":null,\"dimension\":1,\"grid_line_color\":null,\"group\":null,\"ticker\":null},\"id\":\"1070\",\"type\":\"Grid\"},{\"attributes\":{},\"id\":\"1141\",\"type\":\"BasicTickFormatter\"},{\"attributes\":{},\"id\":\"1068\",\"type\":\"BasicTicker\"},{\"attributes\":{},\"id\":\"1073\",\"type\":\"WheelZoomTool\"},{\"attributes\":{},\"id\":\"1047\",\"type\":\"BasicTickFormatter\"},{\"attributes\":{},\"id\":\"1098\",\"type\":\"AllLabels\"},{\"attributes\":{\"fill_alpha\":{\"value\":0.2},\"fill_color\":{\"value\":\"red\"},\"hatch_alpha\":{\"value\":0.2},\"hatch_color\":{\"value\":\"red\"},\"line_alpha\":{\"value\":0.2},\"line_color\":{\"value\":\"red\"},\"size\":{\"value\":5.477225575051661},\"x\":{\"field\":\"position\"},\"y\":{\"field\":\"score_predicted\"}},\"id\":\"1042\",\"type\":\"Scatter\"},{\"attributes\":{},\"id\":\"1071\",\"type\":\"SaveTool\"},{\"attributes\":{\"overlay\":{\"id\":\"1076\"}},\"id\":\"1074\",\"type\":\"BoxZoomTool\"},{\"attributes\":{},\"id\":\"1075\",\"type\":\"ResetTool\"},{\"attributes\":{\"bottom_units\":\"screen\",\"coordinates\":null,\"fill_alpha\":0.5,\"fill_color\":\"lightgrey\",\"group\":null,\"left_units\":\"screen\",\"level\":\"overlay\",\"line_alpha\":1.0,\"line_color\":\"black\",\"line_dash\":[4,4],\"line_width\":2,\"right_units\":\"screen\",\"syncable\":false,\"top_units\":\"screen\"},\"id\":\"1076\",\"type\":\"BoxAnnotation\"},{\"attributes\":{\"children\":[{\"id\":\"1181\"},{\"id\":\"1179\"}]},\"id\":\"1182\",\"type\":\"Column\"},{\"attributes\":{\"end\":78404.34285714285,\"reset_end\":78404.34285714285,\"reset_start\":74899.65714285715,\"start\":74899.65714285715,\"tags\":[[[\"zip_code\",\"zip_code\",null]]]},\"id\":\"1099\",\"type\":\"Range1d\"},{\"attributes\":{\"margin\":[5,5,5,5],\"name\":\"HSpacer01039\",\"sizing_mode\":\"stretch_width\"},\"id\":\"1213\",\"type\":\"Spacer\"},{\"attributes\":{},\"id\":\"1106\",\"type\":\"LinearScale\"},{\"attributes\":{\"fill_alpha\":{\"value\":0.2},\"fill_color\":{\"value\":\"blue\"},\"hatch_alpha\":{\"value\":0.2},\"hatch_color\":{\"value\":\"blue\"},\"line_alpha\":{\"value\":0.2},\"line_color\":{\"value\":\"blue\"},\"size\":{\"value\":5.477225575051661},\"x\":{\"field\":\"price_range\"},\"y\":{\"field\":\"score_predicted\"}},\"id\":\"1089\",\"type\":\"Scatter\"},{\"attributes\":{\"callback\":null,\"renderers\":[{\"id\":\"1137\"}],\"tags\":[\"hv_created\"],\"tooltips\":[[\"zip_code\",\"@{zip_code}\"],[\"score_predicted\",\"@{score_predicted}\"]]},\"id\":\"1100\",\"type\":\"HoverTool\"},{\"attributes\":{},\"id\":\"1108\",\"type\":\"LinearScale\"},{\"attributes\":{\"tools\":[{\"id\":\"1053\"},{\"id\":\"1071\"},{\"id\":\"1072\"},{\"id\":\"1073\"},{\"id\":\"1074\"},{\"id\":\"1075\"}]},\"id\":\"1077\",\"type\":\"Toolbar\"},{\"attributes\":{\"source\":{\"id\":\"1037\"}},\"id\":\"1044\",\"type\":\"CDSView\"},{\"attributes\":{\"angle\":{\"value\":0.0},\"fill_alpha\":{\"value\":1.0},\"fill_color\":{\"value\":\"red\"},\"hatch_alpha\":{\"value\":1.0},\"hatch_color\":{\"value\":\"red\"},\"hatch_scale\":{\"value\":12.0},\"hatch_weight\":{\"value\":1.0},\"line_alpha\":{\"value\":1.0},\"line_cap\":{\"value\":\"butt\"},\"line_color\":{\"value\":\"red\"},\"line_dash\":{\"value\":[]},\"line_dash_offset\":{\"value\":0},\"line_join\":{\"value\":\"bevel\"},\"line_width\":{\"value\":1},\"marker\":{\"value\":\"circle\"},\"size\":{\"value\":5.477225575051661},\"x\":{\"field\":\"position\"},\"y\":{\"field\":\"score_predicted\"}},\"id\":\"1045\",\"type\":\"Scatter\"},{\"attributes\":{},\"id\":\"1145\",\"type\":\"AllLabels\"},{\"attributes\":{\"below\":[{\"id\":\"1110\"}],\"center\":[{\"id\":\"1113\"},{\"id\":\"1117\"}],\"height\":300,\"left\":[{\"id\":\"1114\"}],\"margin\":null,\"min_border_bottom\":10,\"min_border_left\":10,\"min_border_right\":10,\"min_border_top\":10,\"renderers\":[{\"id\":\"1137\"}],\"sizing_mode\":\"fixed\",\"title\":{\"id\":\"1102\"},\"toolbar\":{\"id\":\"1124\"},\"toolbar_location\":null,\"width\":700,\"x_range\":{\"id\":\"1099\"},\"x_scale\":{\"id\":\"1106\"},\"y_range\":{\"id\":\"1005\"},\"y_scale\":{\"id\":\"1108\"}},\"id\":\"1101\",\"subtype\":\"Figure\",\"type\":\"Plot\"},{\"attributes\":{\"toolbars\":[{\"id\":\"1030\"},{\"id\":\"1077\"},{\"id\":\"1124\"}],\"tools\":[{\"id\":\"1006\"},{\"id\":\"1024\"},{\"id\":\"1025\"},{\"id\":\"1026\"},{\"id\":\"1027\"},{\"id\":\"1028\"},{\"id\":\"1053\"},{\"id\":\"1071\"},{\"id\":\"1072\"},{\"id\":\"1073\"},{\"id\":\"1074\"},{\"id\":\"1075\"},{\"id\":\"1100\"},{\"id\":\"1118\"},{\"id\":\"1119\"},{\"id\":\"1120\"},{\"id\":\"1121\"},{\"id\":\"1122\"}]},\"id\":\"1180\",\"type\":\"ProxyToolbar\"},{\"attributes\":{\"coordinates\":null,\"group\":null,\"text_color\":\"black\",\"text_font_size\":\"12pt\"},\"id\":\"1102\",\"type\":\"Title\"},{\"attributes\":{},\"id\":\"1111\",\"type\":\"BasicTicker\"},{\"attributes\":{\"axis_label\":\"Zip Code\",\"coordinates\":null,\"formatter\":{\"id\":\"1141\"},\"group\":null,\"major_label_policy\":{\"id\":\"1142\"},\"ticker\":{\"id\":\"1111\"}},\"id\":\"1110\",\"type\":\"LinearAxis\"},{\"attributes\":{\"fill_alpha\":{\"value\":0.1},\"fill_color\":{\"value\":\"blue\"},\"hatch_alpha\":{\"value\":0.1},\"hatch_color\":{\"value\":\"blue\"},\"line_alpha\":{\"value\":0.1},\"line_color\":{\"value\":\"blue\"},\"size\":{\"value\":5.477225575051661},\"x\":{\"field\":\"price_range\"},\"y\":{\"field\":\"score_predicted\"}},\"id\":\"1088\",\"type\":\"Scatter\"},{\"attributes\":{\"axis\":{\"id\":\"1110\"},\"coordinates\":null,\"grid_line_color\":null,\"group\":null,\"ticker\":null},\"id\":\"1113\",\"type\":\"Grid\"},{\"attributes\":{\"toolbar\":{\"id\":\"1180\"},\"toolbar_location\":\"above\"},\"id\":\"1181\",\"type\":\"ToolbarBox\"},{\"attributes\":{},\"id\":\"1119\",\"type\":\"PanTool\"},{\"attributes\":{\"coordinates\":null,\"data_source\":{\"id\":\"1084\"},\"glyph\":{\"id\":\"1087\"},\"group\":null,\"hover_glyph\":null,\"muted_glyph\":{\"id\":\"1089\"},\"nonselection_glyph\":{\"id\":\"1088\"},\"selection_glyph\":{\"id\":\"1092\"},\"view\":{\"id\":\"1091\"}},\"id\":\"1090\",\"type\":\"GlyphRenderer\"},{\"attributes\":{\"axis_label\":\"score_predicted\",\"coordinates\":null,\"formatter\":{\"id\":\"1144\"},\"group\":null,\"major_label_policy\":{\"id\":\"1145\"},\"ticker\":{\"id\":\"1115\"}},\"id\":\"1114\",\"type\":\"LinearAxis\"},{\"attributes\":{\"tools\":[{\"id\":\"1006\"},{\"id\":\"1024\"},{\"id\":\"1025\"},{\"id\":\"1026\"},{\"id\":\"1027\"},{\"id\":\"1028\"}]},\"id\":\"1030\",\"type\":\"Toolbar\"},{\"attributes\":{\"axis\":{\"id\":\"1114\"},\"coordinates\":null,\"dimension\":1,\"grid_line_color\":null,\"group\":null,\"ticker\":null},\"id\":\"1117\",\"type\":\"Grid\"},{\"attributes\":{},\"id\":\"1115\",\"type\":\"BasicTicker\"},{\"attributes\":{},\"id\":\"1120\",\"type\":\"WheelZoomTool\"},{\"attributes\":{},\"id\":\"1048\",\"type\":\"AllLabels\"},{\"attributes\":{\"fill_color\":{\"value\":\"blue\"},\"hatch_color\":{\"value\":\"blue\"},\"line_color\":{\"value\":\"blue\"},\"size\":{\"value\":5.477225575051661},\"x\":{\"field\":\"price_range\"},\"y\":{\"field\":\"score_predicted\"}},\"id\":\"1087\",\"type\":\"Scatter\"},{\"attributes\":{},\"id\":\"1118\",\"type\":\"SaveTool\"},{\"attributes\":{},\"id\":\"1085\",\"type\":\"Selection\"},{\"attributes\":{\"overlay\":{\"id\":\"1123\"}},\"id\":\"1121\",\"type\":\"BoxZoomTool\"},{\"attributes\":{},\"id\":\"1122\",\"type\":\"ResetTool\"},{\"attributes\":{\"end\":296.12857142857143,\"reset_end\":296.12857142857143,\"reset_start\":-11.128571428571428,\"start\":-11.128571428571428,\"tags\":[[[\"position\",\"position\",null]]]},\"id\":\"1004\",\"type\":\"Range1d\"},{\"attributes\":{\"data\":{\"position\":[192,190,215,171,160,145,78,74,56,27,206,202,158,154,141,111,106,7,134,106,105,98,96,44,39,38,32,31,23,17,208,201,194,193,179,170,155,128,112,93,84,77,65,57,53,50,45,44,19,18,184,174,164,160,157,148,147,142,140,137,134,133,130,124,120,113,112,111,107,104,95,80,76,75,51,53,44,32,29,23,21,20,155,146,109,61,43,39,20,18,6,5,284,282,277,275,272,265,259,256,254,253,238,234,228,223,210,205,203,185,179,177,166,161,159,158,160,157,156,147,146,145,139,134,127,126,125,123,122,118,117,116,112,111,103,99,98,95,81,79,73,70,65,64,57,50,44,43,37,32,27,24,22,12,6,5,187,184,183,182,178,179,171,165,163,157,156,146,145,138,137,133,129,127,126,124,123,122,119,116,114,113,111,110,109,108,107,105,104,103,102,101,100,91,90,89,86,85,83,81,79,75,80,72,73,68,67,64,62,61,54,50,48,47,44,43,37,36,35,33,31,27,25,20,19,18,14,15,6,172,171,169,167,163,162,161,148,145,140,138,137,135,133,131,126,124,121,117,114,113,111,110,107,106,102,101,100,99,98,95,93,97,92,91,90,89,88,87,82,80,79,78,77,76,75,73,71,70,69,68,64,63,61,59,54,53,51,49,48,45,46,42,40,39,37,33,35,32,31,29,27,26,25,23,21,17,16,13,10,7,6,5,4,3,2,1,65,60,48,45,46,43,42,40,39,38,36,33,31,29,28,25,23,21,6,86,61,54,53,52,49,48,45,39,36,35,33,32,30,28,25,21,20,13,12,10,8,7,5,3,2,84,78,77,74,68,67,1,62,61,55,50,49,46,41,40,38,37,36,35,34,33,32,31,29,28,27,26,22,21,20,19,17,16,14,13,12,11,10,9,8,7,5,3,2,1,4,3,2,12,265,258,240,242,162,143,126,64,53,19,225,168,139,103,9,231,230,197,44,192,136,121,35,3,232,228,188,81,234,39,269,204,176,79,63,42,35,2,99,63,149,108,116,89,1,165,13,110,101,160,205,124,89,69,41,35,32,29,147,127,120,106,80,78,74,49,45,36,221,182,178,158,150,15,252,136,13,243,158,146,126,101,157,133,91,57,58,53,50,37,85,61,186,10,177,189,105,172,164,61,183,94,75,62,162,133,48,182,72,55,126,125,107,56,120,111,110,48,183,9,8,44,87,6,5,171,83,1,132,179,29,13,157,132,142,136,41,58,150,172,171,164,129,100,92,88,33,185],\"score_predicted\":{\"__ndarray__\":\"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\",\"dtype\":\"float64\",\"order\":\"little\",\"shape\":[558]}},\"selected\":{\"id\":\"1038\"},\"selection_policy\":{\"id\":\"1153\"}},\"id\":\"1037\",\"type\":\"ColumnDataSource\"},{\"attributes\":{},\"id\":\"1144\",\"type\":\"BasicTickFormatter\"},{\"attributes\":{\"below\":[{\"id\":\"1016\"}],\"center\":[{\"id\":\"1019\"},{\"id\":\"1023\"}],\"height\":300,\"left\":[{\"id\":\"1020\"}],\"margin\":null,\"min_border_bottom\":10,\"min_border_left\":10,\"min_border_right\":10,\"min_border_top\":10,\"renderers\":[{\"id\":\"1043\"}],\"sizing_mode\":\"fixed\",\"title\":{\"id\":\"1008\"},\"toolbar\":{\"id\":\"1030\"},\"toolbar_location\":null,\"width\":700,\"x_range\":{\"id\":\"1004\"},\"x_scale\":{\"id\":\"1012\"},\"y_range\":{\"id\":\"1005\"},\"y_scale\":{\"id\":\"1014\"}},\"id\":\"1007\",\"subtype\":\"Figure\",\"type\":\"Plot\"},{\"attributes\":{},\"id\":\"1012\",\"type\":\"LinearScale\"},{\"attributes\":{},\"id\":\"1038\",\"type\":\"Selection\"},{\"attributes\":{\"end\":4.63449193407634,\"reset_end\":4.63449193407634,\"reset_start\":4.408233223222514,\"start\":4.408233223222514,\"tags\":[[[\"score_predicted\",\"score_predicted\",null]]]},\"id\":\"1005\",\"type\":\"Range1d\"},{\"attributes\":{\"callback\":null,\"renderers\":[{\"id\":\"1043\"}],\"tags\":[\"hv_created\"],\"tooltips\":[[\"position\",\"@{position}\"],[\"score_predicted\",\"@{score_predicted}\"]]},\"id\":\"1006\",\"type\":\"HoverTool\"},{\"attributes\":{\"coordinates\":null,\"data_source\":{\"id\":\"1037\"},\"glyph\":{\"id\":\"1040\"},\"group\":null,\"hover_glyph\":null,\"muted_glyph\":{\"id\":\"1042\"},\"nonselection_glyph\":{\"id\":\"1041\"},\"selection_glyph\":{\"id\":\"1045\"},\"view\":{\"id\":\"1044\"}},\"id\":\"1043\",\"type\":\"GlyphRenderer\"}],\"root_ids\":[\"1002\"]},\"title\":\"Bokeh Application\",\"version\":\"2.4.3\"}};\n",
       "    var render_items = [{\"docid\":\"9e06b097-d44f-4c2c-9101-754d5413b257\",\"root_ids\":[\"1002\"],\"roots\":{\"1002\":\"4d0721ff-5a61-4844-bf3b-a93a11774f64\"}}];\n",
       "    root.Bokeh.embed.embed_items_notebook(docs_json, render_items);\n",
       "  }\n",
       "  if (root.Bokeh !== undefined && root.Bokeh.Panel !== undefined) {\n",
       "    embed_document(root);\n",
       "  } else {\n",
       "    var attempts = 0;\n",
       "    var timer = setInterval(function(root) {\n",
       "      if (root.Bokeh !== undefined && root.Bokeh.Panel !== undefined) {\n",
       "        clearInterval(timer);\n",
       "        embed_document(root);\n",
       "      } else if (document.readyState == \"complete\") {\n",
       "        attempts++;\n",
       "        if (attempts > 200) {\n",
       "          clearInterval(timer);\n",
       "          console.log(\"Bokeh: ERROR: Unable to run BokehJS code because BokehJS library is missing\");\n",
       "        }\n",
       "      }\n",
       "    }, 25, root)\n",
       "  }\n",
       "})(window);</script>"
      ],
      "text/plain": [
       ":Layout\n",
       "   .Scatter.I   :Scatter   [position]   (score_predicted)\n",
       "   .Scatter.II  :Scatter   [price_range]   (score_predicted)\n",
       "   .Scatter.III :Scatter   [zip_code]   (score_predicted)"
      ]
     },
     "execution_count": 34,
     "metadata": {
      "application/vnd.holoviews_exec.v0+json": {
       "id": "1002"
      }
     },
     "output_type": "execute_result"
    }
   ],
   "source": [
    "#Create separate line plots for each x-axis column and store them in a list\n",
    "best_fit_line = clean_copy.hvplot.scatter(\n",
    "    x='position', y='score_predicted', color='red', xlabel=\"Position\",\n",
    "    ylabel=\"Predicted Score\", title=\"Predicted Scores Line Plot\"\n",
    ") + clean_copy.hvplot.scatter(\n",
    "    x='price_range', y='score_predicted', color='blue', xlabel=\"Price Range\"\n",
    ") + clean_copy.hvplot.scatter(\n",
    "    x='zip_code', y='score_predicted', color='green', xlabel=\"Zip Code\"\n",
    ")\n",
    "best_fit_line"
   ]
  },
  {
   "cell_type": "markdown",
   "metadata": {},
   "source": [
    "## Linear Regression Model Assessment"
   ]
  },
  {
   "cell_type": "code",
   "execution_count": 36,
   "metadata": {},
   "outputs": [
    {
     "name": "stdout",
     "output_type": "stream",
     "text": [
      "The score is 0.007428522305704899.\n",
      "The r2 is 0.007428522305704899.\n",
      "The mean squared error is 0.10120174806717845.\n",
      "The root mean squared error is 0.31812222190092043.\n",
      "The standard deviation is 0.3193104350257232.\n"
     ]
    }
   ],
   "source": [
    "# Compute the metrics for the linear regression model\n",
    "score = model.score(X, y, sample_weight=None)\n",
    "r2 = r2_score(y, predicted_y_values)\n",
    "mse = mean_squared_error(y, predicted_y_values)\n",
    "rmse = np.sqrt(mse)\n",
    "std = np.std(y)\n",
    "\n",
    "# Print relevant metrics.\n",
    "print(f\"The score is {score}.\")\n",
    "print(f\"The r2 is {r2}.\")\n",
    "print(f\"The mean squared error is {mse}.\")\n",
    "print(f\"The root mean squared error is {rmse}.\")\n",
    "print(f\"The standard deviation is {std}.\")"
   ]
  },
  {
   "cell_type": "code",
   "execution_count": 37,
   "metadata": {},
   "outputs": [],
   "source": [
    "#Run rfr to refine the prediction model\n",
    "from sklearn.ensemble import RandomForestRegressor\n",
    "\n",
    "# Initialize the Random Forest Regressor\n",
    "rfr = RandomForestRegressor(random_state=42)\n",
    "\n",
    "# Fit the model with the training data\n",
    "rfr.fit(X_train,y_train)\n",
    "\n",
    "# Now the model is trained and can be used for predictions\n",
    "y_pred_rfr = rfr.predict(X_test)"
   ]
  },
  {
   "cell_type": "code",
   "execution_count": 38,
   "metadata": {},
   "outputs": [],
   "source": [
    "#Multiply by 100 to set the decimal point\n",
    "r_score = rfr.score(X_test,y_test)*100"
   ]
  },
  {
   "cell_type": "code",
   "execution_count": 42,
   "metadata": {},
   "outputs": [
    {
     "data": {
      "image/png": "[encoded data removed]",
      "text/plain": [
       "<Figure size 1200x700 with 1 Axes>"
      ]
     },
     "metadata": {},
     "output_type": "display_data"
    }
   ],
   "source": [
    "# Create the scatter plot for True score (y_test) versus Predicted score (preds_rf)\n",
    "# Assuming you've already defined y_test, X_test, and preds_rf\n",
    "\n",
    "plt.figure(figsize=(12, 7))\n",
    "plt.scatter(y_test, preds_rf, color=\"green\", label='Predicted Score')\n",
    "plt.plot([min(y_test), max(y_test)], [min(y_test), max(y_test)], linestyle='--', color='red', label='Perfect Prediction')\n",
    "plt.title(\"True Score vs Predicted Score\", size=20, pad=15)\n",
    "plt.xlabel('True Score', size=15)\n",
    "plt.ylabel('Predicted Score', size=15)\n",
    "plt.legend()\n",
    "plt.show()"
   ]
  },
  {
   "cell_type": "code",
   "execution_count": 40,
   "metadata": {},
   "outputs": [
    {
     "name": "stdout",
     "output_type": "stream",
     "text": [
      "R-squared: -0.04\n",
      "Accuracy: -4.37%\n"
     ]
    }
   ],
   "source": [
    "# target values y_test and predicted target values y_pred_rfr\n",
    "r_squared = r2_score(y_test, y_pred_rfr)\n",
    "\n",
    "print(f\"R-squared: {r_squared:.2f}\")\n",
    "\n",
    "accuracy_percentage = r2_score(y_test, y_pred_rfr) * 100\n",
    "print(f\"Accuracy: {accuracy_percentage:.2f}%\")\n"
   ]
  },
  {
   "cell_type": "markdown",
   "metadata": {},
   "source": [
    "This scatter plot lets us know that if we had decided to keep the null values in our dataset, we could have predicted a restaurant's score with __% accuracy. ---NOT ACCURATE -3.7%"
   ]
  }
 ],
 "metadata": {
  "anaconda-cloud": {},
  "kernel_info": {
   "name": "python3"
  },
  "kernelspec": {
   "display_name": "Python 3 (ipykernel)",
   "language": "python",
   "name": "python3"
  },
  "language_info": {
   "codemirror_mode": {
    "name": "ipython",
    "version": 3
   },
   "file_extension": ".py",
   "mimetype": "text/x-python",
   "name": "python",
   "nbconvert_exporter": "python",
   "pygments_lexer": "ipython3",
   "version": "3.9.13"
  },
  "latex_envs": {
   "LaTeX_envs_menu_present": true,
   "autoclose": false,
   "autocomplete": true,
   "bibliofile": "biblio.bib",
   "cite_by": "apalike",
   "current_citInitial": 1,
   "eqLabelWithNumbers": true,
   "eqNumInitial": 1,
   "hotkeys": {
    "equation": "Ctrl-E",
    "itemize": "Ctrl-I"
   },
   "labels_anchors": false,
   "latex_user_defs": false,
   "report_style_numbering": false,
   "user_envs_cfg": false
  },
  "nteract": {
   "version": "0.8.4"
  },
  "vscode": {
   "interpreter": {
    "hash": "5384d77d82de63fd599f73e77f9ec786e7719288bf80a29ec0288c670ac3cf32"
   }
  }
 },
 "nbformat": 4,
 "nbformat_minor": 4
}
