{
 "cells": [
  {
   "cell_type": "markdown",
   "metadata": {},
   "source": [
    "# Restaurants San Antonio"
   ]
  },
  {
   "cell_type": "code",
   "execution_count": 1,
   "metadata": {},
   "outputs": [
    {
     "data": {
      "text/html": [
       "<div>\n",
       "<style scoped>\n",
       "    .dataframe tbody tr th:only-of-type {\n",
       "        vertical-align: middle;\n",
       "    }\n",
       "\n",
       "    .dataframe tbody tr th {\n",
       "        vertical-align: top;\n",
       "    }\n",
       "\n",
       "    .dataframe thead th {\n",
       "        text-align: right;\n",
       "    }\n",
       "</style>\n",
       "<table border=\"1\" class=\"dataframe\">\n",
       "  <thead>\n",
       "    <tr style=\"text-align: right;\">\n",
       "      <th></th>\n",
       "      <th>id</th>\n",
       "      <th>position</th>\n",
       "      <th>name</th>\n",
       "      <th>score</th>\n",
       "      <th>ratings</th>\n",
       "      <th>category</th>\n",
       "      <th>price_range</th>\n",
       "      <th>lat</th>\n",
       "      <th>lng</th>\n",
       "      <th>address</th>\n",
       "      <th>city</th>\n",
       "      <th>state</th>\n",
       "      <th>zip_code</th>\n",
       "    </tr>\n",
       "  </thead>\n",
       "  <tbody>\n",
       "    <tr>\n",
       "      <th>0</th>\n",
       "      <td>34517</td>\n",
       "      <td>6</td>\n",
       "      <td>Fiesta Liquor #3</td>\n",
       "      <td>3.0</td>\n",
       "      <td>NaN</td>\n",
       "      <td>African, Ethiopian, Vegetarian, Alcohol, Liquo...</td>\n",
       "      <td>$</td>\n",
       "      <td>29.574320</td>\n",
       "      <td>-98.515210</td>\n",
       "      <td>14415 Blanco Road</td>\n",
       "      <td>San Antonio</td>\n",
       "      <td>TX</td>\n",
       "      <td>78248.0</td>\n",
       "    </tr>\n",
       "    <tr>\n",
       "      <th>1</th>\n",
       "      <td>34518</td>\n",
       "      <td>5</td>\n",
       "      <td>Squeezers Juice Bar</td>\n",
       "      <td>5.0</td>\n",
       "      <td>11.0</td>\n",
       "      <td>Black-owned, Juice and Smoothies, African, Hea...</td>\n",
       "      <td>NaN</td>\n",
       "      <td>29.441000</td>\n",
       "      <td>-98.485470</td>\n",
       "      <td>914 East Elmira Street</td>\n",
       "      <td>San Antonio</td>\n",
       "      <td>TX</td>\n",
       "      <td>78212.0</td>\n",
       "    </tr>\n",
       "    <tr>\n",
       "      <th>2</th>\n",
       "      <td>34520</td>\n",
       "      <td>76</td>\n",
       "      <td>Spinster Sisters Co. (427 Lombrano St)</td>\n",
       "      <td>NaN</td>\n",
       "      <td>NaN</td>\n",
       "      <td>Home &amp;amp; Personal Care, Everyday Essentials,...</td>\n",
       "      <td>$</td>\n",
       "      <td>29.441910</td>\n",
       "      <td>-98.510550</td>\n",
       "      <td>427 Lombrano St</td>\n",
       "      <td>San Antonio</td>\n",
       "      <td>TX</td>\n",
       "      <td>78207.0</td>\n",
       "    </tr>\n",
       "    <tr>\n",
       "      <th>3</th>\n",
       "      <td>34521</td>\n",
       "      <td>194</td>\n",
       "      <td>Yaya's Thai Fusion</td>\n",
       "      <td>NaN</td>\n",
       "      <td>NaN</td>\n",
       "      <td>Thai, Asian, Noodles</td>\n",
       "      <td>$</td>\n",
       "      <td>29.480652</td>\n",
       "      <td>-98.607908</td>\n",
       "      <td>5819 Northwest Loop 410</td>\n",
       "      <td>San Antonio</td>\n",
       "      <td>TX</td>\n",
       "      <td>78238.0</td>\n",
       "    </tr>\n",
       "    <tr>\n",
       "      <th>4</th>\n",
       "      <td>34522</td>\n",
       "      <td>192</td>\n",
       "      <td>Willie's Grill &amp;amp; Icehouse (7911 Interstate)</td>\n",
       "      <td>4.5</td>\n",
       "      <td>92.0</td>\n",
       "      <td>American, Burgers, Family Friendly, Wings, Alc...</td>\n",
       "      <td>$</td>\n",
       "      <td>29.350066</td>\n",
       "      <td>-98.537672</td>\n",
       "      <td>7911 Interstate 35 Access Rd</td>\n",
       "      <td>San Antonio</td>\n",
       "      <td>TX</td>\n",
       "      <td>78224.0</td>\n",
       "    </tr>\n",
       "  </tbody>\n",
       "</table>\n",
       "</div>"
      ],
      "text/plain": [
       "      id  position                                             name  score  \\\n",
       "0  34517         6                                 Fiesta Liquor #3    3.0   \n",
       "1  34518         5                              Squeezers Juice Bar    5.0   \n",
       "2  34520        76           Spinster Sisters Co. (427 Lombrano St)    NaN   \n",
       "3  34521       194                               Yaya's Thai Fusion    NaN   \n",
       "4  34522       192  Willie's Grill &amp; Icehouse (7911 Interstate)    4.5   \n",
       "\n",
       "   ratings                                           category price_range  \\\n",
       "0      NaN  African, Ethiopian, Vegetarian, Alcohol, Liquo...           $   \n",
       "1     11.0  Black-owned, Juice and Smoothies, African, Hea...         NaN   \n",
       "2      NaN  Home &amp; Personal Care, Everyday Essentials,...           $   \n",
       "3      NaN                               Thai, Asian, Noodles           $   \n",
       "4     92.0  American, Burgers, Family Friendly, Wings, Alc...           $   \n",
       "\n",
       "         lat        lng                       address          city state  \\\n",
       "0  29.574320 -98.515210             14415 Blanco Road   San Antonio    TX   \n",
       "1  29.441000 -98.485470        914 East Elmira Street   San Antonio    TX   \n",
       "2  29.441910 -98.510550               427 Lombrano St   San Antonio    TX   \n",
       "3  29.480652 -98.607908       5819 Northwest Loop 410   San Antonio    TX   \n",
       "4  29.350066 -98.537672  7911 Interstate 35 Access Rd   San Antonio    TX   \n",
       "\n",
       "   zip_code  \n",
       "0   78248.0  \n",
       "1   78212.0  \n",
       "2   78207.0  \n",
       "3   78238.0  \n",
       "4   78224.0  "
      ]
     },
     "execution_count": 1,
     "metadata": {},
     "output_type": "execute_result"
    }
   ],
   "source": [
    "# Dependencies and Setup\n",
    "import pandas as pd\n",
    "from pathlib import Path\n",
    "from sklearn.linear_model import LinearRegression\n",
    "from sklearn.metrics import mean_squared_error, r2_score\n",
    "\n",
    "# File to Load\n",
    "file_path = Path(\"Restaurants_SanAntonio.csv\")\n",
    "\n",
    "# Read Restaurant Data File and store into Pandas DataFrame\n",
    "restaurants_df = pd.read_csv(file_path)\n",
    "\n",
    "# Display the first few rows of the DataFrame\n",
    "restaurants_df.head()\n"
   ]
  },
  {
   "cell_type": "code",
   "execution_count": 2,
   "metadata": {},
   "outputs": [
    {
     "name": "stdout",
     "output_type": "stream",
     "text": [
      "<class 'pandas.core.frame.DataFrame'>\n",
      "RangeIndex: 1215 entries, 0 to 1214\n",
      "Data columns (total 13 columns):\n",
      " #   Column       Non-Null Count  Dtype  \n",
      "---  ------       --------------  -----  \n",
      " 0   id           1215 non-null   int64  \n",
      " 1   position     1215 non-null   int64  \n",
      " 2   name         1215 non-null   object \n",
      " 3   score        672 non-null    float64\n",
      " 4   ratings      671 non-null    float64\n",
      " 5   category     1214 non-null   object \n",
      " 6   price_range  955 non-null    object \n",
      " 7   lat          1215 non-null   float64\n",
      " 8   lng          1215 non-null   float64\n",
      " 9   address      1215 non-null   object \n",
      " 10  city         1215 non-null   object \n",
      " 11  state        1215 non-null   object \n",
      " 12  zip_code     1214 non-null   float64\n",
      "dtypes: float64(5), int64(2), object(6)\n",
      "memory usage: 123.5+ KB\n"
     ]
    }
   ],
   "source": [
    "restaurants_df.info()"
   ]
  },
  {
   "cell_type": "code",
   "execution_count": 3,
   "metadata": {},
   "outputs": [
    {
     "name": "stdout",
     "output_type": "stream",
     "text": [
      "id               0\n",
      "position         0\n",
      "name             0\n",
      "score          543\n",
      "ratings        544\n",
      "category         1\n",
      "price_range    260\n",
      "lat              0\n",
      "lng              0\n",
      "address          0\n",
      "city             0\n",
      "state            0\n",
      "zip_code         1\n",
      "dtype: int64\n"
     ]
    }
   ],
   "source": [
    "# Check which columns have NaN values and how many NaN values are present in each column\n",
    "nan_counts = restaurants_df.isnull().sum()\n",
    "\n",
    "# Display the count of NaN values in each column\n",
    "print(nan_counts)"
   ]
  },
  {
   "cell_type": "code",
   "execution_count": 4,
   "metadata": {},
   "outputs": [
    {
     "data": {
      "text/html": [
       "<div>\n",
       "<style scoped>\n",
       "    .dataframe tbody tr th:only-of-type {\n",
       "        vertical-align: middle;\n",
       "    }\n",
       "\n",
       "    .dataframe tbody tr th {\n",
       "        vertical-align: top;\n",
       "    }\n",
       "\n",
       "    .dataframe thead th {\n",
       "        text-align: right;\n",
       "    }\n",
       "</style>\n",
       "<table border=\"1\" class=\"dataframe\">\n",
       "  <thead>\n",
       "    <tr style=\"text-align: right;\">\n",
       "      <th></th>\n",
       "      <th>id</th>\n",
       "      <th>position</th>\n",
       "      <th>name</th>\n",
       "      <th>score</th>\n",
       "      <th>ratings</th>\n",
       "      <th>category</th>\n",
       "      <th>price_range</th>\n",
       "      <th>lat</th>\n",
       "      <th>lng</th>\n",
       "      <th>address</th>\n",
       "      <th>city</th>\n",
       "      <th>state</th>\n",
       "      <th>zip_code</th>\n",
       "    </tr>\n",
       "  </thead>\n",
       "  <tbody>\n",
       "    <tr>\n",
       "      <th>4</th>\n",
       "      <td>34522</td>\n",
       "      <td>192</td>\n",
       "      <td>Willie's Grill &amp;amp; Icehouse (7911 Interstate)</td>\n",
       "      <td>4.5</td>\n",
       "      <td>92.0</td>\n",
       "      <td>American, Burgers, Family Friendly, Wings, Alc...</td>\n",
       "      <td>$</td>\n",
       "      <td>29.350066</td>\n",
       "      <td>-98.537672</td>\n",
       "      <td>7911 Interstate 35 Access Rd</td>\n",
       "      <td>San Antonio</td>\n",
       "      <td>TX</td>\n",
       "      <td>78224.0</td>\n",
       "    </tr>\n",
       "    <tr>\n",
       "      <th>8</th>\n",
       "      <td>34527</td>\n",
       "      <td>190</td>\n",
       "      <td>McDonald's¬Æ (1643 Pleasanton Road)</td>\n",
       "      <td>4.2</td>\n",
       "      <td>167.0</td>\n",
       "      <td>American, Fast Food, Burgers</td>\n",
       "      <td>$</td>\n",
       "      <td>29.366126</td>\n",
       "      <td>-98.504588</td>\n",
       "      <td>1643 Pleasanton Rd</td>\n",
       "      <td>San Antonio</td>\n",
       "      <td>TX</td>\n",
       "      <td>78221.0</td>\n",
       "    </tr>\n",
       "    <tr>\n",
       "      <th>25</th>\n",
       "      <td>34547</td>\n",
       "      <td>215</td>\n",
       "      <td>The Philly Cheesesteak Company (1011 N Loop 16...</td>\n",
       "      <td>3.9</td>\n",
       "      <td>41.0</td>\n",
       "      <td>American, Sandwiches, Desserts</td>\n",
       "      <td>$</td>\n",
       "      <td>29.611140</td>\n",
       "      <td>-98.477810</td>\n",
       "      <td>1011 N Loop 1604 E</td>\n",
       "      <td>San Antonio</td>\n",
       "      <td>TX</td>\n",
       "      <td>78232.0</td>\n",
       "    </tr>\n",
       "    <tr>\n",
       "      <th>28</th>\n",
       "      <td>34551</td>\n",
       "      <td>171</td>\n",
       "      <td>Zito's Delicatessen &amp;amp; Sandwich Shop (8800 ...</td>\n",
       "      <td>4.8</td>\n",
       "      <td>11.0</td>\n",
       "      <td>Sandwiches, American, Healthy</td>\n",
       "      <td>$$</td>\n",
       "      <td>29.520260</td>\n",
       "      <td>-98.460730</td>\n",
       "      <td>8800 Broadway St</td>\n",
       "      <td>San Antonio</td>\n",
       "      <td>TX</td>\n",
       "      <td>78217.0</td>\n",
       "    </tr>\n",
       "    <tr>\n",
       "      <th>29</th>\n",
       "      <td>34552</td>\n",
       "      <td>160</td>\n",
       "      <td>Nachos Muchachos (427 Lombrano St,)</td>\n",
       "      <td>3.2</td>\n",
       "      <td>33.0</td>\n",
       "      <td>American, Mexican, Snacks</td>\n",
       "      <td>$$</td>\n",
       "      <td>29.441910</td>\n",
       "      <td>-98.510550</td>\n",
       "      <td>427 Lombrano St</td>\n",
       "      <td>San Antonio</td>\n",
       "      <td>TX</td>\n",
       "      <td>78207.0</td>\n",
       "    </tr>\n",
       "  </tbody>\n",
       "</table>\n",
       "</div>"
      ],
      "text/plain": [
       "       id  position                                               name  score  \\\n",
       "4   34522       192    Willie's Grill &amp; Icehouse (7911 Interstate)    4.5   \n",
       "8   34527       190                McDonald's¬Æ (1643 Pleasanton Road)    4.2   \n",
       "25  34547       215  The Philly Cheesesteak Company (1011 N Loop 16...    3.9   \n",
       "28  34551       171  Zito's Delicatessen &amp; Sandwich Shop (8800 ...    4.8   \n",
       "29  34552       160                Nachos Muchachos (427 Lombrano St,)    3.2   \n",
       "\n",
       "    ratings                                           category price_range  \\\n",
       "4      92.0  American, Burgers, Family Friendly, Wings, Alc...           $   \n",
       "8     167.0                       American, Fast Food, Burgers           $   \n",
       "25     41.0                     American, Sandwiches, Desserts           $   \n",
       "28     11.0                      Sandwiches, American, Healthy          $$   \n",
       "29     33.0                          American, Mexican, Snacks          $$   \n",
       "\n",
       "          lat        lng                       address          city state  \\\n",
       "4   29.350066 -98.537672  7911 Interstate 35 Access Rd   San Antonio    TX   \n",
       "8   29.366126 -98.504588            1643 Pleasanton Rd   San Antonio    TX   \n",
       "25  29.611140 -98.477810            1011 N Loop 1604 E   San Antonio    TX   \n",
       "28  29.520260 -98.460730              8800 Broadway St   San Antonio    TX   \n",
       "29  29.441910 -98.510550               427 Lombrano St   San Antonio    TX   \n",
       "\n",
       "    zip_code  \n",
       "4    78224.0  \n",
       "8    78221.0  \n",
       "25   78232.0  \n",
       "28   78217.0  \n",
       "29   78207.0  "
      ]
     },
     "execution_count": 4,
     "metadata": {},
     "output_type": "execute_result"
    }
   ],
   "source": [
    "# Removing rows with NaN values and storing the result in a new DataFrame\n",
    "restaurants_df_cleaned = restaurants_df.dropna()\n",
    "\n",
    "# Display the first few rows of the cleaned DataFrame\n",
    "restaurants_df_cleaned.head()"
   ]
  },
  {
   "cell_type": "code",
   "execution_count": 5,
   "metadata": {},
   "outputs": [
    {
     "name": "stdout",
     "output_type": "stream",
     "text": [
      "<class 'pandas.core.frame.DataFrame'>\n",
      "Int64Index: 558 entries, 4 to 1214\n",
      "Data columns (total 13 columns):\n",
      " #   Column       Non-Null Count  Dtype  \n",
      "---  ------       --------------  -----  \n",
      " 0   id           558 non-null    int64  \n",
      " 1   position     558 non-null    int64  \n",
      " 2   name         558 non-null    object \n",
      " 3   score        558 non-null    float64\n",
      " 4   ratings      558 non-null    float64\n",
      " 5   category     558 non-null    object \n",
      " 6   price_range  558 non-null    object \n",
      " 7   lat          558 non-null    float64\n",
      " 8   lng          558 non-null    float64\n",
      " 9   address      558 non-null    object \n",
      " 10  city         558 non-null    object \n",
      " 11  state        558 non-null    object \n",
      " 12  zip_code     558 non-null    float64\n",
      "dtypes: float64(5), int64(2), object(6)\n",
      "memory usage: 61.0+ KB\n"
     ]
    }
   ],
   "source": [
    "restaurants_df_cleaned.info()"
   ]
  },
  {
   "cell_type": "code",
   "execution_count": 7,
   "metadata": {},
   "outputs": [],
   "source": [
    "#Saving the file\n",
    "restaurants_df_cleaned.to_csv(\"Output/restaurants_df.csv\", index=False, header=True)"
   ]
  },
  {
   "cell_type": "markdown",
   "metadata": {},
   "source": [
    "## Data Preparation"
   ]
  },
  {
   "cell_type": "code",
   "execution_count": 9,
   "metadata": {},
   "outputs": [
    {
     "data": {
      "text/html": [
       "<div>\n",
       "<style scoped>\n",
       "    .dataframe tbody tr th:only-of-type {\n",
       "        vertical-align: middle;\n",
       "    }\n",
       "\n",
       "    .dataframe tbody tr th {\n",
       "        vertical-align: top;\n",
       "    }\n",
       "\n",
       "    .dataframe thead th {\n",
       "        text-align: right;\n",
       "    }\n",
       "</style>\n",
       "<table border=\"1\" class=\"dataframe\">\n",
       "  <thead>\n",
       "    <tr style=\"text-align: right;\">\n",
       "      <th></th>\n",
       "      <th>id</th>\n",
       "      <th>position</th>\n",
       "      <th>name</th>\n",
       "      <th>score</th>\n",
       "      <th>ratings</th>\n",
       "      <th>category</th>\n",
       "      <th>price_range</th>\n",
       "      <th>lat</th>\n",
       "      <th>lng</th>\n",
       "      <th>address</th>\n",
       "      <th>city</th>\n",
       "      <th>state</th>\n",
       "      <th>zip_code</th>\n",
       "    </tr>\n",
       "  </thead>\n",
       "  <tbody>\n",
       "    <tr>\n",
       "      <th>4</th>\n",
       "      <td>34522</td>\n",
       "      <td>192</td>\n",
       "      <td>Willie's Grill &amp;amp; Icehouse (7911 Interstate)</td>\n",
       "      <td>4.5</td>\n",
       "      <td>92.0</td>\n",
       "      <td>American, Burgers, Family Friendly, Wings, Alc...</td>\n",
       "      <td>$</td>\n",
       "      <td>29.350066</td>\n",
       "      <td>-98.537672</td>\n",
       "      <td>7911 Interstate 35 Access Rd</td>\n",
       "      <td>San Antonio</td>\n",
       "      <td>TX</td>\n",
       "      <td>78224.0</td>\n",
       "    </tr>\n",
       "    <tr>\n",
       "      <th>8</th>\n",
       "      <td>34527</td>\n",
       "      <td>190</td>\n",
       "      <td>McDonald's¬Æ (1643 Pleasanton Road)</td>\n",
       "      <td>4.2</td>\n",
       "      <td>167.0</td>\n",
       "      <td>American, Fast Food, Burgers</td>\n",
       "      <td>$</td>\n",
       "      <td>29.366126</td>\n",
       "      <td>-98.504588</td>\n",
       "      <td>1643 Pleasanton Rd</td>\n",
       "      <td>San Antonio</td>\n",
       "      <td>TX</td>\n",
       "      <td>78221.0</td>\n",
       "    </tr>\n",
       "    <tr>\n",
       "      <th>25</th>\n",
       "      <td>34547</td>\n",
       "      <td>215</td>\n",
       "      <td>The Philly Cheesesteak Company (1011 N Loop 16...</td>\n",
       "      <td>3.9</td>\n",
       "      <td>41.0</td>\n",
       "      <td>American, Sandwiches, Desserts</td>\n",
       "      <td>$</td>\n",
       "      <td>29.611140</td>\n",
       "      <td>-98.477810</td>\n",
       "      <td>1011 N Loop 1604 E</td>\n",
       "      <td>San Antonio</td>\n",
       "      <td>TX</td>\n",
       "      <td>78232.0</td>\n",
       "    </tr>\n",
       "    <tr>\n",
       "      <th>28</th>\n",
       "      <td>34551</td>\n",
       "      <td>171</td>\n",
       "      <td>Zito's Delicatessen &amp;amp; Sandwich Shop (8800 ...</td>\n",
       "      <td>4.8</td>\n",
       "      <td>11.0</td>\n",
       "      <td>Sandwiches, American, Healthy</td>\n",
       "      <td>$$</td>\n",
       "      <td>29.520260</td>\n",
       "      <td>-98.460730</td>\n",
       "      <td>8800 Broadway St</td>\n",
       "      <td>San Antonio</td>\n",
       "      <td>TX</td>\n",
       "      <td>78217.0</td>\n",
       "    </tr>\n",
       "    <tr>\n",
       "      <th>29</th>\n",
       "      <td>34552</td>\n",
       "      <td>160</td>\n",
       "      <td>Nachos Muchachos (427 Lombrano St,)</td>\n",
       "      <td>3.2</td>\n",
       "      <td>33.0</td>\n",
       "      <td>American, Mexican, Snacks</td>\n",
       "      <td>$$</td>\n",
       "      <td>29.441910</td>\n",
       "      <td>-98.510550</td>\n",
       "      <td>427 Lombrano St</td>\n",
       "      <td>San Antonio</td>\n",
       "      <td>TX</td>\n",
       "      <td>78207.0</td>\n",
       "    </tr>\n",
       "  </tbody>\n",
       "</table>\n",
       "</div>"
      ],
      "text/plain": [
       "       id  position                                               name  score  \\\n",
       "4   34522       192    Willie's Grill &amp; Icehouse (7911 Interstate)    4.5   \n",
       "8   34527       190                McDonald's¬Æ (1643 Pleasanton Road)    4.2   \n",
       "25  34547       215  The Philly Cheesesteak Company (1011 N Loop 16...    3.9   \n",
       "28  34551       171  Zito's Delicatessen &amp; Sandwich Shop (8800 ...    4.8   \n",
       "29  34552       160                Nachos Muchachos (427 Lombrano St,)    3.2   \n",
       "\n",
       "    ratings                                           category price_range  \\\n",
       "4      92.0  American, Burgers, Family Friendly, Wings, Alc...           $   \n",
       "8     167.0                       American, Fast Food, Burgers           $   \n",
       "25     41.0                     American, Sandwiches, Desserts           $   \n",
       "28     11.0                      Sandwiches, American, Healthy          $$   \n",
       "29     33.0                          American, Mexican, Snacks          $$   \n",
       "\n",
       "          lat        lng                       address          city state  \\\n",
       "4   29.350066 -98.537672  7911 Interstate 35 Access Rd   San Antonio    TX   \n",
       "8   29.366126 -98.504588            1643 Pleasanton Rd   San Antonio    TX   \n",
       "25  29.611140 -98.477810            1011 N Loop 1604 E   San Antonio    TX   \n",
       "28  29.520260 -98.460730              8800 Broadway St   San Antonio    TX   \n",
       "29  29.441910 -98.510550               427 Lombrano St   San Antonio    TX   \n",
       "\n",
       "    zip_code  \n",
       "4    78224.0  \n",
       "8    78221.0  \n",
       "25   78232.0  \n",
       "28   78217.0  \n",
       "29   78207.0  "
      ]
     },
     "execution_count": 9,
     "metadata": {},
     "output_type": "execute_result"
    }
   ],
   "source": [
    "#Make a copy of the DF to edit for Linear Regression\n",
    "clean_copy = restaurants_df_cleaned.copy()\n",
    "clean_copy.head()"
   ]
  },
  {
   "cell_type": "code",
   "execution_count": null,
   "metadata": {},
   "outputs": [],
   "source": [
    "# position (Restaurant position in the search result)--keep\n",
    "# score (Restaurant score)--going to drop this to predict it\n",
    "# category (Restaurant category)--Maybe keep?? may mean we sacrifice clustering later on\n",
    "# price_range (Restaurant price range - $ = Inexpensive, $$ = Moderately expensive, $$$ = Expensive, $$$$ = Very Expensive) - Source - stackoverflow\n",
    "# zip_code (Zip code)--keep!\n",
    "\n",
    "\n",
    "#select the 'score', 'category'??,'price_range', 'zip_code'\n",
    "x=position, category, price_range, zip_code\n",
    "y=score"
   ]
  },
  {
   "cell_type": "code",
   "execution_count": 16,
   "metadata": {},
   "outputs": [],
   "source": [
    "#Convert the 'ratings' column from $ to number values\n",
    "clean_copy['price_range'] = clean_copy['price_range'].replace('$', '1')\n",
    "clean_copy['price_range'] = clean_copy['price_range'].replace('$$', '2')\n",
    "clean_copy['price_range'] = clean_copy['price_range'].replace('$$$', '3')\n",
    "clean_copy['price_range'] = clean_copy['price_range'].replace('$$$$', '4')"
   ]
  },
  {
   "cell_type": "code",
   "execution_count": 17,
   "metadata": {},
   "outputs": [
    {
     "data": {
      "text/html": [
       "<div>\n",
       "<style scoped>\n",
       "    .dataframe tbody tr th:only-of-type {\n",
       "        vertical-align: middle;\n",
       "    }\n",
       "\n",
       "    .dataframe tbody tr th {\n",
       "        vertical-align: top;\n",
       "    }\n",
       "\n",
       "    .dataframe thead th {\n",
       "        text-align: right;\n",
       "    }\n",
       "</style>\n",
       "<table border=\"1\" class=\"dataframe\">\n",
       "  <thead>\n",
       "    <tr style=\"text-align: right;\">\n",
       "      <th></th>\n",
       "      <th>id</th>\n",
       "      <th>position</th>\n",
       "      <th>name</th>\n",
       "      <th>score</th>\n",
       "      <th>ratings</th>\n",
       "      <th>category</th>\n",
       "      <th>price_range</th>\n",
       "      <th>lat</th>\n",
       "      <th>lng</th>\n",
       "      <th>address</th>\n",
       "      <th>city</th>\n",
       "      <th>state</th>\n",
       "      <th>zip_code</th>\n",
       "    </tr>\n",
       "  </thead>\n",
       "  <tbody>\n",
       "    <tr>\n",
       "      <th>4</th>\n",
       "      <td>34522</td>\n",
       "      <td>192</td>\n",
       "      <td>Willie's Grill &amp;amp; Icehouse (7911 Interstate)</td>\n",
       "      <td>4.5</td>\n",
       "      <td>92.0</td>\n",
       "      <td>American, Burgers, Family Friendly, Wings, Alc...</td>\n",
       "      <td>1</td>\n",
       "      <td>29.350066</td>\n",
       "      <td>-98.537672</td>\n",
       "      <td>7911 Interstate 35 Access Rd</td>\n",
       "      <td>San Antonio</td>\n",
       "      <td>TX</td>\n",
       "      <td>78224.0</td>\n",
       "    </tr>\n",
       "    <tr>\n",
       "      <th>8</th>\n",
       "      <td>34527</td>\n",
       "      <td>190</td>\n",
       "      <td>McDonald's¬Æ (1643 Pleasanton Road)</td>\n",
       "      <td>4.2</td>\n",
       "      <td>167.0</td>\n",
       "      <td>American, Fast Food, Burgers</td>\n",
       "      <td>1</td>\n",
       "      <td>29.366126</td>\n",
       "      <td>-98.504588</td>\n",
       "      <td>1643 Pleasanton Rd</td>\n",
       "      <td>San Antonio</td>\n",
       "      <td>TX</td>\n",
       "      <td>78221.0</td>\n",
       "    </tr>\n",
       "    <tr>\n",
       "      <th>25</th>\n",
       "      <td>34547</td>\n",
       "      <td>215</td>\n",
       "      <td>The Philly Cheesesteak Company (1011 N Loop 16...</td>\n",
       "      <td>3.9</td>\n",
       "      <td>41.0</td>\n",
       "      <td>American, Sandwiches, Desserts</td>\n",
       "      <td>1</td>\n",
       "      <td>29.611140</td>\n",
       "      <td>-98.477810</td>\n",
       "      <td>1011 N Loop 1604 E</td>\n",
       "      <td>San Antonio</td>\n",
       "      <td>TX</td>\n",
       "      <td>78232.0</td>\n",
       "    </tr>\n",
       "    <tr>\n",
       "      <th>28</th>\n",
       "      <td>34551</td>\n",
       "      <td>171</td>\n",
       "      <td>Zito's Delicatessen &amp;amp; Sandwich Shop (8800 ...</td>\n",
       "      <td>4.8</td>\n",
       "      <td>11.0</td>\n",
       "      <td>Sandwiches, American, Healthy</td>\n",
       "      <td>2</td>\n",
       "      <td>29.520260</td>\n",
       "      <td>-98.460730</td>\n",
       "      <td>8800 Broadway St</td>\n",
       "      <td>San Antonio</td>\n",
       "      <td>TX</td>\n",
       "      <td>78217.0</td>\n",
       "    </tr>\n",
       "    <tr>\n",
       "      <th>29</th>\n",
       "      <td>34552</td>\n",
       "      <td>160</td>\n",
       "      <td>Nachos Muchachos (427 Lombrano St,)</td>\n",
       "      <td>3.2</td>\n",
       "      <td>33.0</td>\n",
       "      <td>American, Mexican, Snacks</td>\n",
       "      <td>2</td>\n",
       "      <td>29.441910</td>\n",
       "      <td>-98.510550</td>\n",
       "      <td>427 Lombrano St</td>\n",
       "      <td>San Antonio</td>\n",
       "      <td>TX</td>\n",
       "      <td>78207.0</td>\n",
       "    </tr>\n",
       "  </tbody>\n",
       "</table>\n",
       "</div>"
      ],
      "text/plain": [
       "       id  position                                               name  score  \\\n",
       "4   34522       192    Willie's Grill &amp; Icehouse (7911 Interstate)    4.5   \n",
       "8   34527       190                McDonald's¬Æ (1643 Pleasanton Road)    4.2   \n",
       "25  34547       215  The Philly Cheesesteak Company (1011 N Loop 16...    3.9   \n",
       "28  34551       171  Zito's Delicatessen &amp; Sandwich Shop (8800 ...    4.8   \n",
       "29  34552       160                Nachos Muchachos (427 Lombrano St,)    3.2   \n",
       "\n",
       "    ratings                                           category price_range  \\\n",
       "4      92.0  American, Burgers, Family Friendly, Wings, Alc...           1   \n",
       "8     167.0                       American, Fast Food, Burgers           1   \n",
       "25     41.0                     American, Sandwiches, Desserts           1   \n",
       "28     11.0                      Sandwiches, American, Healthy           2   \n",
       "29     33.0                          American, Mexican, Snacks           2   \n",
       "\n",
       "          lat        lng                       address          city state  \\\n",
       "4   29.350066 -98.537672  7911 Interstate 35 Access Rd   San Antonio    TX   \n",
       "8   29.366126 -98.504588            1643 Pleasanton Rd   San Antonio    TX   \n",
       "25  29.611140 -98.477810            1011 N Loop 1604 E   San Antonio    TX   \n",
       "28  29.520260 -98.460730              8800 Broadway St   San Antonio    TX   \n",
       "29  29.441910 -98.510550               427 Lombrano St   San Antonio    TX   \n",
       "\n",
       "    zip_code  \n",
       "4    78224.0  \n",
       "8    78221.0  \n",
       "25   78232.0  \n",
       "28   78217.0  \n",
       "29   78207.0  "
      ]
     },
     "execution_count": 17,
     "metadata": {},
     "output_type": "execute_result"
    }
   ],
   "source": [
    "clean_copy.head()"
   ]
  },
  {
   "cell_type": "code",
   "execution_count": 18,
   "metadata": {},
   "outputs": [
    {
     "data": {
      "text/plain": [
       "array([[4.5],\n",
       "       [4.2],\n",
       "       [3.9],\n",
       "       [4.8],\n",
       "       [3.2]])"
      ]
     },
     "execution_count": 18,
     "metadata": {},
     "output_type": "execute_result"
    }
   ],
   "source": [
    "# Reformat data of the independent variable X as a single-column array\n",
    "X = restaurants_df_cleaned[\"price_range\"].values.reshape(-1, 1)\n",
    "\n",
    "# Display sample data\n",
    "X[:5]"
   ]
  },
  {
   "cell_type": "code",
   "execution_count": 19,
   "metadata": {},
   "outputs": [
    {
     "data": {
      "text/plain": [
       "(558, 1)"
      ]
     },
     "execution_count": 19,
     "metadata": {},
     "output_type": "execute_result"
    }
   ],
   "source": [
    "# The shape of X is 558 samples, with a single feature (column)\n",
    "X.shape"
   ]
  },
  {
   "cell_type": "code",
   "execution_count": 20,
   "metadata": {},
   "outputs": [],
   "source": [
    "# Create an array for the dependent variable y\n",
    "y = restaurants_df_cleaned[\"ratings\"]"
   ]
  },
  {
   "cell_type": "markdown",
   "metadata": {},
   "source": [
    "## Building the Linear Regression Model"
   ]
  },
  {
   "cell_type": "code",
   "execution_count": null,
   "metadata": {},
   "outputs": [],
   "source": []
  },
  {
   "cell_type": "code",
   "execution_count": null,
   "metadata": {},
   "outputs": [],
   "source": []
  },
  {
   "cell_type": "code",
   "execution_count": 23,
   "metadata": {},
   "outputs": [
    {
     "data": {
      "text/plain": [
       "LinearRegression()"
      ]
     },
     "execution_count": 23,
     "metadata": {},
     "output_type": "execute_result"
    }
   ],
   "source": [
    "#Linear Regression to determine the value that might replace the null rating and score values\n",
    "# Create a model with scikit-learn\n",
    "model = LinearRegression()\n",
    "\n",
    "#standardScaler()\n",
    "\n",
    "# Fit the data into the model\n",
    "model.fit(X, y)"
   ]
  },
  {
   "cell_type": "code",
   "execution_count": 24,
   "metadata": {},
   "outputs": [
    {
     "name": "stdout",
     "output_type": "stream",
     "text": [
      "Model's slope: [39.26707618]\n",
      "Model's y-intercept: -94.7311844079377\n",
      "Model's formula: y = -94.7311844079377 + 39.267076182787264X\n"
     ]
    }
   ],
   "source": [
    "# Display the slope\n",
    "print(f\"Model's slope: {model.coef_}\")\n",
    "\n",
    "# Display the y-intercept\n",
    "print(f\"Model's y-intercept: {model.intercept_}\")\n",
    "\n",
    "# Display the model's best fit line formula\n",
    "print(f\"Model's formula: y = {model.intercept_} + {model.coef_[0]}X\")"
   ]
  },
  {
   "cell_type": "code",
   "execution_count": 29,
   "metadata": {},
   "outputs": [
    {
     "name": "stdout",
     "output_type": "stream",
     "text": [
      "Model's $ formula: y = -94.7311844079377 + 39.267076182787264 * 1\n",
      "Model's $$ formula: y = -94.7311844079377 + 39.267076182787264 * 2\n",
      "Model's $$$ formula: y = -94.7311844079377 + 39.267076182787264 * 3\n",
      "Model's $$$$ formula: y = -94.7311844079377 + 39.267076182787264 * 4\n"
     ]
    }
   ],
   "source": [
    "# Display the formula to predict the rating for a restaurant based on its price range\n",
    "print(f\"Model's $ formula: y = {model.intercept_} + {model.coef_[0]} * 1\")\n",
    "print(f\"Model's $$ formula: y = {model.intercept_} + {model.coef_[0]} * 2\")\n",
    "print(f\"Model's $$$ formula: y = {model.intercept_} + {model.coef_[0]} * 3\")\n",
    "print(f\"Model's $$$$ formula: y = {model.intercept_} + {model.coef_[0]} * 4\")"
   ]
  },
  {
   "cell_type": "code",
   "execution_count": 27,
   "metadata": {},
   "outputs": [
    {
     "name": "stdout",
     "output_type": "stream",
     "text": [
      "Predicted rating for $ restaurant: -55.46\n",
      "Predicted rating for $$ restaurant: -16.20\n",
      "Predicted rating for $$$ restaurant: 23.07\n",
      "Predicted rating for $$$$ restaurant: 62.34\n"
     ]
    }
   ],
   "source": [
    "#Predict the rating for a restaurant\n",
    "y_1=model.intercept_ + model.coef_[0]*1\n",
    "y_2=model.intercept_ + model.coef_[0]*2\n",
    "y_3=model.intercept_ + model.coef_[0]*3\n",
    "y_4=model.intercept_ + model.coef_[0]*4\n",
    "\n",
    "# Display the prediction\n",
    "print(f\"Predicted rating for $ restaurant: {y_1:.2f}\")\n",
    "print(f\"Predicted rating for $$ restaurant: {y_2:.2f}\")\n",
    "print(f\"Predicted rating for $$$ restaurant: {y_3:.2f}\")\n",
    "print(f\"Predicted rating for $$$$ restaurant: {y_4:.2f}\")"
   ]
  },
  {
   "cell_type": "code",
   "execution_count": 26,
   "metadata": {},
   "outputs": [],
   "source": [
    "# Make predictions using the X set\n",
    "predicted_y_values = model.predict(X)"
   ]
  },
  {
   "cell_type": "code",
   "execution_count": null,
   "metadata": {},
   "outputs": [],
   "source": [
    "# Add a column with the predicted salary values\n",
    "df_ratings_predicted[\"salary_predicted\"] = predicted_y_values\n",
    "\n",
    "# Display sample data\n",
    "df_ratings_predicted.head()"
   ]
  },
  {
   "cell_type": "code",
   "execution_count": null,
   "metadata": {},
   "outputs": [],
   "source": [
    "# Create a line plot of the predicted salary values\n",
    "best_fit_line = df_salary_predicted.hvplot.line(\n",
    "    x = \"years_experience\",\n",
    "    y = \"salary_predicted\",\n",
    "    color = \"red\"\n",
    ")\n",
    "best_fit_line"
   ]
  },
  {
   "cell_type": "code",
   "execution_count": null,
   "metadata": {},
   "outputs": [],
   "source": [
    "# Superpose the original data and the best fit line\n",
    "salary_plot * best_fit_line"
   ]
  },
  {
   "cell_type": "markdown",
   "metadata": {},
   "source": [
    "## Linear Regression Model Assessment"
   ]
  },
  {
   "cell_type": "code",
   "execution_count": null,
   "metadata": {},
   "outputs": [],
   "source": [
    "# Compute the metrics for the linear regression model\n",
    "score = model.score(X, y, sample_weight=None)\n",
    "r2 = r2_score(y, predicted_y_values)\n",
    "mse = mean_squared_error(y, predicted_y_values)\n",
    "rmse = np.sqrt(mse)\n",
    "std = np.std(y)\n",
    "\n",
    "# Print relevant metrics.\n",
    "print(f\"The score is {score}.\")\n",
    "print(f\"The r2 is {r2}.\")\n",
    "print(f\"The mean squared error is {mse}.\")\n",
    "print(f\"The root mean squared error is {rmse}.\")\n",
    "print(f\"The standard deviation is {std}.\")"
   ]
  },
  {
   "cell_type": "code",
   "execution_count": null,
   "metadata": {},
   "outputs": [],
   "source": []
  }
 ],
 "metadata": {
  "anaconda-cloud": {},
  "kernel_info": {
   "name": "python3"
  },
  "kernelspec": {
   "display_name": "Python 3 (ipykernel)",
   "language": "python",
   "name": "python3"
  },
  "language_info": {
   "codemirror_mode": {
    "name": "ipython",
    "version": 3
   },
   "file_extension": ".py",
   "mimetype": "text/x-python",
   "name": "python",
   "nbconvert_exporter": "python",
   "pygments_lexer": "ipython3",
   "version": "3.9.13"
  },
  "latex_envs": {
   "LaTeX_envs_menu_present": true,
   "autoclose": false,
   "autocomplete": true,
   "bibliofile": "biblio.bib",
   "cite_by": "apalike",
   "current_citInitial": 1,
   "eqLabelWithNumbers": true,
   "eqNumInitial": 1,
   "hotkeys": {
    "equation": "Ctrl-E",
    "itemize": "Ctrl-I"
   },
   "labels_anchors": false,
   "latex_user_defs": false,
   "report_style_numbering": false,
   "user_envs_cfg": false
  },
  "nteract": {
   "version": "0.8.4"
  },
  "vscode": {
   "interpreter": {
    "hash": "5384d77d82de63fd599f73e77f9ec786e7719288bf80a29ec0288c670ac3cf32"
   }
  }
 },
 "nbformat": 4,
 "nbformat_minor": 4
}
