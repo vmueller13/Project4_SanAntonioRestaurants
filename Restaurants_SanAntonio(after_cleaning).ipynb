{
 "cells": [
  {
   "cell_type": "markdown",
   "metadata": {},
   "source": [
    "# Restaurants San Antonio"
   ]
  },
  {
   "cell_type": "code",
   "execution_count": 27,
   "metadata": {},
   "outputs": [
    {
     "ename": "ModuleNotFoundError",
     "evalue": "No module named 'tensorflow'",
     "output_type": "error",
     "traceback": [
      "\u001b[1;31m---------------------------------------------------------------------------\u001b[0m",
      "\u001b[1;31mModuleNotFoundError\u001b[0m                       Traceback (most recent call last)",
      "\u001b[1;32m~\\AppData\\Local\\Temp\\ipykernel_5228\\2361970070.py\u001b[0m in \u001b[0;36m<module>\u001b[1;34m\u001b[0m\n\u001b[0;32m      9\u001b[0m \u001b[1;32mimport\u001b[0m \u001b[0mmatplotlib\u001b[0m\u001b[1;33m.\u001b[0m\u001b[0mpyplot\u001b[0m \u001b[1;32mas\u001b[0m \u001b[0mplt\u001b[0m\u001b[1;33m\u001b[0m\u001b[1;33m\u001b[0m\u001b[0m\n\u001b[0;32m     10\u001b[0m \u001b[1;32mfrom\u001b[0m \u001b[0msklearn\u001b[0m \u001b[1;32mimport\u001b[0m \u001b[0mmetrics\u001b[0m\u001b[1;33m\u001b[0m\u001b[1;33m\u001b[0m\u001b[0m\n\u001b[1;32m---> 11\u001b[1;33m \u001b[1;32mimport\u001b[0m \u001b[0mtensorflow\u001b[0m \u001b[1;32mas\u001b[0m \u001b[0mtf\u001b[0m\u001b[1;33m\u001b[0m\u001b[1;33m\u001b[0m\u001b[0m\n\u001b[0m\u001b[0;32m     12\u001b[0m \u001b[1;32mfrom\u001b[0m \u001b[0mtensorflow\u001b[0m\u001b[1;33m.\u001b[0m\u001b[0mkeras\u001b[0m\u001b[1;33m.\u001b[0m\u001b[0mmodels\u001b[0m \u001b[1;32mimport\u001b[0m \u001b[0mSequential\u001b[0m\u001b[1;33m\u001b[0m\u001b[1;33m\u001b[0m\u001b[0m\n\u001b[0;32m     13\u001b[0m \u001b[1;32mfrom\u001b[0m \u001b[0mtensorflow\u001b[0m\u001b[1;33m.\u001b[0m\u001b[0mkeras\u001b[0m\u001b[1;33m.\u001b[0m\u001b[0mlayers\u001b[0m \u001b[1;32mimport\u001b[0m \u001b[0mDense\u001b[0m\u001b[1;33m\u001b[0m\u001b[1;33m\u001b[0m\u001b[0m\n",
      "\u001b[1;31mModuleNotFoundError\u001b[0m: No module named 'tensorflow'"
     ]
    }
   ],
   "source": [
    "# Dependencies and Setup\n",
    "import pandas as pd\n",
    "import numpy as np\n",
    "from pathlib import Path\n",
    "from sklearn.linear_model import LinearRegression\n",
    "from sklearn.metrics import mean_squared_error, r2_score\n",
    "from sklearn.preprocessing import LabelEncoder\n",
    "import hvplot.pandas\n",
    "import matplotlib.pyplot as plt\n",
    "from sklearn import metrics\n",
    "import tensorflow as tf\n",
    "from tensorflow.keras.models import Sequential\n",
    "from tensorflow.keras.layers import Dense\n",
    "\n",
    "# File to Load\n",
    "file_path = Path(\"Restaurants_SanAntonio.csv\")\n",
    "\n",
    "# Read Restaurant Data File and store into Pandas DataFrame\n",
    "restaurants_df = pd.read_csv(file_path)\n",
    "\n",
    "# Display the first few rows of the DataFrame\n",
    "restaurants_df.head()\n"
   ]
  },
  {
   "cell_type": "code",
   "execution_count": 2,
   "metadata": {},
   "outputs": [
    {
     "name": "stdout",
     "output_type": "stream",
     "text": [
      "<class 'pandas.core.frame.DataFrame'>\n",
      "RangeIndex: 1215 entries, 0 to 1214\n",
      "Data columns (total 13 columns):\n",
      " #   Column       Non-Null Count  Dtype  \n",
      "---  ------       --------------  -----  \n",
      " 0   id           1215 non-null   int64  \n",
      " 1   position     1215 non-null   int64  \n",
      " 2   name         1215 non-null   object \n",
      " 3   score        672 non-null    float64\n",
      " 4   ratings      671 non-null    float64\n",
      " 5   category     1214 non-null   object \n",
      " 6   price_range  955 non-null    object \n",
      " 7   lat          1215 non-null   float64\n",
      " 8   lng          1215 non-null   float64\n",
      " 9   address      1215 non-null   object \n",
      " 10  city         1215 non-null   object \n",
      " 11  state        1215 non-null   object \n",
      " 12  zip_code     1214 non-null   float64\n",
      "dtypes: float64(5), int64(2), object(6)\n",
      "memory usage: 123.5+ KB\n"
     ]
    }
   ],
   "source": [
    "restaurants_df.info()"
   ]
  },
  {
   "cell_type": "code",
   "execution_count": 3,
   "metadata": {},
   "outputs": [
    {
     "name": "stdout",
     "output_type": "stream",
     "text": [
      "id               0\n",
      "position         0\n",
      "name             0\n",
      "score          543\n",
      "ratings        544\n",
      "category         1\n",
      "price_range    260\n",
      "lat              0\n",
      "lng              0\n",
      "address          0\n",
      "city             0\n",
      "state            0\n",
      "zip_code         1\n",
      "dtype: int64\n"
     ]
    }
   ],
   "source": [
    "# Check which columns have NaN values and how many NaN values are present in each column\n",
    "nan_counts = restaurants_df.isnull().sum()\n",
    "\n",
    "# Display the count of NaN values in each column\n",
    "print(nan_counts)"
   ]
  },
  {
   "cell_type": "code",
   "execution_count": 4,
   "metadata": {},
   "outputs": [
    {
     "data": {
      "text/html": [
       "<div>\n",
       "<style scoped>\n",
       "    .dataframe tbody tr th:only-of-type {\n",
       "        vertical-align: middle;\n",
       "    }\n",
       "\n",
       "    .dataframe tbody tr th {\n",
       "        vertical-align: top;\n",
       "    }\n",
       "\n",
       "    .dataframe thead th {\n",
       "        text-align: right;\n",
       "    }\n",
       "</style>\n",
       "<table border=\"1\" class=\"dataframe\">\n",
       "  <thead>\n",
       "    <tr style=\"text-align: right;\">\n",
       "      <th></th>\n",
       "      <th>id</th>\n",
       "      <th>position</th>\n",
       "      <th>name</th>\n",
       "      <th>score</th>\n",
       "      <th>ratings</th>\n",
       "      <th>category</th>\n",
       "      <th>price_range</th>\n",
       "      <th>lat</th>\n",
       "      <th>lng</th>\n",
       "      <th>address</th>\n",
       "      <th>city</th>\n",
       "      <th>state</th>\n",
       "      <th>zip_code</th>\n",
       "    </tr>\n",
       "  </thead>\n",
       "  <tbody>\n",
       "    <tr>\n",
       "      <th>4</th>\n",
       "      <td>34522</td>\n",
       "      <td>192</td>\n",
       "      <td>Willie's Grill &amp;amp; Icehouse (7911 Interstate)</td>\n",
       "      <td>4.5</td>\n",
       "      <td>92.0</td>\n",
       "      <td>American, Burgers, Family Friendly, Wings, Alc...</td>\n",
       "      <td>$</td>\n",
       "      <td>29.350066</td>\n",
       "      <td>-98.537672</td>\n",
       "      <td>7911 Interstate 35 Access Rd</td>\n",
       "      <td>San Antonio</td>\n",
       "      <td>TX</td>\n",
       "      <td>78224.0</td>\n",
       "    </tr>\n",
       "    <tr>\n",
       "      <th>8</th>\n",
       "      <td>34527</td>\n",
       "      <td>190</td>\n",
       "      <td>McDonald's¬Æ (1643 Pleasanton Road)</td>\n",
       "      <td>4.2</td>\n",
       "      <td>167.0</td>\n",
       "      <td>American, Fast Food, Burgers</td>\n",
       "      <td>$</td>\n",
       "      <td>29.366126</td>\n",
       "      <td>-98.504588</td>\n",
       "      <td>1643 Pleasanton Rd</td>\n",
       "      <td>San Antonio</td>\n",
       "      <td>TX</td>\n",
       "      <td>78221.0</td>\n",
       "    </tr>\n",
       "    <tr>\n",
       "      <th>25</th>\n",
       "      <td>34547</td>\n",
       "      <td>215</td>\n",
       "      <td>The Philly Cheesesteak Company (1011 N Loop 16...</td>\n",
       "      <td>3.9</td>\n",
       "      <td>41.0</td>\n",
       "      <td>American, Sandwiches, Desserts</td>\n",
       "      <td>$</td>\n",
       "      <td>29.611140</td>\n",
       "      <td>-98.477810</td>\n",
       "      <td>1011 N Loop 1604 E</td>\n",
       "      <td>San Antonio</td>\n",
       "      <td>TX</td>\n",
       "      <td>78232.0</td>\n",
       "    </tr>\n",
       "    <tr>\n",
       "      <th>28</th>\n",
       "      <td>34551</td>\n",
       "      <td>171</td>\n",
       "      <td>Zito's Delicatessen &amp;amp; Sandwich Shop (8800 ...</td>\n",
       "      <td>4.8</td>\n",
       "      <td>11.0</td>\n",
       "      <td>Sandwiches, American, Healthy</td>\n",
       "      <td>$$</td>\n",
       "      <td>29.520260</td>\n",
       "      <td>-98.460730</td>\n",
       "      <td>8800 Broadway St</td>\n",
       "      <td>San Antonio</td>\n",
       "      <td>TX</td>\n",
       "      <td>78217.0</td>\n",
       "    </tr>\n",
       "    <tr>\n",
       "      <th>29</th>\n",
       "      <td>34552</td>\n",
       "      <td>160</td>\n",
       "      <td>Nachos Muchachos (427 Lombrano St,)</td>\n",
       "      <td>3.2</td>\n",
       "      <td>33.0</td>\n",
       "      <td>American, Mexican, Snacks</td>\n",
       "      <td>$$</td>\n",
       "      <td>29.441910</td>\n",
       "      <td>-98.510550</td>\n",
       "      <td>427 Lombrano St</td>\n",
       "      <td>San Antonio</td>\n",
       "      <td>TX</td>\n",
       "      <td>78207.0</td>\n",
       "    </tr>\n",
       "  </tbody>\n",
       "</table>\n",
       "</div>"
      ],
      "text/plain": [
       "       id  position                                               name  score  \\\n",
       "4   34522       192    Willie's Grill &amp; Icehouse (7911 Interstate)    4.5   \n",
       "8   34527       190                McDonald's¬Æ (1643 Pleasanton Road)    4.2   \n",
       "25  34547       215  The Philly Cheesesteak Company (1011 N Loop 16...    3.9   \n",
       "28  34551       171  Zito's Delicatessen &amp; Sandwich Shop (8800 ...    4.8   \n",
       "29  34552       160                Nachos Muchachos (427 Lombrano St,)    3.2   \n",
       "\n",
       "    ratings                                           category price_range  \\\n",
       "4      92.0  American, Burgers, Family Friendly, Wings, Alc...           $   \n",
       "8     167.0                       American, Fast Food, Burgers           $   \n",
       "25     41.0                     American, Sandwiches, Desserts           $   \n",
       "28     11.0                      Sandwiches, American, Healthy          $$   \n",
       "29     33.0                          American, Mexican, Snacks          $$   \n",
       "\n",
       "          lat        lng                       address          city state  \\\n",
       "4   29.350066 -98.537672  7911 Interstate 35 Access Rd   San Antonio    TX   \n",
       "8   29.366126 -98.504588            1643 Pleasanton Rd   San Antonio    TX   \n",
       "25  29.611140 -98.477810            1011 N Loop 1604 E   San Antonio    TX   \n",
       "28  29.520260 -98.460730              8800 Broadway St   San Antonio    TX   \n",
       "29  29.441910 -98.510550               427 Lombrano St   San Antonio    TX   \n",
       "\n",
       "    zip_code  \n",
       "4    78224.0  \n",
       "8    78221.0  \n",
       "25   78232.0  \n",
       "28   78217.0  \n",
       "29   78207.0  "
      ]
     },
     "execution_count": 4,
     "metadata": {},
     "output_type": "execute_result"
    }
   ],
   "source": [
    "# Removing rows with NaN values and storing the result in a new DataFrame\n",
    "restaurants_df_cleaned = restaurants_df.dropna()\n",
    "\n",
    "# Display the first few rows of the cleaned DataFrame\n",
    "restaurants_df_cleaned.head()"
   ]
  },
  {
   "cell_type": "code",
   "execution_count": 5,
   "metadata": {},
   "outputs": [
    {
     "name": "stdout",
     "output_type": "stream",
     "text": [
      "<class 'pandas.core.frame.DataFrame'>\n",
      "Int64Index: 558 entries, 4 to 1214\n",
      "Data columns (total 13 columns):\n",
      " #   Column       Non-Null Count  Dtype  \n",
      "---  ------       --------------  -----  \n",
      " 0   id           558 non-null    int64  \n",
      " 1   position     558 non-null    int64  \n",
      " 2   name         558 non-null    object \n",
      " 3   score        558 non-null    float64\n",
      " 4   ratings      558 non-null    float64\n",
      " 5   category     558 non-null    object \n",
      " 6   price_range  558 non-null    object \n",
      " 7   lat          558 non-null    float64\n",
      " 8   lng          558 non-null    float64\n",
      " 9   address      558 non-null    object \n",
      " 10  city         558 non-null    object \n",
      " 11  state        558 non-null    object \n",
      " 12  zip_code     558 non-null    float64\n",
      "dtypes: float64(5), int64(2), object(6)\n",
      "memory usage: 61.0+ KB\n"
     ]
    }
   ],
   "source": [
    "restaurants_df_cleaned.info()"
   ]
  },
  {
   "cell_type": "code",
   "execution_count": 6,
   "metadata": {},
   "outputs": [],
   "source": [
    "#Saving the file\n",
    "restaurants_df_cleaned.to_csv(\"Output/restaurants_df.csv\", index=False, header=True)"
   ]
  },
  {
   "cell_type": "markdown",
   "metadata": {},
   "source": [
    "## Data Preparation"
   ]
  },
  {
   "cell_type": "code",
   "execution_count": 7,
   "metadata": {},
   "outputs": [
    {
     "data": {
      "text/html": [
       "<div>\n",
       "<style scoped>\n",
       "    .dataframe tbody tr th:only-of-type {\n",
       "        vertical-align: middle;\n",
       "    }\n",
       "\n",
       "    .dataframe tbody tr th {\n",
       "        vertical-align: top;\n",
       "    }\n",
       "\n",
       "    .dataframe thead th {\n",
       "        text-align: right;\n",
       "    }\n",
       "</style>\n",
       "<table border=\"1\" class=\"dataframe\">\n",
       "  <thead>\n",
       "    <tr style=\"text-align: right;\">\n",
       "      <th></th>\n",
       "      <th>id</th>\n",
       "      <th>position</th>\n",
       "      <th>name</th>\n",
       "      <th>score</th>\n",
       "      <th>ratings</th>\n",
       "      <th>category</th>\n",
       "      <th>price_range</th>\n",
       "      <th>lat</th>\n",
       "      <th>lng</th>\n",
       "      <th>address</th>\n",
       "      <th>city</th>\n",
       "      <th>state</th>\n",
       "      <th>zip_code</th>\n",
       "    </tr>\n",
       "  </thead>\n",
       "  <tbody>\n",
       "    <tr>\n",
       "      <th>4</th>\n",
       "      <td>34522</td>\n",
       "      <td>192</td>\n",
       "      <td>Willie's Grill &amp;amp; Icehouse (7911 Interstate)</td>\n",
       "      <td>4.5</td>\n",
       "      <td>92.0</td>\n",
       "      <td>American, Burgers, Family Friendly, Wings, Alc...</td>\n",
       "      <td>$</td>\n",
       "      <td>29.350066</td>\n",
       "      <td>-98.537672</td>\n",
       "      <td>7911 Interstate 35 Access Rd</td>\n",
       "      <td>San Antonio</td>\n",
       "      <td>TX</td>\n",
       "      <td>78224.0</td>\n",
       "    </tr>\n",
       "    <tr>\n",
       "      <th>8</th>\n",
       "      <td>34527</td>\n",
       "      <td>190</td>\n",
       "      <td>McDonald's¬Æ (1643 Pleasanton Road)</td>\n",
       "      <td>4.2</td>\n",
       "      <td>167.0</td>\n",
       "      <td>American, Fast Food, Burgers</td>\n",
       "      <td>$</td>\n",
       "      <td>29.366126</td>\n",
       "      <td>-98.504588</td>\n",
       "      <td>1643 Pleasanton Rd</td>\n",
       "      <td>San Antonio</td>\n",
       "      <td>TX</td>\n",
       "      <td>78221.0</td>\n",
       "    </tr>\n",
       "    <tr>\n",
       "      <th>25</th>\n",
       "      <td>34547</td>\n",
       "      <td>215</td>\n",
       "      <td>The Philly Cheesesteak Company (1011 N Loop 16...</td>\n",
       "      <td>3.9</td>\n",
       "      <td>41.0</td>\n",
       "      <td>American, Sandwiches, Desserts</td>\n",
       "      <td>$</td>\n",
       "      <td>29.611140</td>\n",
       "      <td>-98.477810</td>\n",
       "      <td>1011 N Loop 1604 E</td>\n",
       "      <td>San Antonio</td>\n",
       "      <td>TX</td>\n",
       "      <td>78232.0</td>\n",
       "    </tr>\n",
       "    <tr>\n",
       "      <th>28</th>\n",
       "      <td>34551</td>\n",
       "      <td>171</td>\n",
       "      <td>Zito's Delicatessen &amp;amp; Sandwich Shop (8800 ...</td>\n",
       "      <td>4.8</td>\n",
       "      <td>11.0</td>\n",
       "      <td>Sandwiches, American, Healthy</td>\n",
       "      <td>$$</td>\n",
       "      <td>29.520260</td>\n",
       "      <td>-98.460730</td>\n",
       "      <td>8800 Broadway St</td>\n",
       "      <td>San Antonio</td>\n",
       "      <td>TX</td>\n",
       "      <td>78217.0</td>\n",
       "    </tr>\n",
       "    <tr>\n",
       "      <th>29</th>\n",
       "      <td>34552</td>\n",
       "      <td>160</td>\n",
       "      <td>Nachos Muchachos (427 Lombrano St,)</td>\n",
       "      <td>3.2</td>\n",
       "      <td>33.0</td>\n",
       "      <td>American, Mexican, Snacks</td>\n",
       "      <td>$$</td>\n",
       "      <td>29.441910</td>\n",
       "      <td>-98.510550</td>\n",
       "      <td>427 Lombrano St</td>\n",
       "      <td>San Antonio</td>\n",
       "      <td>TX</td>\n",
       "      <td>78207.0</td>\n",
       "    </tr>\n",
       "  </tbody>\n",
       "</table>\n",
       "</div>"
      ],
      "text/plain": [
       "       id  position                                               name  score  \\\n",
       "4   34522       192    Willie's Grill &amp; Icehouse (7911 Interstate)    4.5   \n",
       "8   34527       190                McDonald's¬Æ (1643 Pleasanton Road)    4.2   \n",
       "25  34547       215  The Philly Cheesesteak Company (1011 N Loop 16...    3.9   \n",
       "28  34551       171  Zito's Delicatessen &amp; Sandwich Shop (8800 ...    4.8   \n",
       "29  34552       160                Nachos Muchachos (427 Lombrano St,)    3.2   \n",
       "\n",
       "    ratings                                           category price_range  \\\n",
       "4      92.0  American, Burgers, Family Friendly, Wings, Alc...           $   \n",
       "8     167.0                       American, Fast Food, Burgers           $   \n",
       "25     41.0                     American, Sandwiches, Desserts           $   \n",
       "28     11.0                      Sandwiches, American, Healthy          $$   \n",
       "29     33.0                          American, Mexican, Snacks          $$   \n",
       "\n",
       "          lat        lng                       address          city state  \\\n",
       "4   29.350066 -98.537672  7911 Interstate 35 Access Rd   San Antonio    TX   \n",
       "8   29.366126 -98.504588            1643 Pleasanton Rd   San Antonio    TX   \n",
       "25  29.611140 -98.477810            1011 N Loop 1604 E   San Antonio    TX   \n",
       "28  29.520260 -98.460730              8800 Broadway St   San Antonio    TX   \n",
       "29  29.441910 -98.510550               427 Lombrano St   San Antonio    TX   \n",
       "\n",
       "    zip_code  \n",
       "4    78224.0  \n",
       "8    78221.0  \n",
       "25   78232.0  \n",
       "28   78217.0  \n",
       "29   78207.0  "
      ]
     },
     "execution_count": 7,
     "metadata": {},
     "output_type": "execute_result"
    }
   ],
   "source": [
    "#Make a copy of the DF to edit for Linear Regression\n",
    "clean_copy = restaurants_df_cleaned.copy()\n",
    "clean_copy.head()"
   ]
  },
  {
   "cell_type": "code",
   "execution_count": 8,
   "metadata": {},
   "outputs": [
    {
     "name": "stdout",
     "output_type": "stream",
     "text": [
      "      position  score                                           category  \\\n",
      "4          192    4.5  American, Burgers, Family Friendly, Wings, Alc...   \n",
      "8          190    4.2                       American, Fast Food, Burgers   \n",
      "25         215    3.9                     American, Sandwiches, Desserts   \n",
      "28         171    4.8                      Sandwiches, American, Healthy   \n",
      "29         160    3.2                          American, Mexican, Snacks   \n",
      "...        ...    ...                                                ...   \n",
      "1207       100    4.2                                          Fast Food   \n",
      "1208        92    4.8                       American, Burgers, Fast Food   \n",
      "1209        88    4.6  Mexican, Tex Mex, Breakfast and Brunch, Family...   \n",
      "1211        33    4.7                      Burgers, American, Sandwiches   \n",
      "1214       185    4.5  Fast Food, American, Family Meals, Family Frie...   \n",
      "\n",
      "     price_range  zip_code  \n",
      "4              $   78224.0  \n",
      "8              $   78221.0  \n",
      "25             $   78232.0  \n",
      "28            $$   78217.0  \n",
      "29            $$   78207.0  \n",
      "...          ...       ...  \n",
      "1207           $   78204.0  \n",
      "1208           $   78232.0  \n",
      "1209           $   78223.0  \n",
      "1211           $   78232.0  \n",
      "1214           $   78211.0  \n",
      "\n",
      "[558 rows x 5 columns]\n"
     ]
    }
   ],
   "source": [
    "# position (Restaurant position in the search result)--keep\n",
    "# score (Restaurant score)--going to drop this to predict it\n",
    "# category (Restaurant category)--Maybe keep?? may mean we sacrifice clustering later on\n",
    "# price_range (Restaurant price range - $ = Inexpensive, $$ = Moderately expensive, $$$ = Expensive, $$$$ = Very Expensive) - Source - stackoverflow\n",
    "# zip_code (Zip code)--keep!\n",
    "\n",
    "#drop uneccessary columns\n",
    "clean_copy.drop(columns=['id','name', 'ratings','lat', 'lng', 'address', 'city', 'state'], inplace=True)\n",
    "print(clean_copy)"
   ]
  },
  {
   "cell_type": "code",
   "execution_count": 9,
   "metadata": {},
   "outputs": [
    {
     "data": {
      "text/plain": [
       "Mexican, Latin American, New Mexican                             22\n",
       "Burgers, American, Sandwiches                                    17\n",
       "Mexican, Tex Mex, Breakfast and Brunch, Family Meals              7\n",
       "American, Burgers, Fast Food                                      6\n",
       "Breakfast and Brunch, American, Sandwiches                        5\n",
       "                                                                 ..\n",
       "American, Diner                                                   1\n",
       "Burgers, American, Sandwiches, Seafood, Bar Food, Cafe, Wings     1\n",
       "Mexican, American                                                 1\n",
       "American, Burgers, Comfort Food, Pasta, Sandwich                  1\n",
       "Sandwich, Deli                                                    1\n",
       "Name: category, Length: 390, dtype: int64"
      ]
     },
     "execution_count": 9,
     "metadata": {},
     "output_type": "execute_result"
    }
   ],
   "source": [
    "#look at the category column to see if there are consistent values\n",
    "clean_copy['category'].value_counts()"
   ]
  },
  {
   "cell_type": "code",
   "execution_count": 10,
   "metadata": {},
   "outputs": [],
   "source": [
    "#categories are overlapping, drop the category column\n",
    "clean_copy.drop(columns=['category'], inplace  =True)"
   ]
  },
  {
   "cell_type": "code",
   "execution_count": 11,
   "metadata": {},
   "outputs": [
    {
     "data": {
      "text/plain": [
       "position         int64\n",
       "score          float64\n",
       "price_range     object\n",
       "zip_code       float64\n",
       "dtype: object"
      ]
     },
     "execution_count": 11,
     "metadata": {},
     "output_type": "execute_result"
    }
   ],
   "source": [
    "#check dtypes\n",
    "clean_copy.dtypes"
   ]
  },
  {
   "cell_type": "code",
   "execution_count": 12,
   "metadata": {},
   "outputs": [
    {
     "data": {
      "text/html": [
       "<div>\n",
       "<style scoped>\n",
       "    .dataframe tbody tr th:only-of-type {\n",
       "        vertical-align: middle;\n",
       "    }\n",
       "\n",
       "    .dataframe tbody tr th {\n",
       "        vertical-align: top;\n",
       "    }\n",
       "\n",
       "    .dataframe thead th {\n",
       "        text-align: right;\n",
       "    }\n",
       "</style>\n",
       "<table border=\"1\" class=\"dataframe\">\n",
       "  <thead>\n",
       "    <tr style=\"text-align: right;\">\n",
       "      <th></th>\n",
       "      <th>position</th>\n",
       "      <th>score</th>\n",
       "      <th>price_range</th>\n",
       "      <th>zip_code</th>\n",
       "    </tr>\n",
       "  </thead>\n",
       "  <tbody>\n",
       "    <tr>\n",
       "      <th>4</th>\n",
       "      <td>192</td>\n",
       "      <td>4.5</td>\n",
       "      <td>2</td>\n",
       "      <td>78224.0</td>\n",
       "    </tr>\n",
       "    <tr>\n",
       "      <th>8</th>\n",
       "      <td>190</td>\n",
       "      <td>4.2</td>\n",
       "      <td>2</td>\n",
       "      <td>78221.0</td>\n",
       "    </tr>\n",
       "    <tr>\n",
       "      <th>25</th>\n",
       "      <td>215</td>\n",
       "      <td>3.9</td>\n",
       "      <td>2</td>\n",
       "      <td>78232.0</td>\n",
       "    </tr>\n",
       "    <tr>\n",
       "      <th>28</th>\n",
       "      <td>171</td>\n",
       "      <td>4.8</td>\n",
       "      <td>3</td>\n",
       "      <td>78217.0</td>\n",
       "    </tr>\n",
       "    <tr>\n",
       "      <th>29</th>\n",
       "      <td>160</td>\n",
       "      <td>3.2</td>\n",
       "      <td>3</td>\n",
       "      <td>78207.0</td>\n",
       "    </tr>\n",
       "    <tr>\n",
       "      <th>...</th>\n",
       "      <td>...</td>\n",
       "      <td>...</td>\n",
       "      <td>...</td>\n",
       "      <td>...</td>\n",
       "    </tr>\n",
       "    <tr>\n",
       "      <th>1207</th>\n",
       "      <td>100</td>\n",
       "      <td>4.2</td>\n",
       "      <td>2</td>\n",
       "      <td>78204.0</td>\n",
       "    </tr>\n",
       "    <tr>\n",
       "      <th>1208</th>\n",
       "      <td>92</td>\n",
       "      <td>4.8</td>\n",
       "      <td>2</td>\n",
       "      <td>78232.0</td>\n",
       "    </tr>\n",
       "    <tr>\n",
       "      <th>1209</th>\n",
       "      <td>88</td>\n",
       "      <td>4.6</td>\n",
       "      <td>2</td>\n",
       "      <td>78223.0</td>\n",
       "    </tr>\n",
       "    <tr>\n",
       "      <th>1211</th>\n",
       "      <td>33</td>\n",
       "      <td>4.7</td>\n",
       "      <td>2</td>\n",
       "      <td>78232.0</td>\n",
       "    </tr>\n",
       "    <tr>\n",
       "      <th>1214</th>\n",
       "      <td>185</td>\n",
       "      <td>4.5</td>\n",
       "      <td>2</td>\n",
       "      <td>78211.0</td>\n",
       "    </tr>\n",
       "  </tbody>\n",
       "</table>\n",
       "<p>558 rows × 4 columns</p>\n",
       "</div>"
      ],
      "text/plain": [
       "      position  score  price_range  zip_code\n",
       "4          192    4.5            2   78224.0\n",
       "8          190    4.2            2   78221.0\n",
       "25         215    3.9            2   78232.0\n",
       "28         171    4.8            3   78217.0\n",
       "29         160    3.2            3   78207.0\n",
       "...        ...    ...          ...       ...\n",
       "1207       100    4.2            2   78204.0\n",
       "1208        92    4.8            2   78232.0\n",
       "1209        88    4.6            2   78223.0\n",
       "1211        33    4.7            2   78232.0\n",
       "1214       185    4.5            2   78211.0\n",
       "\n",
       "[558 rows x 4 columns]"
      ]
     },
     "execution_count": 12,
     "metadata": {},
     "output_type": "execute_result"
    }
   ],
   "source": [
    "#Convert the 'price_range' column from $ to number values\n",
    "clean_copy['price_range'] = clean_copy['price_range'].replace('$', '2')\n",
    "clean_copy['price_range'] = clean_copy['price_range'].replace('$$', '3')\n",
    "clean_copy['price_range'] = clean_copy['price_range'].replace('$$$', '4')\n",
    "clean_copy['price_range'] = clean_copy['price_range'].replace('$$$$', '5')\n",
    "\n",
    "#convert price_range to int\n",
    "clean_copy['price_range']=clean_copy['price_range'].astype(int)\n",
    "clean_copy"
   ]
  },
  {
   "cell_type": "code",
   "execution_count": 13,
   "metadata": {},
   "outputs": [
    {
     "data": {
      "text/plain": [
       "position         int64\n",
       "score          float64\n",
       "price_range      int32\n",
       "zip_code       float64\n",
       "dtype: object"
      ]
     },
     "execution_count": 13,
     "metadata": {},
     "output_type": "execute_result"
    }
   ],
   "source": [
    "clean_copy.dtypes"
   ]
  },
  {
   "cell_type": "code",
   "execution_count": 14,
   "metadata": {},
   "outputs": [
    {
     "data": {
      "text/html": [
       "<div>\n",
       "<style scoped>\n",
       "    .dataframe tbody tr th:only-of-type {\n",
       "        vertical-align: middle;\n",
       "    }\n",
       "\n",
       "    .dataframe tbody tr th {\n",
       "        vertical-align: top;\n",
       "    }\n",
       "\n",
       "    .dataframe thead th {\n",
       "        text-align: right;\n",
       "    }\n",
       "</style>\n",
       "<table border=\"1\" class=\"dataframe\">\n",
       "  <thead>\n",
       "    <tr style=\"text-align: right;\">\n",
       "      <th></th>\n",
       "      <th>position</th>\n",
       "      <th>score</th>\n",
       "      <th>price_range</th>\n",
       "      <th>zip_code</th>\n",
       "    </tr>\n",
       "  </thead>\n",
       "  <tbody>\n",
       "    <tr>\n",
       "      <th>4</th>\n",
       "      <td>192</td>\n",
       "      <td>4.5</td>\n",
       "      <td>2</td>\n",
       "      <td>78224.0</td>\n",
       "    </tr>\n",
       "    <tr>\n",
       "      <th>8</th>\n",
       "      <td>190</td>\n",
       "      <td>4.2</td>\n",
       "      <td>2</td>\n",
       "      <td>78221.0</td>\n",
       "    </tr>\n",
       "    <tr>\n",
       "      <th>25</th>\n",
       "      <td>215</td>\n",
       "      <td>3.9</td>\n",
       "      <td>2</td>\n",
       "      <td>78232.0</td>\n",
       "    </tr>\n",
       "    <tr>\n",
       "      <th>28</th>\n",
       "      <td>171</td>\n",
       "      <td>4.8</td>\n",
       "      <td>3</td>\n",
       "      <td>78217.0</td>\n",
       "    </tr>\n",
       "    <tr>\n",
       "      <th>29</th>\n",
       "      <td>160</td>\n",
       "      <td>3.2</td>\n",
       "      <td>3</td>\n",
       "      <td>78207.0</td>\n",
       "    </tr>\n",
       "  </tbody>\n",
       "</table>\n",
       "</div>"
      ],
      "text/plain": [
       "    position  score  price_range  zip_code\n",
       "4        192    4.5            2   78224.0\n",
       "8        190    4.2            2   78221.0\n",
       "25       215    3.9            2   78232.0\n",
       "28       171    4.8            3   78217.0\n",
       "29       160    3.2            3   78207.0"
      ]
     },
     "execution_count": 14,
     "metadata": {},
     "output_type": "execute_result"
    }
   ],
   "source": [
    "# Convert categorical data to numeric with `pd.get_dummies`\n",
    "dummies = pd.get_dummies(clean_copy)\n",
    "dummies.head()"
   ]
  },
  {
   "cell_type": "code",
   "execution_count": 14,
   "metadata": {},
   "outputs": [
    {
     "data": {
      "text/html": [
       "<div>\n",
       "<style scoped>\n",
       "    .dataframe tbody tr th:only-of-type {\n",
       "        vertical-align: middle;\n",
       "    }\n",
       "\n",
       "    .dataframe tbody tr th {\n",
       "        vertical-align: top;\n",
       "    }\n",
       "\n",
       "    .dataframe thead th {\n",
       "        text-align: right;\n",
       "    }\n",
       "</style>\n",
       "<table border=\"1\" class=\"dataframe\">\n",
       "  <thead>\n",
       "    <tr style=\"text-align: right;\">\n",
       "      <th></th>\n",
       "      <th>position</th>\n",
       "      <th>score</th>\n",
       "      <th>price_range</th>\n",
       "      <th>zip_code</th>\n",
       "    </tr>\n",
       "  </thead>\n",
       "  <tbody>\n",
       "    <tr>\n",
       "      <th>4</th>\n",
       "      <td>180</td>\n",
       "      <td>15</td>\n",
       "      <td>0</td>\n",
       "      <td>23</td>\n",
       "    </tr>\n",
       "    <tr>\n",
       "      <th>8</th>\n",
       "      <td>179</td>\n",
       "      <td>12</td>\n",
       "      <td>0</td>\n",
       "      <td>20</td>\n",
       "    </tr>\n",
       "    <tr>\n",
       "      <th>25</th>\n",
       "      <td>192</td>\n",
       "      <td>9</td>\n",
       "      <td>0</td>\n",
       "      <td>28</td>\n",
       "    </tr>\n",
       "    <tr>\n",
       "      <th>28</th>\n",
       "      <td>164</td>\n",
       "      <td>18</td>\n",
       "      <td>1</td>\n",
       "      <td>16</td>\n",
       "    </tr>\n",
       "    <tr>\n",
       "      <th>29</th>\n",
       "      <td>153</td>\n",
       "      <td>2</td>\n",
       "      <td>1</td>\n",
       "      <td>6</td>\n",
       "    </tr>\n",
       "  </tbody>\n",
       "</table>\n",
       "</div>"
      ],
      "text/plain": [
       "    position  score  price_range  zip_code\n",
       "4        180     15            0        23\n",
       "8        179     12            0        20\n",
       "25       192      9            0        28\n",
       "28       164     18            1        16\n",
       "29       153      2            1         6"
      ]
     },
     "execution_count": 14,
     "metadata": {},
     "output_type": "execute_result"
    }
   ],
   "source": [
    "# #use LabelEncoder to create categorical variables for training and testing\n",
    "# T = LabelEncoder()                 \n",
    "# clean_copy['position'] = T.fit_transform(clean_copy['position'])\n",
    "# clean_copy['price_range'] = T.fit_transform(clean_copy['price_range'])\n",
    "# clean_copy['zip_code'] = T.fit_transform(clean_copy['zip_code'])\n",
    "# clean_copy['score'] = T.fit_transform(clean_copy['score'])\n",
    "# clean_copy.head()"
   ]
  },
  {
   "cell_type": "code",
   "execution_count": 17,
   "metadata": {},
   "outputs": [
    {
     "data": {
      "text/plain": [
       "Index(['position', 'score', 'price_range', 'zip_code'], dtype='object')"
      ]
     },
     "execution_count": 17,
     "metadata": {},
     "output_type": "execute_result"
    }
   ],
   "source": [
    "dummies.columns"
   ]
  },
  {
   "cell_type": "code",
   "execution_count": 19,
   "metadata": {},
   "outputs": [
    {
     "ename": "NameError",
     "evalue": "name 'train_test_split' is not defined",
     "output_type": "error",
     "traceback": [
      "\u001b[1;31m---------------------------------------------------------------------------\u001b[0m",
      "\u001b[1;31mNameError\u001b[0m                                 Traceback (most recent call last)",
      "\u001b[1;32m~\\AppData\\Local\\Temp\\ipykernel_5228\\2932080287.py\u001b[0m in \u001b[0;36m<module>\u001b[1;34m\u001b[0m\n\u001b[0;32m      4\u001b[0m \u001b[1;33m\u001b[0m\u001b[0m\n\u001b[0;32m      5\u001b[0m \u001b[1;31m# Split the preprocessed data into a training and testing dataset\u001b[0m\u001b[1;33m\u001b[0m\u001b[1;33m\u001b[0m\u001b[0m\n\u001b[1;32m----> 6\u001b[1;33m \u001b[0mX_train\u001b[0m\u001b[1;33m,\u001b[0m \u001b[0mX_test\u001b[0m\u001b[1;33m,\u001b[0m \u001b[0my_train\u001b[0m\u001b[1;33m,\u001b[0m \u001b[0my_test\u001b[0m \u001b[1;33m=\u001b[0m \u001b[0mtrain_test_split\u001b[0m\u001b[1;33m(\u001b[0m\u001b[0mX\u001b[0m\u001b[1;33m,\u001b[0m \u001b[0my\u001b[0m\u001b[1;33m,\u001b[0m \u001b[0mrandom_state\u001b[0m \u001b[1;33m=\u001b[0m \u001b[1;36m42\u001b[0m\u001b[1;33m)\u001b[0m\u001b[1;33m\u001b[0m\u001b[1;33m\u001b[0m\u001b[0m\n\u001b[0m",
      "\u001b[1;31mNameError\u001b[0m: name 'train_test_split' is not defined"
     ]
    }
   ],
   "source": [
    "# Split our preprocessed data into our features and target arrays\n",
    "X = dummies.drop('score', axis=1).values\n",
    "y = dummies['score'].values"
   ]
  },
  {
   "cell_type": "code",
   "execution_count": 16,
   "metadata": {},
   "outputs": [],
   "source": [
    "# #select the 'position','price_range', 'zip_code' and set y=score\n",
    "# X= clean_copy.drop(columns=['score'])\n",
    "# y = clean_copy['score']"
   ]
  },
  {
   "cell_type": "code",
   "execution_count": 20,
   "metadata": {},
   "outputs": [
    {
     "data": {
      "text/plain": [
       "(558, 3)"
      ]
     },
     "execution_count": 20,
     "metadata": {},
     "output_type": "execute_result"
    }
   ],
   "source": [
    "# Reformat data of the independent variable X as a single-column array\n",
    "X.shape"
   ]
  },
  {
   "cell_type": "code",
   "execution_count": 21,
   "metadata": {},
   "outputs": [
    {
     "data": {
      "text/plain": [
       "(558,)"
      ]
     },
     "execution_count": 21,
     "metadata": {},
     "output_type": "execute_result"
    }
   ],
   "source": [
    "# Reformat data of the independent variable y as a single-column array\n",
    "y.shape"
   ]
  },
  {
   "cell_type": "code",
   "execution_count": 22,
   "metadata": {},
   "outputs": [],
   "source": [
    "# Split data into training and testing\n",
    "from sklearn.model_selection import train_test_split\n",
    "X_train, X_test, y_train, y_test = train_test_split(X, y, random_state=42)"
   ]
  },
  {
   "cell_type": "code",
   "execution_count": 23,
   "metadata": {},
   "outputs": [
    {
     "name": "stdout",
     "output_type": "stream",
     "text": [
      "<class 'pandas.core.frame.DataFrame'>\n",
      "Int64Index: 558 entries, 4 to 1214\n",
      "Data columns (total 4 columns):\n",
      " #   Column       Non-Null Count  Dtype  \n",
      "---  ------       --------------  -----  \n",
      " 0   position     558 non-null    int64  \n",
      " 1   score        558 non-null    float64\n",
      " 2   price_range  558 non-null    int32  \n",
      " 3   zip_code     558 non-null    float64\n",
      "dtypes: float64(2), int32(1), int64(1)\n",
      "memory usage: 19.6 KB\n"
     ]
    }
   ],
   "source": [
    "#Check DF info to see what types to call in scaler\n",
    "dummies.info()"
   ]
  },
  {
   "cell_type": "code",
   "execution_count": 21,
   "metadata": {},
   "outputs": [],
   "source": [
    "# #taking numeric values\n",
    "# from sklearn.preprocessing import StandardScaler\n",
    "# num_values1=clean_copy.select_dtypes(['float64', 'int64']).columns\n",
    "# scaler = StandardScaler()\n",
    "# scaler.fit(clean_copy[num_values1])\n",
    "# clean_copy[num_values1]=scaler.transform(clean_copy[num_values1])"
   ]
  },
  {
   "cell_type": "code",
   "execution_count": 24,
   "metadata": {},
   "outputs": [],
   "source": [
    "#taking numeric values\n",
    "from sklearn.preprocessing import StandardScaler\n",
    "\n",
    "# Create a StandardScaler instances\n",
    "scaler = StandardScaler()\n",
    "\n",
    "# Fit the StandardScaler\n",
    "X_scaler = scaler.fit(X_train)\n",
    "\n",
    "# Scale the data\n",
    "X_train_scaled = X_scaler.transform(X_train)\n",
    "X_test_scaled = X_scaler.transform(X_test)"
   ]
  },
  {
   "cell_type": "code",
   "execution_count": 25,
   "metadata": {},
   "outputs": [
    {
     "data": {
      "text/html": [
       "<div>\n",
       "<style scoped>\n",
       "    .dataframe tbody tr th:only-of-type {\n",
       "        vertical-align: middle;\n",
       "    }\n",
       "\n",
       "    .dataframe tbody tr th {\n",
       "        vertical-align: top;\n",
       "    }\n",
       "\n",
       "    .dataframe thead th {\n",
       "        text-align: right;\n",
       "    }\n",
       "</style>\n",
       "<table border=\"1\" class=\"dataframe\">\n",
       "  <thead>\n",
       "    <tr style=\"text-align: right;\">\n",
       "      <th></th>\n",
       "      <th>position</th>\n",
       "      <th>score</th>\n",
       "      <th>price_range</th>\n",
       "      <th>zip_code</th>\n",
       "    </tr>\n",
       "  </thead>\n",
       "  <tbody>\n",
       "    <tr>\n",
       "      <th>4</th>\n",
       "      <td>192</td>\n",
       "      <td>4.5</td>\n",
       "      <td>2</td>\n",
       "      <td>78224.0</td>\n",
       "    </tr>\n",
       "    <tr>\n",
       "      <th>8</th>\n",
       "      <td>190</td>\n",
       "      <td>4.2</td>\n",
       "      <td>2</td>\n",
       "      <td>78221.0</td>\n",
       "    </tr>\n",
       "    <tr>\n",
       "      <th>25</th>\n",
       "      <td>215</td>\n",
       "      <td>3.9</td>\n",
       "      <td>2</td>\n",
       "      <td>78232.0</td>\n",
       "    </tr>\n",
       "    <tr>\n",
       "      <th>28</th>\n",
       "      <td>171</td>\n",
       "      <td>4.8</td>\n",
       "      <td>3</td>\n",
       "      <td>78217.0</td>\n",
       "    </tr>\n",
       "    <tr>\n",
       "      <th>29</th>\n",
       "      <td>160</td>\n",
       "      <td>3.2</td>\n",
       "      <td>3</td>\n",
       "      <td>78207.0</td>\n",
       "    </tr>\n",
       "  </tbody>\n",
       "</table>\n",
       "</div>"
      ],
      "text/plain": [
       "    position  score  price_range  zip_code\n",
       "4        192    4.5            2   78224.0\n",
       "8        190    4.2            2   78221.0\n",
       "25       215    3.9            2   78232.0\n",
       "28       171    4.8            3   78217.0\n",
       "29       160    3.2            3   78207.0"
      ]
     },
     "execution_count": 25,
     "metadata": {},
     "output_type": "execute_result"
    }
   ],
   "source": [
    "#scratch work\n",
    "dummies.head()"
   ]
  },
  {
   "cell_type": "markdown",
   "metadata": {},
   "source": [
    "## Building the Linear Regression Model"
   ]
  },
  {
   "cell_type": "code",
   "execution_count": 23,
   "metadata": {},
   "outputs": [
    {
     "data": {
      "text/plain": [
       "array([16, 17, 16, 16, 16, 17, 16, 15, 17, 17, 15, 16, 16, 16, 15, 17, 16,\n",
       "       16, 17, 15, 15, 16, 16, 15, 17, 16, 16, 17, 15, 15, 17, 16, 16, 17,\n",
       "       15, 17, 16, 16, 17, 17, 16, 15, 16, 16, 17, 16, 17, 16, 16, 16, 16,\n",
       "       15, 16, 16, 17, 16, 16, 17, 16, 16, 17, 15, 16, 15, 16, 15, 15, 16,\n",
       "       17, 16, 16, 16, 15, 16, 16, 15, 17, 16, 16, 17, 16, 15, 17, 17, 16,\n",
       "       17, 16, 17, 15, 16, 16, 16, 16, 15, 15, 15, 15, 17, 15, 17, 16, 15,\n",
       "       15, 15, 17, 16, 16, 16, 17, 15, 16, 16, 16, 16, 17, 15, 16, 16, 15,\n",
       "       16, 16, 16, 16, 16, 17, 16, 16, 15, 15, 16, 17, 17, 16, 16, 16, 16,\n",
       "       16, 15, 15, 16], dtype=int64)"
      ]
     },
     "execution_count": 23,
     "metadata": {},
     "output_type": "execute_result"
    }
   ],
   "source": [
    "# # Fit to the training data and validate with the test data\n",
    "# from sklearn.svm import SVC\n",
    "# model = SVC(kernel='linear')\n",
    "# model.fit(X_train, y_train)\n",
    "# predictions = model.predict(X_test)\n",
    "# predictions"
   ]
  },
  {
   "cell_type": "code",
   "execution_count": 24,
   "metadata": {},
   "outputs": [
    {
     "data": {
      "text/plain": [
       "LinearRegression()"
      ]
     },
     "execution_count": 24,
     "metadata": {},
     "output_type": "execute_result"
    }
   ],
   "source": [
    "# Create a model with scikit-learn\n",
    "model = LinearRegression()\n",
    "\n",
    "# Fit the data into the model\n",
    "model.fit(X, y)"
   ]
  },
  {
   "cell_type": "code",
   "execution_count": 25,
   "metadata": {},
   "outputs": [
    {
     "name": "stdout",
     "output_type": "stream",
     "text": [
      "Model's slope: [-0.00370064 -0.52148921  0.02547386]\n",
      "Model's y-intercept: 15.159938461657116\n",
      "Model's formula: y = 15.159938461657116 + -0.0037006383075297096X\n"
     ]
    }
   ],
   "source": [
    "# Display the slope\n",
    "print(f\"Model's slope: {model.coef_}\")\n",
    "\n",
    "# Display the y-intercept\n",
    "print(f\"Model's y-intercept: {model.intercept_}\")\n",
    "\n",
    "# Display the model's best fit line formula\n",
    "print(f\"Model's formula: y = {model.intercept_} + {model.coef_[0]}X\")"
   ]
  },
  {
   "cell_type": "code",
   "execution_count": 26,
   "metadata": {},
   "outputs": [],
   "source": [
    "# Make predictions using the X set\n",
    "predicted_y_values = model.predict(X)"
   ]
  },
  {
   "cell_type": "code",
   "execution_count": 27,
   "metadata": {},
   "outputs": [
    {
     "data": {
      "text/html": [
       "<div>\n",
       "<style scoped>\n",
       "    .dataframe tbody tr th:only-of-type {\n",
       "        vertical-align: middle;\n",
       "    }\n",
       "\n",
       "    .dataframe tbody tr th {\n",
       "        vertical-align: top;\n",
       "    }\n",
       "\n",
       "    .dataframe thead th {\n",
       "        text-align: right;\n",
       "    }\n",
       "</style>\n",
       "<table border=\"1\" class=\"dataframe\">\n",
       "  <thead>\n",
       "    <tr style=\"text-align: right;\">\n",
       "      <th></th>\n",
       "      <th>position</th>\n",
       "      <th>score</th>\n",
       "      <th>price_range</th>\n",
       "      <th>zip_code</th>\n",
       "      <th>score_predicted</th>\n",
       "    </tr>\n",
       "  </thead>\n",
       "  <tbody>\n",
       "    <tr>\n",
       "      <th>4</th>\n",
       "      <td>1.573931</td>\n",
       "      <td>-0.082964</td>\n",
       "      <td>-0.537626</td>\n",
       "      <td>0.128880</td>\n",
       "      <td>15.079722</td>\n",
       "    </tr>\n",
       "    <tr>\n",
       "      <th>8</th>\n",
       "      <td>1.556966</td>\n",
       "      <td>-1.027738</td>\n",
       "      <td>-0.537626</td>\n",
       "      <td>-0.123453</td>\n",
       "      <td>15.007001</td>\n",
       "    </tr>\n",
       "    <tr>\n",
       "      <th>25</th>\n",
       "      <td>1.777521</td>\n",
       "      <td>-1.972512</td>\n",
       "      <td>-0.537626</td>\n",
       "      <td>0.549435</td>\n",
       "      <td>15.162684</td>\n",
       "    </tr>\n",
       "    <tr>\n",
       "      <th>28</th>\n",
       "      <td>1.302478</td>\n",
       "      <td>0.861810</td>\n",
       "      <td>1.787919</td>\n",
       "      <td>-0.459898</td>\n",
       "      <td>14.439126</td>\n",
       "    </tr>\n",
       "    <tr>\n",
       "      <th>29</th>\n",
       "      <td>1.115854</td>\n",
       "      <td>-4.176984</td>\n",
       "      <td>1.787919</td>\n",
       "      <td>-1.301008</td>\n",
       "      <td>14.225095</td>\n",
       "    </tr>\n",
       "  </tbody>\n",
       "</table>\n",
       "</div>"
      ],
      "text/plain": [
       "    position     score  price_range  zip_code  score_predicted\n",
       "4   1.573931 -0.082964    -0.537626  0.128880        15.079722\n",
       "8   1.556966 -1.027738    -0.537626 -0.123453        15.007001\n",
       "25  1.777521 -1.972512    -0.537626  0.549435        15.162684\n",
       "28  1.302478  0.861810     1.787919 -0.459898        14.439126\n",
       "29  1.115854 -4.176984     1.787919 -1.301008        14.225095"
      ]
     },
     "execution_count": 27,
     "metadata": {},
     "output_type": "execute_result"
    }
   ],
   "source": [
    "# Add a column with the predicted scores\n",
    "clean_copy[\"score_predicted\"] = predicted_y_values\n",
    "\n",
    "# Display sample data\n",
    "clean_copy.head()"
   ]
  },
  {
   "cell_type": "code",
   "execution_count": 28,
   "metadata": {},
   "outputs": [
    {
     "data": {},
     "metadata": {},
     "output_type": "display_data"
    },
    {
     "data": {
      "application/vnd.holoviews_exec.v0+json": "",
      "text/html": [
       "<div id='1002'>\n",
       "  <div class=\"bk-root\" id=\"b080b7a4-bcae-47d6-9741-40a1deef1e06\" data-root-id=\"1002\"></div>\n",
       "</div>\n",
       "<script type=\"application/javascript\">(function(root) {\n",
       "  function embed_document(root) {\n",
       "    var docs_json = {\"bafb998a-1411-4c3b-8c5b-cec2b2a69dbe\":{\"defs\":[{\"extends\":null,\"module\":null,\"name\":\"ReactiveHTML1\",\"overrides\":[],\"properties\":[]},{\"extends\":null,\"module\":null,\"name\":\"FlexBox1\",\"overrides\":[],\"properties\":[{\"default\":\"flex-start\",\"kind\":null,\"name\":\"align_content\"},{\"default\":\"flex-start\",\"kind\":null,\"name\":\"align_items\"},{\"default\":\"row\",\"kind\":null,\"name\":\"flex_direction\"},{\"default\":\"wrap\",\"kind\":null,\"name\":\"flex_wrap\"},{\"default\":\"flex-start\",\"kind\":null,\"name\":\"justify_content\"}]},{\"extends\":null,\"module\":null,\"name\":\"GridStack1\",\"overrides\":[],\"properties\":[{\"default\":\"warn\",\"kind\":null,\"name\":\"mode\"},{\"default\":null,\"kind\":null,\"name\":\"ncols\"},{\"default\":null,\"kind\":null,\"name\":\"nrows\"},{\"default\":true,\"kind\":null,\"name\":\"allow_resize\"},{\"default\":true,\"kind\":null,\"name\":\"allow_drag\"},{\"default\":[],\"kind\":null,\"name\":\"state\"}]},{\"extends\":null,\"module\":null,\"name\":\"click1\",\"overrides\":[],\"properties\":[{\"default\":\"\",\"kind\":null,\"name\":\"terminal_output\"},{\"default\":\"\",\"kind\":null,\"name\":\"debug_name\"},{\"default\":0,\"kind\":null,\"name\":\"clears\"}]},{\"extends\":null,\"module\":null,\"name\":\"NotificationAreaBase1\",\"overrides\":[],\"properties\":[{\"default\":\"bottom-right\",\"kind\":null,\"name\":\"position\"},{\"default\":0,\"kind\":null,\"name\":\"_clear\"}]},{\"extends\":null,\"module\":null,\"name\":\"NotificationArea1\",\"overrides\":[],\"properties\":[{\"default\":[],\"kind\":null,\"name\":\"notifications\"},{\"default\":\"bottom-right\",\"kind\":null,\"name\":\"position\"},{\"default\":0,\"kind\":null,\"name\":\"_clear\"},{\"default\":[{\"background\":\"#ffc107\",\"icon\":{\"className\":\"fas fa-exclamation-triangle\",\"color\":\"white\",\"tagName\":\"i\"},\"type\":\"warning\"},{\"background\":\"#007bff\",\"icon\":{\"className\":\"fas fa-info-circle\",\"color\":\"white\",\"tagName\":\"i\"},\"type\":\"info\"}],\"kind\":null,\"name\":\"types\"}]},{\"extends\":null,\"module\":null,\"name\":\"Notification\",\"overrides\":[],\"properties\":[{\"default\":null,\"kind\":null,\"name\":\"background\"},{\"default\":3000,\"kind\":null,\"name\":\"duration\"},{\"default\":null,\"kind\":null,\"name\":\"icon\"},{\"default\":\"\",\"kind\":null,\"name\":\"message\"},{\"default\":null,\"kind\":null,\"name\":\"notification_type\"},{\"default\":false,\"kind\":null,\"name\":\"_destroyed\"}]},{\"extends\":null,\"module\":null,\"name\":\"TemplateActions1\",\"overrides\":[],\"properties\":[{\"default\":0,\"kind\":null,\"name\":\"open_modal\"},{\"default\":0,\"kind\":null,\"name\":\"close_modal\"}]},{\"extends\":null,\"module\":null,\"name\":\"MaterialTemplateActions1\",\"overrides\":[],\"properties\":[{\"default\":0,\"kind\":null,\"name\":\"open_modal\"},{\"default\":0,\"kind\":null,\"name\":\"close_modal\"}]}],\"roots\":{\"references\":[{\"attributes\":{},\"id\":\"1048\",\"type\":\"AllLabels\"},{\"attributes\":{\"callback\":null,\"renderers\":[{\"id\":\"1137\"}],\"tags\":[\"hv_created\"],\"tooltips\":[[\"zip_code\",\"@{zip_code}\"],[\"score_predicted\",\"@{score_predicted}\"]]},\"id\":\"1100\",\"type\":\"HoverTool\"},{\"attributes\":{},\"id\":\"1108\",\"type\":\"LinearScale\"},{\"attributes\":{\"margin\":[5,5,5,5],\"name\":\"HSpacer01039\",\"sizing_mode\":\"stretch_width\"},\"id\":\"1213\",\"type\":\"Spacer\"},{\"attributes\":{\"overlay\":{\"id\":\"1123\"}},\"id\":\"1121\",\"type\":\"BoxZoomTool\"},{\"attributes\":{},\"id\":\"1106\",\"type\":\"LinearScale\"},{\"attributes\":{\"angle\":{\"value\":0.0},\"fill_alpha\":{\"value\":1.0},\"fill_color\":{\"value\":\"red\"},\"hatch_alpha\":{\"value\":1.0},\"hatch_color\":{\"value\":\"red\"},\"hatch_scale\":{\"value\":12.0},\"hatch_weight\":{\"value\":1.0},\"line_alpha\":{\"value\":1.0},\"line_cap\":{\"value\":\"butt\"},\"line_color\":{\"value\":\"red\"},\"line_dash\":{\"value\":[]},\"line_dash_offset\":{\"value\":0},\"line_join\":{\"value\":\"bevel\"},\"line_width\":{\"value\":1},\"marker\":{\"value\":\"circle\"},\"size\":{\"value\":5.477225575051661},\"x\":{\"field\":\"position\"},\"y\":{\"field\":\"score_predicted\"}},\"id\":\"1045\",\"type\":\"Scatter\"},{\"attributes\":{\"fill_alpha\":{\"value\":0.1},\"fill_color\":{\"value\":\"blue\"},\"hatch_alpha\":{\"value\":0.1},\"hatch_color\":{\"value\":\"blue\"},\"line_alpha\":{\"value\":0.1},\"line_color\":{\"value\":\"blue\"},\"size\":{\"value\":5.477225575051661},\"x\":{\"field\":\"price_range\"},\"y\":{\"field\":\"score_predicted\"}},\"id\":\"1088\",\"type\":\"Scatter\"},{\"attributes\":{},\"id\":\"1038\",\"type\":\"Selection\"},{\"attributes\":{\"below\":[{\"id\":\"1110\"}],\"center\":[{\"id\":\"1113\"},{\"id\":\"1117\"}],\"height\":300,\"left\":[{\"id\":\"1114\"}],\"margin\":null,\"min_border_bottom\":10,\"min_border_left\":10,\"min_border_right\":10,\"min_border_top\":10,\"renderers\":[{\"id\":\"1137\"}],\"sizing_mode\":\"fixed\",\"title\":{\"id\":\"1102\"},\"toolbar\":{\"id\":\"1124\"},\"toolbar_location\":null,\"width\":700,\"x_range\":{\"id\":\"1099\"},\"x_scale\":{\"id\":\"1106\"},\"y_range\":{\"id\":\"1005\"},\"y_scale\":{\"id\":\"1108\"}},\"id\":\"1101\",\"subtype\":\"Figure\",\"type\":\"Plot\"},{\"attributes\":{\"coordinates\":null,\"group\":null,\"text_color\":\"black\",\"text_font_size\":\"12pt\"},\"id\":\"1102\",\"type\":\"Title\"},{\"attributes\":{\"bottom_units\":\"screen\",\"coordinates\":null,\"fill_alpha\":0.5,\"fill_color\":\"lightgrey\",\"group\":null,\"left_units\":\"screen\",\"level\":\"overlay\",\"line_alpha\":1.0,\"line_color\":\"black\",\"line_dash\":[4,4],\"line_width\":2,\"right_units\":\"screen\",\"syncable\":false,\"top_units\":\"screen\"},\"id\":\"1123\",\"type\":\"BoxAnnotation\"},{\"attributes\":{},\"id\":\"1111\",\"type\":\"BasicTicker\"},{\"attributes\":{},\"id\":\"1145\",\"type\":\"AllLabels\"},{\"attributes\":{\"axis_label\":\"Zip Code\",\"coordinates\":null,\"formatter\":{\"id\":\"1141\"},\"group\":null,\"major_label_policy\":{\"id\":\"1142\"},\"ticker\":{\"id\":\"1111\"}},\"id\":\"1110\",\"type\":\"LinearAxis\"},{\"attributes\":{},\"id\":\"1144\",\"type\":\"BasicTickFormatter\"},{\"attributes\":{\"end\":2.359449821114893,\"reset_end\":2.359449821114893,\"reset_start\":-1.6377022772094305,\"start\":-1.6377022772094305,\"tags\":[[[\"position\",\"position\",null]]]},\"id\":\"1004\",\"type\":\"Range1d\"},{\"attributes\":{},\"id\":\"1014\",\"type\":\"LinearScale\"},{\"attributes\":{\"axis\":{\"id\":\"1110\"},\"coordinates\":null,\"grid_line_color\":null,\"group\":null,\"ticker\":null},\"id\":\"1113\",\"type\":\"Grid\"},{\"attributes\":{},\"id\":\"1061\",\"type\":\"LinearScale\"},{\"attributes\":{},\"id\":\"1119\",\"type\":\"PanTool\"},{\"attributes\":{},\"id\":\"1085\",\"type\":\"Selection\"},{\"attributes\":{\"angle\":{\"value\":0.0},\"fill_alpha\":{\"value\":1.0},\"fill_color\":{\"value\":\"blue\"},\"hatch_alpha\":{\"value\":1.0},\"hatch_color\":{\"value\":\"blue\"},\"hatch_scale\":{\"value\":12.0},\"hatch_weight\":{\"value\":1.0},\"line_alpha\":{\"value\":1.0},\"line_cap\":{\"value\":\"butt\"},\"line_color\":{\"value\":\"blue\"},\"line_dash\":{\"value\":[]},\"line_dash_offset\":{\"value\":0},\"line_join\":{\"value\":\"bevel\"},\"line_width\":{\"value\":1},\"marker\":{\"value\":\"circle\"},\"size\":{\"value\":5.477225575051661},\"x\":{\"field\":\"price_range\"},\"y\":{\"field\":\"score_predicted\"}},\"id\":\"1092\",\"type\":\"Scatter\"},{\"attributes\":{\"axis_label\":\"score_predicted\",\"coordinates\":null,\"formatter\":{\"id\":\"1144\"},\"group\":null,\"major_label_policy\":{\"id\":\"1145\"},\"ticker\":{\"id\":\"1115\"}},\"id\":\"1114\",\"type\":\"LinearAxis\"},{\"attributes\":{\"axis\":{\"id\":\"1114\"},\"coordinates\":null,\"dimension\":1,\"grid_line_color\":null,\"group\":null,\"ticker\":null},\"id\":\"1117\",\"type\":\"Grid\"},{\"attributes\":{\"fill_color\":{\"value\":\"blue\"},\"hatch_color\":{\"value\":\"blue\"},\"line_color\":{\"value\":\"blue\"},\"size\":{\"value\":5.477225575051661},\"x\":{\"field\":\"price_range\"},\"y\":{\"field\":\"score_predicted\"}},\"id\":\"1087\",\"type\":\"Scatter\"},{\"attributes\":{},\"id\":\"1115\",\"type\":\"BasicTicker\"},{\"attributes\":{},\"id\":\"1120\",\"type\":\"WheelZoomTool\"},{\"attributes\":{\"coordinates\":null,\"data_source\":{\"id\":\"1084\"},\"glyph\":{\"id\":\"1087\"},\"group\":null,\"hover_glyph\":null,\"muted_glyph\":{\"id\":\"1089\"},\"nonselection_glyph\":{\"id\":\"1088\"},\"selection_glyph\":{\"id\":\"1092\"},\"view\":{\"id\":\"1091\"}},\"id\":\"1090\",\"type\":\"GlyphRenderer\"},{\"attributes\":{},\"id\":\"1047\",\"type\":\"BasicTickFormatter\"},{\"attributes\":{},\"id\":\"1118\",\"type\":\"SaveTool\"},{\"attributes\":{\"source\":{\"id\":\"1084\"}},\"id\":\"1091\",\"type\":\"CDSView\"},{\"attributes\":{\"fill_alpha\":{\"value\":0.2},\"fill_color\":{\"value\":\"blue\"},\"hatch_alpha\":{\"value\":0.2},\"hatch_color\":{\"value\":\"blue\"},\"line_alpha\":{\"value\":0.2},\"line_color\":{\"value\":\"blue\"},\"size\":{\"value\":5.477225575051661},\"x\":{\"field\":\"price_range\"},\"y\":{\"field\":\"score_predicted\"}},\"id\":\"1089\",\"type\":\"Scatter\"},{\"attributes\":{},\"id\":\"1175\",\"type\":\"UnionRenderers\"},{\"attributes\":{},\"id\":\"1050\",\"type\":\"BasicTickFormatter\"},{\"attributes\":{\"fill_alpha\":{\"value\":0.1},\"fill_color\":{\"value\":\"green\"},\"hatch_alpha\":{\"value\":0.1},\"hatch_color\":{\"value\":\"green\"},\"line_alpha\":{\"value\":0.1},\"line_color\":{\"value\":\"green\"},\"size\":{\"value\":5.477225575051661},\"x\":{\"field\":\"zip_code\"},\"y\":{\"field\":\"score_predicted\"}},\"id\":\"1135\",\"type\":\"Scatter\"},{\"attributes\":{\"end\":16.38365325973456,\"reset_end\":16.38365325973456,\"reset_start\":13.92652635067942,\"start\":13.92652635067942,\"tags\":[[[\"score_predicted\",\"score_predicted\",null]]]},\"id\":\"1005\",\"type\":\"Range1d\"},{\"attributes\":{\"coordinates\":null,\"group\":null,\"text\":\"Predicted Scores Line Plot\",\"text_color\":\"black\",\"text_font_size\":\"12pt\"},\"id\":\"1008\",\"type\":\"Title\"},{\"attributes\":{\"below\":[{\"id\":\"1016\"}],\"center\":[{\"id\":\"1019\"},{\"id\":\"1023\"}],\"height\":300,\"left\":[{\"id\":\"1020\"}],\"margin\":null,\"min_border_bottom\":10,\"min_border_left\":10,\"min_border_right\":10,\"min_border_top\":10,\"renderers\":[{\"id\":\"1043\"}],\"sizing_mode\":\"fixed\",\"title\":{\"id\":\"1008\"},\"toolbar\":{\"id\":\"1030\"},\"toolbar_location\":null,\"width\":700,\"x_range\":{\"id\":\"1004\"},\"x_scale\":{\"id\":\"1012\"},\"y_range\":{\"id\":\"1005\"},\"y_scale\":{\"id\":\"1014\"}},\"id\":\"1007\",\"subtype\":\"Figure\",\"type\":\"Plot\"},{\"attributes\":{\"children\":[{\"id\":\"1003\"},{\"id\":\"1182\"},{\"id\":\"1213\"}],\"margin\":[0,0,0,0],\"name\":\"Row01034\",\"tags\":[\"embedded\"]},\"id\":\"1002\",\"type\":\"Row\"},{\"attributes\":{\"callback\":null,\"renderers\":[{\"id\":\"1043\"}],\"tags\":[\"hv_created\"],\"tooltips\":[[\"position\",\"@{position}\"],[\"score_predicted\",\"@{score_predicted}\"]]},\"id\":\"1006\",\"type\":\"HoverTool\"},{\"attributes\":{},\"id\":\"1012\",\"type\":\"LinearScale\"},{\"attributes\":{},\"id\":\"1164\",\"type\":\"UnionRenderers\"},{\"attributes\":{},\"id\":\"1141\",\"type\":\"BasicTickFormatter\"},{\"attributes\":{\"below\":[{\"id\":\"1063\"}],\"center\":[{\"id\":\"1066\"},{\"id\":\"1070\"}],\"height\":300,\"left\":[{\"id\":\"1067\"}],\"margin\":null,\"min_border_bottom\":10,\"min_border_left\":10,\"min_border_right\":10,\"min_border_top\":10,\"renderers\":[{\"id\":\"1090\"}],\"sizing_mode\":\"fixed\",\"title\":{\"id\":\"1055\"},\"toolbar\":{\"id\":\"1077\"},\"toolbar_location\":null,\"width\":700,\"x_range\":{\"id\":\"1052\"},\"x_scale\":{\"id\":\"1059\"},\"y_range\":{\"id\":\"1005\"},\"y_scale\":{\"id\":\"1061\"}},\"id\":\"1054\",\"subtype\":\"Figure\",\"type\":\"Plot\"},{\"attributes\":{},\"id\":\"1051\",\"type\":\"AllLabels\"},{\"attributes\":{},\"id\":\"1025\",\"type\":\"PanTool\"},{\"attributes\":{\"axis_label\":\"Position\",\"coordinates\":null,\"formatter\":{\"id\":\"1047\"},\"group\":null,\"major_label_policy\":{\"id\":\"1048\"},\"ticker\":{\"id\":\"1017\"}},\"id\":\"1016\",\"type\":\"LinearAxis\"},{\"attributes\":{\"axis\":{\"id\":\"1016\"},\"coordinates\":null,\"grid_line_color\":null,\"group\":null,\"ticker\":null},\"id\":\"1019\",\"type\":\"Grid\"},{\"attributes\":{},\"id\":\"1017\",\"type\":\"BasicTicker\"},{\"attributes\":{\"data\":{\"position\":{\"__ndarray__\":\"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\",\"dtype\":\"float64\",\"order\":\"little\",\"shape\":[558]},\"score_predicted\":{\"__ndarray__\":\"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\",\"dtype\":\"float64\",\"order\":\"little\",\"shape\":[558]}},\"selected\":{\"id\":\"1038\"},\"selection_policy\":{\"id\":\"1153\"}},\"id\":\"1037\",\"type\":\"ColumnDataSource\"},{\"attributes\":{},\"id\":\"1098\",\"type\":\"AllLabels\"},{\"attributes\":{\"axis_label\":\"Predicted Score\",\"coordinates\":null,\"formatter\":{\"id\":\"1050\"},\"group\":null,\"major_label_policy\":{\"id\":\"1051\"},\"ticker\":{\"id\":\"1021\"}},\"id\":\"1020\",\"type\":\"LinearAxis\"},{\"attributes\":{},\"id\":\"1094\",\"type\":\"BasicTickFormatter\"},{\"attributes\":{\"axis\":{\"id\":\"1020\"},\"coordinates\":null,\"dimension\":1,\"grid_line_color\":null,\"group\":null,\"ticker\":null},\"id\":\"1023\",\"type\":\"Grid\"},{\"attributes\":{},\"id\":\"1021\",\"type\":\"BasicTicker\"},{\"attributes\":{},\"id\":\"1153\",\"type\":\"UnionRenderers\"},{\"attributes\":{},\"id\":\"1026\",\"type\":\"WheelZoomTool\"},{\"attributes\":{\"end\":4.312796644481533,\"reset_end\":4.312796644481533,\"reset_start\":-0.7369584591704964,\"start\":-0.7369584591704964,\"tags\":[[[\"price_range\",\"price_range\",null]]]},\"id\":\"1052\",\"type\":\"Range1d\"},{\"attributes\":{\"toolbar\":{\"id\":\"1180\"},\"toolbar_location\":\"above\"},\"id\":\"1181\",\"type\":\"ToolbarBox\"},{\"attributes\":{},\"id\":\"1024\",\"type\":\"SaveTool\"},{\"attributes\":{\"data\":{\"score_predicted\":{\"__ndarray__\":\"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\",\"dtype\":\"float64\",\"order\":\"little\",\"shape\":[558]},\"zip_code\":{\"__ndarray__\":\"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\",\"dtype\":\"float64\",\"order\":\"little\",\"shape\":[558]}},\"selected\":{\"id\":\"1132\"},\"selection_policy\":{\"id\":\"1175\"}},\"id\":\"1131\",\"type\":\"ColumnDataSource\"},{\"attributes\":{\"overlay\":{\"id\":\"1029\"}},\"id\":\"1027\",\"type\":\"BoxZoomTool\"},{\"attributes\":{},\"id\":\"1059\",\"type\":\"LinearScale\"},{\"attributes\":{},\"id\":\"1028\",\"type\":\"ResetTool\"},{\"attributes\":{\"bottom_units\":\"screen\",\"coordinates\":null,\"fill_alpha\":0.5,\"fill_color\":\"lightgrey\",\"group\":null,\"left_units\":\"screen\",\"level\":\"overlay\",\"line_alpha\":1.0,\"line_color\":\"black\",\"line_dash\":[4,4],\"line_width\":2,\"right_units\":\"screen\",\"syncable\":false,\"top_units\":\"screen\"},\"id\":\"1029\",\"type\":\"BoxAnnotation\"},{\"attributes\":{\"callback\":null,\"renderers\":[{\"id\":\"1090\"}],\"tags\":[\"hv_created\"],\"tooltips\":[[\"price_range\",\"@{price_range}\"],[\"score_predicted\",\"@{score_predicted}\"]]},\"id\":\"1053\",\"type\":\"HoverTool\"},{\"attributes\":{},\"id\":\"1122\",\"type\":\"ResetTool\"},{\"attributes\":{\"tools\":[{\"id\":\"1006\"},{\"id\":\"1024\"},{\"id\":\"1025\"},{\"id\":\"1026\"},{\"id\":\"1027\"},{\"id\":\"1028\"}]},\"id\":\"1030\",\"type\":\"Toolbar\"},{\"attributes\":{\"coordinates\":null,\"group\":null,\"text_color\":\"black\",\"text_font_size\":\"12pt\"},\"id\":\"1055\",\"type\":\"Title\"},{\"attributes\":{},\"id\":\"1064\",\"type\":\"BasicTicker\"},{\"attributes\":{\"axis_label\":\"Price Range\",\"coordinates\":null,\"formatter\":{\"id\":\"1094\"},\"group\":null,\"major_label_policy\":{\"id\":\"1095\"},\"ticker\":{\"id\":\"1064\"}},\"id\":\"1063\",\"type\":\"LinearAxis\"},{\"attributes\":{\"axis\":{\"id\":\"1063\"},\"coordinates\":null,\"grid_line_color\":null,\"group\":null,\"ticker\":null},\"id\":\"1066\",\"type\":\"Grid\"},{\"attributes\":{\"children\":[[{\"id\":\"1007\"},0,0],[{\"id\":\"1054\"},0,1],[{\"id\":\"1101\"},0,2]]},\"id\":\"1179\",\"type\":\"GridBox\"},{\"attributes\":{\"data\":{\"price_range\":{\"__ndarray__\":\"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\",\"dtype\":\"float64\",\"order\":\"little\",\"shape\":[558]},\"score_predicted\":{\"__ndarray__\":\"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\",\"dtype\":\"float64\",\"order\":\"little\",\"shape\":[558]}},\"selected\":{\"id\":\"1085\"},\"selection_policy\":{\"id\":\"1164\"}},\"id\":\"1084\",\"type\":\"ColumnDataSource\"},{\"attributes\":{},\"id\":\"1072\",\"type\":\"PanTool\"},{\"attributes\":{\"fill_alpha\":{\"value\":0.1},\"fill_color\":{\"value\":\"red\"},\"hatch_alpha\":{\"value\":0.1},\"hatch_color\":{\"value\":\"red\"},\"line_alpha\":{\"value\":0.1},\"line_color\":{\"value\":\"red\"},\"size\":{\"value\":5.477225575051661},\"x\":{\"field\":\"position\"},\"y\":{\"field\":\"score_predicted\"}},\"id\":\"1041\",\"type\":\"Scatter\"},{\"attributes\":{},\"id\":\"1132\",\"type\":\"Selection\"},{\"attributes\":{},\"id\":\"1142\",\"type\":\"AllLabels\"},{\"attributes\":{\"coordinates\":null,\"data_source\":{\"id\":\"1131\"},\"glyph\":{\"id\":\"1134\"},\"group\":null,\"hover_glyph\":null,\"muted_glyph\":{\"id\":\"1136\"},\"nonselection_glyph\":{\"id\":\"1135\"},\"selection_glyph\":{\"id\":\"1139\"},\"view\":{\"id\":\"1138\"}},\"id\":\"1137\",\"type\":\"GlyphRenderer\"},{\"attributes\":{\"axis_label\":\"score_predicted\",\"coordinates\":null,\"formatter\":{\"id\":\"1097\"},\"group\":null,\"major_label_policy\":{\"id\":\"1098\"},\"ticker\":{\"id\":\"1068\"}},\"id\":\"1067\",\"type\":\"LinearAxis\"},{\"attributes\":{\"axis\":{\"id\":\"1067\"},\"coordinates\":null,\"dimension\":1,\"grid_line_color\":null,\"group\":null,\"ticker\":null},\"id\":\"1070\",\"type\":\"Grid\"},{\"attributes\":{\"tools\":[{\"id\":\"1100\"},{\"id\":\"1118\"},{\"id\":\"1119\"},{\"id\":\"1120\"},{\"id\":\"1121\"},{\"id\":\"1122\"}]},\"id\":\"1124\",\"type\":\"Toolbar\"},{\"attributes\":{\"source\":{\"id\":\"1037\"}},\"id\":\"1044\",\"type\":\"CDSView\"},{\"attributes\":{},\"id\":\"1068\",\"type\":\"BasicTicker\"},{\"attributes\":{\"fill_alpha\":{\"value\":0.2},\"fill_color\":{\"value\":\"green\"},\"hatch_alpha\":{\"value\":0.2},\"hatch_color\":{\"value\":\"green\"},\"line_alpha\":{\"value\":0.2},\"line_color\":{\"value\":\"green\"},\"size\":{\"value\":5.477225575051661},\"x\":{\"field\":\"zip_code\"},\"y\":{\"field\":\"score_predicted\"}},\"id\":\"1136\",\"type\":\"Scatter\"},{\"attributes\":{\"coordinates\":null,\"data_source\":{\"id\":\"1037\"},\"glyph\":{\"id\":\"1040\"},\"group\":null,\"hover_glyph\":null,\"muted_glyph\":{\"id\":\"1042\"},\"nonselection_glyph\":{\"id\":\"1041\"},\"selection_glyph\":{\"id\":\"1045\"},\"view\":{\"id\":\"1044\"}},\"id\":\"1043\",\"type\":\"GlyphRenderer\"},{\"attributes\":{},\"id\":\"1073\",\"type\":\"WheelZoomTool\"},{\"attributes\":{},\"id\":\"1095\",\"type\":\"AllLabels\"},{\"attributes\":{\"bottom_units\":\"screen\",\"coordinates\":null,\"fill_alpha\":0.5,\"fill_color\":\"lightgrey\",\"group\":null,\"left_units\":\"screen\",\"level\":\"overlay\",\"line_alpha\":1.0,\"line_color\":\"black\",\"line_dash\":[4,4],\"line_width\":2,\"right_units\":\"screen\",\"syncable\":false,\"top_units\":\"screen\"},\"id\":\"1076\",\"type\":\"BoxAnnotation\"},{\"attributes\":{},\"id\":\"1071\",\"type\":\"SaveTool\"},{\"attributes\":{\"fill_alpha\":{\"value\":0.2},\"fill_color\":{\"value\":\"red\"},\"hatch_alpha\":{\"value\":0.2},\"hatch_color\":{\"value\":\"red\"},\"line_alpha\":{\"value\":0.2},\"line_color\":{\"value\":\"red\"},\"size\":{\"value\":5.477225575051661},\"x\":{\"field\":\"position\"},\"y\":{\"field\":\"score_predicted\"}},\"id\":\"1042\",\"type\":\"Scatter\"},{\"attributes\":{\"children\":[{\"id\":\"1181\"},{\"id\":\"1179\"}]},\"id\":\"1182\",\"type\":\"Column\"},{\"attributes\":{\"end\":1.9661058779430973,\"reset_end\":1.9661058779430973,\"reset_start\":-1.9606793575008603,\"start\":-1.9606793575008603,\"tags\":[[[\"zip_code\",\"zip_code\",null]]]},\"id\":\"1099\",\"type\":\"Range1d\"},{\"attributes\":{\"fill_color\":{\"value\":\"red\"},\"hatch_color\":{\"value\":\"red\"},\"line_color\":{\"value\":\"red\"},\"size\":{\"value\":5.477225575051661},\"x\":{\"field\":\"position\"},\"y\":{\"field\":\"score_predicted\"}},\"id\":\"1040\",\"type\":\"Scatter\"},{\"attributes\":{\"source\":{\"id\":\"1131\"}},\"id\":\"1138\",\"type\":\"CDSView\"},{\"attributes\":{\"overlay\":{\"id\":\"1076\"}},\"id\":\"1074\",\"type\":\"BoxZoomTool\"},{\"attributes\":{\"margin\":[5,5,5,5],\"name\":\"HSpacer01038\",\"sizing_mode\":\"stretch_width\"},\"id\":\"1003\",\"type\":\"Spacer\"},{\"attributes\":{\"angle\":{\"value\":0.0},\"fill_alpha\":{\"value\":1.0},\"fill_color\":{\"value\":\"green\"},\"hatch_alpha\":{\"value\":1.0},\"hatch_color\":{\"value\":\"green\"},\"hatch_scale\":{\"value\":12.0},\"hatch_weight\":{\"value\":1.0},\"line_alpha\":{\"value\":1.0},\"line_cap\":{\"value\":\"butt\"},\"line_color\":{\"value\":\"green\"},\"line_dash\":{\"value\":[]},\"line_dash_offset\":{\"value\":0},\"line_join\":{\"value\":\"bevel\"},\"line_width\":{\"value\":1},\"marker\":{\"value\":\"circle\"},\"size\":{\"value\":5.477225575051661},\"x\":{\"field\":\"zip_code\"},\"y\":{\"field\":\"score_predicted\"}},\"id\":\"1139\",\"type\":\"Scatter\"},{\"attributes\":{},\"id\":\"1075\",\"type\":\"ResetTool\"},{\"attributes\":{},\"id\":\"1097\",\"type\":\"BasicTickFormatter\"},{\"attributes\":{\"fill_color\":{\"value\":\"green\"},\"hatch_color\":{\"value\":\"green\"},\"line_color\":{\"value\":\"green\"},\"size\":{\"value\":5.477225575051661},\"x\":{\"field\":\"zip_code\"},\"y\":{\"field\":\"score_predicted\"}},\"id\":\"1134\",\"type\":\"Scatter\"},{\"attributes\":{\"toolbars\":[{\"id\":\"1030\"},{\"id\":\"1077\"},{\"id\":\"1124\"}],\"tools\":[{\"id\":\"1006\"},{\"id\":\"1024\"},{\"id\":\"1025\"},{\"id\":\"1026\"},{\"id\":\"1027\"},{\"id\":\"1028\"},{\"id\":\"1053\"},{\"id\":\"1071\"},{\"id\":\"1072\"},{\"id\":\"1073\"},{\"id\":\"1074\"},{\"id\":\"1075\"},{\"id\":\"1100\"},{\"id\":\"1118\"},{\"id\":\"1119\"},{\"id\":\"1120\"},{\"id\":\"1121\"},{\"id\":\"1122\"}]},\"id\":\"1180\",\"type\":\"ProxyToolbar\"},{\"attributes\":{\"tools\":[{\"id\":\"1053\"},{\"id\":\"1071\"},{\"id\":\"1072\"},{\"id\":\"1073\"},{\"id\":\"1074\"},{\"id\":\"1075\"}]},\"id\":\"1077\",\"type\":\"Toolbar\"}],\"root_ids\":[\"1002\"]},\"title\":\"Bokeh Application\",\"version\":\"2.4.3\"}};\n",
       "    var render_items = [{\"docid\":\"bafb998a-1411-4c3b-8c5b-cec2b2a69dbe\",\"root_ids\":[\"1002\"],\"roots\":{\"1002\":\"b080b7a4-bcae-47d6-9741-40a1deef1e06\"}}];\n",
       "    root.Bokeh.embed.embed_items_notebook(docs_json, render_items);\n",
       "  }\n",
       "  if (root.Bokeh !== undefined && root.Bokeh.Panel !== undefined) {\n",
       "    embed_document(root);\n",
       "  } else {\n",
       "    var attempts = 0;\n",
       "    var timer = setInterval(function(root) {\n",
       "      if (root.Bokeh !== undefined && root.Bokeh.Panel !== undefined) {\n",
       "        clearInterval(timer);\n",
       "        embed_document(root);\n",
       "      } else if (document.readyState == \"complete\") {\n",
       "        attempts++;\n",
       "        if (attempts > 200) {\n",
       "          clearInterval(timer);\n",
       "          console.log(\"Bokeh: ERROR: Unable to run BokehJS code because BokehJS library is missing\");\n",
       "        }\n",
       "      }\n",
       "    }, 25, root)\n",
       "  }\n",
       "})(window);</script>"
      ],
      "text/plain": [
       ":Layout\n",
       "   .Scatter.I   :Scatter   [position]   (score_predicted)\n",
       "   .Scatter.II  :Scatter   [price_range]   (score_predicted)\n",
       "   .Scatter.III :Scatter   [zip_code]   (score_predicted)"
      ]
     },
     "execution_count": 28,
     "metadata": {
      "application/vnd.holoviews_exec.v0+json": {
       "id": "1002"
      }
     },
     "output_type": "execute_result"
    }
   ],
   "source": [
    "#Create separate line plots for each x-axis column and store them in a list\n",
    "best_fit_line = clean_copy.hvplot.scatter(\n",
    "    x='position', y='score_predicted', color='red', xlabel=\"Position\",\n",
    "    ylabel=\"Predicted Score\", title=\"Predicted Scores Line Plot\"\n",
    ") + clean_copy.hvplot.scatter(\n",
    "    x='price_range', y='score_predicted', color='blue', xlabel=\"Price Range\"\n",
    ") + clean_copy.hvplot.scatter(\n",
    "    x='zip_code', y='score_predicted', color='green', xlabel=\"Zip Code\"\n",
    ")\n",
    "best_fit_line"
   ]
  },
  {
   "cell_type": "code",
   "execution_count": 26,
   "metadata": {},
   "outputs": [
    {
     "ename": "NameError",
     "evalue": "name 'tf' is not defined",
     "output_type": "error",
     "traceback": [
      "\u001b[1;31m---------------------------------------------------------------------------\u001b[0m",
      "\u001b[1;31mNameError\u001b[0m                                 Traceback (most recent call last)",
      "\u001b[1;32m~\\AppData\\Local\\Temp\\ipykernel_5228\\340364857.py\u001b[0m in \u001b[0;36m<module>\u001b[1;34m\u001b[0m\n\u001b[0;32m      1\u001b[0m \u001b[1;31m# Define the model - deep neural net, i.e., the number of input features and hidden nodes for each layer.\u001b[0m\u001b[1;33m\u001b[0m\u001b[1;33m\u001b[0m\u001b[0m\n\u001b[0;32m      2\u001b[0m \u001b[0minput_dim\u001b[0m \u001b[1;33m=\u001b[0m \u001b[0mX_train_scaled\u001b[0m\u001b[1;33m.\u001b[0m\u001b[0mshape\u001b[0m\u001b[1;33m[\u001b[0m\u001b[1;36m1\u001b[0m\u001b[1;33m]\u001b[0m\u001b[1;33m\u001b[0m\u001b[1;33m\u001b[0m\u001b[0m\n\u001b[1;32m----> 3\u001b[1;33m \u001b[0mnn\u001b[0m \u001b[1;33m=\u001b[0m \u001b[0mtf\u001b[0m\u001b[1;33m.\u001b[0m\u001b[0mkeras\u001b[0m\u001b[1;33m.\u001b[0m\u001b[0mmodels\u001b[0m\u001b[1;33m.\u001b[0m\u001b[0mSequential\u001b[0m\u001b[1;33m(\u001b[0m\u001b[1;33m)\u001b[0m\u001b[1;33m\u001b[0m\u001b[1;33m\u001b[0m\u001b[0m\n\u001b[0m\u001b[0;32m      4\u001b[0m \u001b[1;33m\u001b[0m\u001b[0m\n\u001b[0;32m      5\u001b[0m \u001b[1;31m# First hidden layer\u001b[0m\u001b[1;33m\u001b[0m\u001b[1;33m\u001b[0m\u001b[0m\n",
      "\u001b[1;31mNameError\u001b[0m: name 'tf' is not defined"
     ]
    }
   ],
   "source": [
    "# Define the model - deep neural net, i.e., the number of input features and hidden nodes for each layer.\n",
    "input_dim = X_train_scaled.shape[1]\n",
    "nn = tf.keras.models.Sequential()\n",
    "\n",
    "# First hidden layer\n",
    "nn.add(tf.keras.layers.Dense(7, input_dim=input_dim, activation='relu'))\n",
    "\n",
    "# Second hidden layer\n",
    "nn.add(tf.keras.layers.Dense(14, activation='relu'))\n",
    "\n",
    "# Third hidden layer\n",
    "nn.add(tf.keras.layers.Dense(21, activation='relu'))\n",
    "\n",
    "# Output layer\n",
    "nn.add(tf.keras.layers.Dense(1, activation='sigmoid'))\n",
    "\n",
    "# Check the structure of the model\n",
    "nn.summary()"
   ]
  },
  {
   "cell_type": "code",
   "execution_count": null,
   "metadata": {},
   "outputs": [],
   "source": []
  },
  {
   "cell_type": "markdown",
   "metadata": {},
   "source": [
    "## Linear Regression Model Assessment"
   ]
  },
  {
   "cell_type": "code",
   "execution_count": 29,
   "metadata": {},
   "outputs": [
    {
     "name": "stdout",
     "output_type": "stream",
     "text": [
      "The score is 0.016279069593261752.\n",
      "The r2 is 0.016279069593261752.\n",
      "The mean squared error is 9.918787964876056.\n",
      "The root mean squared error is 3.1494107329587955.\n",
      "The standard deviation is 3.1753627607366535.\n"
     ]
    }
   ],
   "source": [
    "# Compute the metrics for the linear regression model\n",
    "score = model.score(X, y, sample_weight=None)\n",
    "r2 = r2_score(y, predicted_y_values)\n",
    "mse = mean_squared_error(y, predicted_y_values)\n",
    "rmse = np.sqrt(mse)\n",
    "std = np.std(y)\n",
    "\n",
    "# Print relevant metrics.\n",
    "print(f\"The score is {score}.\")\n",
    "print(f\"The r2 is {r2}.\")\n",
    "print(f\"The mean squared error is {mse}.\")\n",
    "print(f\"The root mean squared error is {rmse}.\")\n",
    "print(f\"The standard deviation is {std}.\")"
   ]
  },
  {
   "cell_type": "code",
   "execution_count": 30,
   "metadata": {},
   "outputs": [],
   "source": [
    "#Run rfr to refine the prediction model\n",
    "from sklearn.ensemble import RandomForestRegressor\n",
    "\n",
    "# Initialize the Random Forest Regressor\n",
    "rfr = RandomForestRegressor(random_state=42)\n",
    "\n",
    "# Fit the model with the training data\n",
    "rfr.fit(X_train,y_train)\n",
    "\n",
    "# Now the model is trained and can be used for predictions\n",
    "y_pred_rfr = rfr.predict(X_test)"
   ]
  },
  {
   "cell_type": "code",
   "execution_count": 31,
   "metadata": {},
   "outputs": [
    {
     "data": {
      "text/plain": [
       "-3.6843350101195327"
      ]
     },
     "execution_count": 31,
     "metadata": {},
     "output_type": "execute_result"
    }
   ],
   "source": [
    "#Multiply by 100 to set the decimal point\n",
    "rfr.score(X_test,y_test)*100"
   ]
  },
  {
   "cell_type": "code",
   "execution_count": 33,
   "metadata": {},
   "outputs": [
    {
     "data": {
      "image/png": "[encoded data removed]",
      "text/plain": [
       "<Figure size 1200x700 with 1 Axes>"
      ]
     },
     "metadata": {},
     "output_type": "display_data"
    }
   ],
   "source": [
    "# Create the scatter plot for True score (y_test) versus Predicted score (preds_rf)\n",
    "plt.figure(figsize=(12,7))\n",
    "preds_rf = rfr.predict(X_test)\n",
    "plt.scatter(y_test,X_test.iloc[:,2],color=\"red\", label='True Score')\n",
    "plt.title(\"True Score vs Predicted Score\",size=20,pad=15)\n",
    "plt.xlabel('Score',size = 15)\n",
    "plt.ylabel('Frequency',size = 15)\n",
    "plt.scatter(preds_rf,X_test.iloc[:,2],color=\"green\", label='Predicted Score')\n",
    "plt.legend()\n",
    "plt.show()"
   ]
  },
  {
   "cell_type": "code",
   "execution_count": 43,
   "metadata": {},
   "outputs": [
    {
     "name": "stdout",
     "output_type": "stream",
     "text": [
      "R-squared: -0.04\n",
      "Accuracy: -3.68%\n"
     ]
    }
   ],
   "source": [
    "# target values y_test and predicted target values y_pred_rfr\n",
    "r_squared = r2_score(y_test, y_pred_rfr)\n",
    "\n",
    "print(f\"R-squared: {r_squared:.2f}\")\n",
    "\n",
    "accuracy_percentage = r2_score(y_test, y_pred_rfr) * 100\n",
    "print(f\"Accuracy: {accuracy_percentage:.2f}%\")\n"
   ]
  },
  {
   "cell_type": "markdown",
   "metadata": {},
   "source": [
    "This scatter plot lets us know that if we had decided to keep the null values in our dataset, we could have predicted a restaurant's score with __% accuracy. ---NOT ACCURATE -3.7%"
   ]
  }
 ],
 "metadata": {
  "anaconda-cloud": {},
  "kernel_info": {
   "name": "python3"
  },
  "kernelspec": {
   "display_name": "Python 3 (ipykernel)",
   "language": "python",
   "name": "python3"
  },
  "language_info": {
   "codemirror_mode": {
    "name": "ipython",
    "version": 3
   },
   "file_extension": ".py",
   "mimetype": "text/x-python",
   "name": "python",
   "nbconvert_exporter": "python",
   "pygments_lexer": "ipython3",
   "version": "3.9.13"
  },
  "latex_envs": {
   "LaTeX_envs_menu_present": true,
   "autoclose": false,
   "autocomplete": true,
   "bibliofile": "biblio.bib",
   "cite_by": "apalike",
   "current_citInitial": 1,
   "eqLabelWithNumbers": true,
   "eqNumInitial": 1,
   "hotkeys": {
    "equation": "Ctrl-E",
    "itemize": "Ctrl-I"
   },
   "labels_anchors": false,
   "latex_user_defs": false,
   "report_style_numbering": false,
   "user_envs_cfg": false
  },
  "nteract": {
   "version": "0.8.4"
  },
  "vscode": {
   "interpreter": {
    "hash": "5384d77d82de63fd599f73e77f9ec786e7719288bf80a29ec0288c670ac3cf32"
   }
  }
 },
 "nbformat": 4,
 "nbformat_minor": 4
}
